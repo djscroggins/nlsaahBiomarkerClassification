{
 "cells": [
  {
   "cell_type": "code",
   "execution_count": 1,
   "metadata": {},
   "outputs": [
    {
     "name": "stdout",
     "output_type": "stream",
     "text": [
      "/Users/davidscroggins/Google Drive/DePaul/csc478_machineLearning/csc478_project/csc478_projectData/dataSets\n"
     ]
    }
   ],
   "source": [
    "cd dataSets"
   ]
  },
  {
   "cell_type": "code",
   "execution_count": 2,
   "metadata": {},
   "outputs": [
    {
     "name": "stdout",
     "output_type": "stream",
     "text": [
      "glucoseHomeostasis.tsv             wave2_publicUseContDB.tsv\r\n",
      "inflammationAndImmuneFunction.tsv  wave3_inHomeQuest.tsv\r\n",
      "lipids.tsv                         wave4_inHomeQuest.tsv\r\n",
      "wave1_inHomeQuest.tsv              wave4_inHomeQuest_16b.tsv\r\n",
      "wave1_publicUseContDB.tsv          wave4_inHomeQuest_16c.tsv\r\n",
      "wave2_inHomeQuest.tsv\r\n"
     ]
    }
   ],
   "source": [
    "ls"
   ]
  },
  {
   "cell_type": "code",
   "execution_count": 3,
   "metadata": {
    "collapsed": true
   },
   "outputs": [],
   "source": [
    "import pandas as pd"
   ]
  },
  {
   "cell_type": "markdown",
   "metadata": {},
   "source": [
    "NB: There is some numpy wonkiness going on behind the scenes here. You'll see it if you look at the data types of the data frames. For some reason, numpy infers the data type as a float for any column that contains an NaN. We can't force the issue by specifying dtype='int' in read_csv, because then numpy throws an error when it can't convert the NaN to an int.\n",
    "\n",
    "I didn't drop the NaN values, because we won't be keeping all of these columns, and I didn't want to prematurely prune the dataset.\n",
    "\n",
    "Obviously we don't want floats for categorical variables, but I don't think this will be an issue since we'll be using get_dummies to generate the variables. Worse come to worst, we'll just have to cast all float data points to ints using to_numeric or something like that, which will be annoying, but not the end of the world.\n",
    "\n",
    "Let me know if you spot a workaround I didn't think of."
   ]
  },
  {
   "cell_type": "markdown",
   "metadata": {},
   "source": [
    "#### Import biomarkers"
   ]
  },
  {
   "cell_type": "code",
   "execution_count": 4,
   "metadata": {
    "collapsed": true
   },
   "outputs": [],
   "source": [
    "glucHome = pd.read_csv('glucoseHomeostasis.tsv', sep='\\t', header=0, na_values=' ')\n",
    "infImmFunc = pd.read_csv('inflammationAndImmuneFunction.tsv', sep='\\t', header=0, na_values=' ')\n",
    "lipids = pd.read_csv('lipids.tsv', sep='\\t', header=0, na_values=' ')"
   ]
  },
  {
   "cell_type": "code",
   "execution_count": 5,
   "metadata": {},
   "outputs": [],
   "source": [
    "# glucHome.head()"
   ]
  },
  {
   "cell_type": "code",
   "execution_count": 6,
   "metadata": {},
   "outputs": [
    {
     "data": {
      "text/plain": [
       "(5114, 10)"
      ]
     },
     "execution_count": 6,
     "metadata": {},
     "output_type": "execute_result"
    }
   ],
   "source": [
    "glucHome.shape"
   ]
  },
  {
   "cell_type": "code",
   "execution_count": 7,
   "metadata": {},
   "outputs": [
    {
     "data": {
      "text/html": [
       "<div>\n",
       "<table border=\"1\" class=\"dataframe\">\n",
       "  <thead>\n",
       "    <tr style=\"text-align: right;\">\n",
       "      <th></th>\n",
       "      <th>AID</th>\n",
       "      <th>CRP</th>\n",
       "      <th>CRP_FLAG</th>\n",
       "      <th>EBV</th>\n",
       "      <th>EBV_FLAG</th>\n",
       "      <th>C_CRP</th>\n",
       "      <th>C_SUBCLN</th>\n",
       "      <th>C_INFECT</th>\n",
       "      <th>CRP_MED1</th>\n",
       "      <th>CRP_MED2</th>\n",
       "      <th>CRP_MED3</th>\n",
       "      <th>CRP_MED4</th>\n",
       "      <th>CRP_MED5</th>\n",
       "      <th>CRP_MED6</th>\n",
       "      <th>CRP_MED7</th>\n",
       "      <th>CRP_MED8</th>\n",
       "    </tr>\n",
       "  </thead>\n",
       "  <tbody>\n",
       "    <tr>\n",
       "      <th>0</th>\n",
       "      <td>57101310</td>\n",
       "      <td>8.448</td>\n",
       "      <td>NaN</td>\n",
       "      <td>90.0</td>\n",
       "      <td>NaN</td>\n",
       "      <td>3.0</td>\n",
       "      <td>2</td>\n",
       "      <td>0</td>\n",
       "      <td>1</td>\n",
       "      <td>0</td>\n",
       "      <td>0</td>\n",
       "      <td>0</td>\n",
       "      <td>0</td>\n",
       "      <td>0</td>\n",
       "      <td>0</td>\n",
       "      <td>1</td>\n",
       "    </tr>\n",
       "    <tr>\n",
       "      <th>1</th>\n",
       "      <td>57103869</td>\n",
       "      <td>999.000</td>\n",
       "      <td>NaN</td>\n",
       "      <td>9999.0</td>\n",
       "      <td>NaN</td>\n",
       "      <td>9.0</td>\n",
       "      <td>0</td>\n",
       "      <td>0</td>\n",
       "      <td>0</td>\n",
       "      <td>0</td>\n",
       "      <td>0</td>\n",
       "      <td>0</td>\n",
       "      <td>0</td>\n",
       "      <td>0</td>\n",
       "      <td>0</td>\n",
       "      <td>0</td>\n",
       "    </tr>\n",
       "    <tr>\n",
       "      <th>2</th>\n",
       "      <td>57109625</td>\n",
       "      <td>1.204</td>\n",
       "      <td>NaN</td>\n",
       "      <td>187.0</td>\n",
       "      <td>NaN</td>\n",
       "      <td>2.0</td>\n",
       "      <td>1</td>\n",
       "      <td>0</td>\n",
       "      <td>0</td>\n",
       "      <td>0</td>\n",
       "      <td>0</td>\n",
       "      <td>0</td>\n",
       "      <td>0</td>\n",
       "      <td>0</td>\n",
       "      <td>0</td>\n",
       "      <td>0</td>\n",
       "    </tr>\n",
       "    <tr>\n",
       "      <th>3</th>\n",
       "      <td>57111071</td>\n",
       "      <td>0.905</td>\n",
       "      <td>NaN</td>\n",
       "      <td>75.0</td>\n",
       "      <td>NaN</td>\n",
       "      <td>1.0</td>\n",
       "      <td>0</td>\n",
       "      <td>0</td>\n",
       "      <td>0</td>\n",
       "      <td>0</td>\n",
       "      <td>0</td>\n",
       "      <td>0</td>\n",
       "      <td>0</td>\n",
       "      <td>0</td>\n",
       "      <td>0</td>\n",
       "      <td>0</td>\n",
       "    </tr>\n",
       "    <tr>\n",
       "      <th>4</th>\n",
       "      <td>57113943</td>\n",
       "      <td>5.363</td>\n",
       "      <td>NaN</td>\n",
       "      <td>257.0</td>\n",
       "      <td>NaN</td>\n",
       "      <td>3.0</td>\n",
       "      <td>3</td>\n",
       "      <td>1</td>\n",
       "      <td>1</td>\n",
       "      <td>0</td>\n",
       "      <td>0</td>\n",
       "      <td>0</td>\n",
       "      <td>0</td>\n",
       "      <td>0</td>\n",
       "      <td>0</td>\n",
       "      <td>1</td>\n",
       "    </tr>\n",
       "  </tbody>\n",
       "</table>\n",
       "</div>"
      ],
      "text/plain": [
       "        AID      CRP  CRP_FLAG     EBV  EBV_FLAG  C_CRP  C_SUBCLN  C_INFECT  \\\n",
       "0  57101310    8.448       NaN    90.0       NaN    3.0         2         0   \n",
       "1  57103869  999.000       NaN  9999.0       NaN    9.0         0         0   \n",
       "2  57109625    1.204       NaN   187.0       NaN    2.0         1         0   \n",
       "3  57111071    0.905       NaN    75.0       NaN    1.0         0         0   \n",
       "4  57113943    5.363       NaN   257.0       NaN    3.0         3         1   \n",
       "\n",
       "   CRP_MED1  CRP_MED2  CRP_MED3  CRP_MED4  CRP_MED5  CRP_MED6  CRP_MED7  \\\n",
       "0         1         0         0         0         0         0         0   \n",
       "1         0         0         0         0         0         0         0   \n",
       "2         0         0         0         0         0         0         0   \n",
       "3         0         0         0         0         0         0         0   \n",
       "4         1         0         0         0         0         0         0   \n",
       "\n",
       "   CRP_MED8  \n",
       "0         1  \n",
       "1         0  \n",
       "2         0  \n",
       "3         0  \n",
       "4         1  "
      ]
     },
     "execution_count": 7,
     "metadata": {},
     "output_type": "execute_result"
    }
   ],
   "source": [
    "# Note EBV_FLAG. We probably aren't going to use these, but if we do, the NaN need to be filled in with zeros\n",
    "infImmFunc.head()"
   ]
  },
  {
   "cell_type": "code",
   "execution_count": 8,
   "metadata": {},
   "outputs": [
    {
     "data": {
      "text/plain": [
       "(5114, 16)"
      ]
     },
     "execution_count": 8,
     "metadata": {},
     "output_type": "execute_result"
    }
   ],
   "source": [
    "infImmFunc.shape"
   ]
  },
  {
   "cell_type": "code",
   "execution_count": 9,
   "metadata": {},
   "outputs": [
    {
     "data": {
      "text/html": [
       "<div>\n",
       "<table border=\"1\" class=\"dataframe\">\n",
       "  <thead>\n",
       "    <tr style=\"text-align: right;\">\n",
       "      <th></th>\n",
       "      <th>AID</th>\n",
       "      <th>CRP</th>\n",
       "      <th>CRP_FLAG</th>\n",
       "      <th>EBV</th>\n",
       "      <th>EBV_FLAG</th>\n",
       "      <th>C_CRP</th>\n",
       "      <th>C_SUBCLN</th>\n",
       "      <th>C_INFECT</th>\n",
       "      <th>CRP_MED1</th>\n",
       "      <th>CRP_MED2</th>\n",
       "      <th>CRP_MED3</th>\n",
       "      <th>CRP_MED4</th>\n",
       "      <th>CRP_MED5</th>\n",
       "      <th>CRP_MED6</th>\n",
       "      <th>CRP_MED7</th>\n",
       "      <th>CRP_MED8</th>\n",
       "    </tr>\n",
       "  </thead>\n",
       "  <tbody>\n",
       "    <tr>\n",
       "      <th>0</th>\n",
       "      <td>57101310</td>\n",
       "      <td>8.448</td>\n",
       "      <td>0</td>\n",
       "      <td>90.0</td>\n",
       "      <td>0</td>\n",
       "      <td>3.0</td>\n",
       "      <td>2</td>\n",
       "      <td>0</td>\n",
       "      <td>1</td>\n",
       "      <td>0</td>\n",
       "      <td>0</td>\n",
       "      <td>0</td>\n",
       "      <td>0</td>\n",
       "      <td>0</td>\n",
       "      <td>0</td>\n",
       "      <td>1</td>\n",
       "    </tr>\n",
       "    <tr>\n",
       "      <th>1</th>\n",
       "      <td>57103869</td>\n",
       "      <td>999.000</td>\n",
       "      <td>0</td>\n",
       "      <td>9999.0</td>\n",
       "      <td>0</td>\n",
       "      <td>9.0</td>\n",
       "      <td>0</td>\n",
       "      <td>0</td>\n",
       "      <td>0</td>\n",
       "      <td>0</td>\n",
       "      <td>0</td>\n",
       "      <td>0</td>\n",
       "      <td>0</td>\n",
       "      <td>0</td>\n",
       "      <td>0</td>\n",
       "      <td>0</td>\n",
       "    </tr>\n",
       "    <tr>\n",
       "      <th>2</th>\n",
       "      <td>57109625</td>\n",
       "      <td>1.204</td>\n",
       "      <td>0</td>\n",
       "      <td>187.0</td>\n",
       "      <td>0</td>\n",
       "      <td>2.0</td>\n",
       "      <td>1</td>\n",
       "      <td>0</td>\n",
       "      <td>0</td>\n",
       "      <td>0</td>\n",
       "      <td>0</td>\n",
       "      <td>0</td>\n",
       "      <td>0</td>\n",
       "      <td>0</td>\n",
       "      <td>0</td>\n",
       "      <td>0</td>\n",
       "    </tr>\n",
       "    <tr>\n",
       "      <th>3</th>\n",
       "      <td>57111071</td>\n",
       "      <td>0.905</td>\n",
       "      <td>0</td>\n",
       "      <td>75.0</td>\n",
       "      <td>0</td>\n",
       "      <td>1.0</td>\n",
       "      <td>0</td>\n",
       "      <td>0</td>\n",
       "      <td>0</td>\n",
       "      <td>0</td>\n",
       "      <td>0</td>\n",
       "      <td>0</td>\n",
       "      <td>0</td>\n",
       "      <td>0</td>\n",
       "      <td>0</td>\n",
       "      <td>0</td>\n",
       "    </tr>\n",
       "    <tr>\n",
       "      <th>4</th>\n",
       "      <td>57113943</td>\n",
       "      <td>5.363</td>\n",
       "      <td>0</td>\n",
       "      <td>257.0</td>\n",
       "      <td>0</td>\n",
       "      <td>3.0</td>\n",
       "      <td>3</td>\n",
       "      <td>1</td>\n",
       "      <td>1</td>\n",
       "      <td>0</td>\n",
       "      <td>0</td>\n",
       "      <td>0</td>\n",
       "      <td>0</td>\n",
       "      <td>0</td>\n",
       "      <td>0</td>\n",
       "      <td>1</td>\n",
       "    </tr>\n",
       "  </tbody>\n",
       "</table>\n",
       "</div>"
      ],
      "text/plain": [
       "        AID      CRP  CRP_FLAG     EBV  EBV_FLAG  C_CRP  C_SUBCLN  C_INFECT  \\\n",
       "0  57101310    8.448         0    90.0         0    3.0         2         0   \n",
       "1  57103869  999.000         0  9999.0         0    9.0         0         0   \n",
       "2  57109625    1.204         0   187.0         0    2.0         1         0   \n",
       "3  57111071    0.905         0    75.0         0    1.0         0         0   \n",
       "4  57113943    5.363         0   257.0         0    3.0         3         1   \n",
       "\n",
       "   CRP_MED1  CRP_MED2  CRP_MED3  CRP_MED4  CRP_MED5  CRP_MED6  CRP_MED7  \\\n",
       "0         1         0         0         0         0         0         0   \n",
       "1         0         0         0         0         0         0         0   \n",
       "2         0         0         0         0         0         0         0   \n",
       "3         0         0         0         0         0         0         0   \n",
       "4         1         0         0         0         0         0         0   \n",
       "\n",
       "   CRP_MED8  \n",
       "0         1  \n",
       "1         0  \n",
       "2         0  \n",
       "3         0  \n",
       "4         1  "
      ]
     },
     "execution_count": 9,
     "metadata": {},
     "output_type": "execute_result"
    }
   ],
   "source": [
    "'''We probably won't use these flags, but filling in NaNs with zero. \n",
    "I did these two because they were fast, but there are a lot of them scattered\n",
    "throughout the In-Home Questionnaire sets. Something to keep an eye out for.'''\n",
    "infImmFunc['CRP_FLAG'].fillna(0, inplace=True, downcast='int')\n",
    "infImmFunc['EBV_FLAG'].fillna(0, inplace=True, downcast='int')\n",
    "infImmFunc.head()"
   ]
  },
  {
   "cell_type": "code",
   "execution_count": 10,
   "metadata": {},
   "outputs": [],
   "source": [
    "# lipids.head()"
   ]
  },
  {
   "cell_type": "code",
   "execution_count": 11,
   "metadata": {},
   "outputs": [
    {
     "data": {
      "text/plain": [
       "(5114, 14)"
      ]
     },
     "execution_count": 11,
     "metadata": {},
     "output_type": "execute_result"
    }
   ],
   "source": [
    "lipids.shape"
   ]
  },
  {
   "cell_type": "markdown",
   "metadata": {},
   "source": [
    "#### Importing Waves"
   ]
  },
  {
   "cell_type": "markdown",
   "metadata": {},
   "source": [
    "NB: Wave 4 comes in mutiple files. I included only the main In-Home Questionaire file. 16b and 16c contain question re. intimate partners. I did not include it in light of previous dicussions, but it can easily be brought in. I also did not include section 18, 19 and 20 which contains data on pregancies, live births and children per our discussion. We can easily include if minds change."
   ]
  },
  {
   "cell_type": "code",
   "execution_count": 12,
   "metadata": {},
   "outputs": [],
   "source": [
    "wave1 = pd.read_csv('wave1_inHomeQuest.tsv', sep='\\t', header=0, na_values=' ')\n",
    "wave2 = pd.read_csv('wave2_inHomeQuest.tsv', sep='\\t', header=0, na_values=' ')\n",
    "wave3 = pd.read_csv('wave3_inHomeQuest.tsv', sep='\\t', header=0, na_values=' ')\n",
    "wave4 = pd.read_csv('wave4_inHomeQuest.tsv', sep='\\t', header=0, na_values=' ')"
   ]
  },
  {
   "cell_type": "code",
   "execution_count": 13,
   "metadata": {},
   "outputs": [],
   "source": [
    "# wave1.head()"
   ]
  },
  {
   "cell_type": "code",
   "execution_count": 14,
   "metadata": {},
   "outputs": [
    {
     "data": {
      "text/plain": [
       "(6504, 2794)"
      ]
     },
     "execution_count": 14,
     "metadata": {},
     "output_type": "execute_result"
    }
   ],
   "source": [
    "wave1.shape"
   ]
  },
  {
   "cell_type": "code",
   "execution_count": 15,
   "metadata": {},
   "outputs": [],
   "source": [
    "# Note flags\n",
    "# wave2.head()"
   ]
  },
  {
   "cell_type": "code",
   "execution_count": 16,
   "metadata": {},
   "outputs": [
    {
     "data": {
      "text/plain": [
       "(4834, 2532)"
      ]
     },
     "execution_count": 16,
     "metadata": {},
     "output_type": "execute_result"
    }
   ],
   "source": [
    "wave2.shape"
   ]
  },
  {
   "cell_type": "code",
   "execution_count": 17,
   "metadata": {},
   "outputs": [],
   "source": [
    "# wave3.head()"
   ]
  },
  {
   "cell_type": "code",
   "execution_count": 18,
   "metadata": {},
   "outputs": [
    {
     "data": {
      "text/plain": [
       "(4882, 1831)"
      ]
     },
     "execution_count": 18,
     "metadata": {},
     "output_type": "execute_result"
    }
   ],
   "source": [
    "wave3.shape"
   ]
  },
  {
   "cell_type": "code",
   "execution_count": 19,
   "metadata": {},
   "outputs": [],
   "source": [
    "# wave4.head()"
   ]
  },
  {
   "cell_type": "code",
   "execution_count": 20,
   "metadata": {},
   "outputs": [
    {
     "data": {
      "text/plain": [
       "(5114, 920)"
      ]
     },
     "execution_count": 20,
     "metadata": {},
     "output_type": "execute_result"
    }
   ],
   "source": [
    "wave4.shape"
   ]
  },
  {
   "cell_type": "markdown",
   "metadata": {},
   "source": [
    "#### Importing Public Use Contextual Databases"
   ]
  },
  {
   "cell_type": "markdown",
   "metadata": {},
   "source": [
    "NB: These datasets contain rich demographic information for individuals. They only exist for Waves 1 and 2"
   ]
  },
  {
   "cell_type": "code",
   "execution_count": 21,
   "metadata": {
    "collapsed": true
   },
   "outputs": [],
   "source": [
    "wave1_publicUse = pd.read_csv('wave1_publicUseContDB.tsv', sep='\\t', header=0, na_values=' ')\n",
    "wave2_publicUse = pd.read_csv('wave2_publicUseContDB.tsv', sep='\\t', header=0, na_values=' ')"
   ]
  },
  {
   "cell_type": "code",
   "execution_count": 22,
   "metadata": {},
   "outputs": [],
   "source": [
    "# wave1_publicUse.head()"
   ]
  },
  {
   "cell_type": "code",
   "execution_count": 23,
   "metadata": {},
   "outputs": [
    {
     "data": {
      "text/plain": [
       "(6504, 32)"
      ]
     },
     "execution_count": 23,
     "metadata": {},
     "output_type": "execute_result"
    }
   ],
   "source": [
    "wave1_publicUse.shape"
   ]
  },
  {
   "cell_type": "code",
   "execution_count": 24,
   "metadata": {},
   "outputs": [],
   "source": [
    "# wave2_publicUse.head()"
   ]
  },
  {
   "cell_type": "code",
   "execution_count": 25,
   "metadata": {},
   "outputs": [
    {
     "data": {
      "text/plain": [
       "(4834, 32)"
      ]
     },
     "execution_count": 25,
     "metadata": {},
     "output_type": "execute_result"
    }
   ],
   "source": [
    "wave2_publicUse.shape"
   ]
  },
  {
   "cell_type": "markdown",
   "metadata": {},
   "source": [
    "#### Merging Waves 1 and 2 with Public Use Contextual Databases"
   ]
  },
  {
   "cell_type": "code",
   "execution_count": 26,
   "metadata": {
    "collapsed": true
   },
   "outputs": [],
   "source": [
    "wave1 = pd.merge(left=wave1, right=wave1_publicUse, left_on='AID', right_on='AID')\n",
    "wave2 = pd.merge(left=wave2, right=wave2_publicUse, left_on='AID', right_on='AID')"
   ]
  },
  {
   "cell_type": "code",
   "execution_count": 27,
   "metadata": {},
   "outputs": [],
   "source": [
    "# wave1.head()"
   ]
  },
  {
   "cell_type": "code",
   "execution_count": 28,
   "metadata": {},
   "outputs": [
    {
     "data": {
      "text/plain": [
       "(6504, 2825)"
      ]
     },
     "execution_count": 28,
     "metadata": {},
     "output_type": "execute_result"
    }
   ],
   "source": [
    "wave1.shape"
   ]
  },
  {
   "cell_type": "code",
   "execution_count": 29,
   "metadata": {},
   "outputs": [],
   "source": [
    "# wave2.head()"
   ]
  },
  {
   "cell_type": "code",
   "execution_count": 30,
   "metadata": {},
   "outputs": [
    {
     "data": {
      "text/plain": [
       "(4834, 2563)"
      ]
     },
     "execution_count": 30,
     "metadata": {},
     "output_type": "execute_result"
    }
   ],
   "source": [
    "wave2.shape"
   ]
  },
  {
   "cell_type": "markdown",
   "metadata": {},
   "source": [
    "#### Merging Waves with Biomarkers"
   ]
  },
  {
   "cell_type": "markdown",
   "metadata": {},
   "source": [
    "NB: I created 3 merged datasets for each wave, one for each set of biomarkers. Suspect we'll be working discretely with different biomarkers. This way we can just pair down the dataset to desired variables directly in one go. If you want a single dataset with all biomarkers it'll be quick to do."
   ]
  },
  {
   "cell_type": "code",
   "execution_count": 31,
   "metadata": {},
   "outputs": [],
   "source": [
    "wave1_gluc = pd.merge(left=wave1, right=glucHome, left_on='AID', right_on='AID')\n",
    "wave1_infImm = pd.merge(left=wave1, right=infImmFunc, left_on='AID', right_on='AID')\n",
    "wave1_lipids = pd.merge(left=wave1, right=lipids, left_on='AID', right_on='AID')"
   ]
  },
  {
   "cell_type": "code",
   "execution_count": 32,
   "metadata": {},
   "outputs": [],
   "source": [
    "# wave1_gluc.head()"
   ]
  },
  {
   "cell_type": "code",
   "execution_count": 33,
   "metadata": {},
   "outputs": [],
   "source": [
    "# wave1_infImm.head()"
   ]
  },
  {
   "cell_type": "code",
   "execution_count": 34,
   "metadata": {},
   "outputs": [],
   "source": [
    "# wave1_lipids.head()"
   ]
  },
  {
   "cell_type": "code",
   "execution_count": 35,
   "metadata": {},
   "outputs": [
    {
     "name": "stdout",
     "output_type": "stream",
     "text": [
      "(5114, 2834)\n",
      "(5114, 2840)\n",
      "(5114, 2838)\n"
     ]
    }
   ],
   "source": [
    "print wave1_gluc.shape\n",
    "print wave1_infImm.shape\n",
    "print wave1_lipids.shape"
   ]
  },
  {
   "cell_type": "code",
   "execution_count": 36,
   "metadata": {
    "collapsed": true
   },
   "outputs": [],
   "source": [
    "wave2_gluc = pd.merge(left=wave2, right=glucHome, left_on='AID', right_on='AID')\n",
    "wave2_infImm = pd.merge(left=wave2, right=infImmFunc, left_on='AID', right_on='AID')\n",
    "wave2_lipids = pd.merge(left=wave2, right=lipids, left_on='AID', right_on='AID')"
   ]
  },
  {
   "cell_type": "code",
   "execution_count": 37,
   "metadata": {},
   "outputs": [],
   "source": [
    "# wave2_gluc.head()"
   ]
  },
  {
   "cell_type": "code",
   "execution_count": 38,
   "metadata": {},
   "outputs": [],
   "source": [
    "# wave2_infImm.head()"
   ]
  },
  {
   "cell_type": "code",
   "execution_count": 39,
   "metadata": {},
   "outputs": [],
   "source": [
    "# wave2_lipids.head()"
   ]
  },
  {
   "cell_type": "code",
   "execution_count": 40,
   "metadata": {},
   "outputs": [
    {
     "name": "stdout",
     "output_type": "stream",
     "text": [
      "(3924, 2572)\n",
      "(3924, 2578)\n",
      "(3924, 2576)\n"
     ]
    }
   ],
   "source": [
    "print wave2_gluc.shape\n",
    "print wave2_infImm.shape\n",
    "print wave2_lipids.shape"
   ]
  },
  {
   "cell_type": "code",
   "execution_count": 41,
   "metadata": {
    "collapsed": true
   },
   "outputs": [],
   "source": [
    "wave3_gluc = pd.merge(left=wave3, right=glucHome, left_on='AID', right_on='AID')\n",
    "wave3_infImm = pd.merge(left=wave3, right=infImmFunc, left_on='AID', right_on='AID')\n",
    "wave3_lipids = pd.merge(left=wave3, right=lipids, left_on='AID', right_on='AID')"
   ]
  },
  {
   "cell_type": "code",
   "execution_count": 42,
   "metadata": {},
   "outputs": [],
   "source": [
    "# wave3_gluc.head()"
   ]
  },
  {
   "cell_type": "code",
   "execution_count": 43,
   "metadata": {},
   "outputs": [],
   "source": [
    "# wave3_infImm.head()"
   ]
  },
  {
   "cell_type": "code",
   "execution_count": 44,
   "metadata": {},
   "outputs": [],
   "source": [
    "# wave3_lipids.head()"
   ]
  },
  {
   "cell_type": "code",
   "execution_count": 45,
   "metadata": {},
   "outputs": [
    {
     "name": "stdout",
     "output_type": "stream",
     "text": [
      "(4208, 1840)\n",
      "(4208, 1846)\n",
      "(4208, 1844)\n"
     ]
    }
   ],
   "source": [
    "print wave3_gluc.shape\n",
    "print wave3_infImm.shape\n",
    "print wave3_lipids.shape"
   ]
  },
  {
   "cell_type": "code",
   "execution_count": 46,
   "metadata": {
    "collapsed": true
   },
   "outputs": [],
   "source": [
    "wave4_gluc = pd.merge(left=wave4, right=glucHome, left_on='AID', right_on='AID')\n",
    "wave4_infImm = pd.merge(left=wave4, right=infImmFunc, left_on='AID', right_on='AID')\n",
    "wave4_lipids = pd.merge(left=wave4, right=lipids, left_on='AID', right_on='AID')"
   ]
  },
  {
   "cell_type": "code",
   "execution_count": 47,
   "metadata": {},
   "outputs": [],
   "source": [
    "# wave4_gluc.head()"
   ]
  },
  {
   "cell_type": "code",
   "execution_count": 48,
   "metadata": {},
   "outputs": [],
   "source": [
    "# wave4_infImm.head()"
   ]
  },
  {
   "cell_type": "code",
   "execution_count": 49,
   "metadata": {},
   "outputs": [],
   "source": [
    "# wave4_lipids.head()"
   ]
  },
  {
   "cell_type": "code",
   "execution_count": 50,
   "metadata": {},
   "outputs": [
    {
     "name": "stdout",
     "output_type": "stream",
     "text": [
      "(5114, 929)\n",
      "(5114, 935)\n",
      "(5114, 933)\n"
     ]
    }
   ],
   "source": [
    "print wave4_gluc.shape\n",
    "print wave4_infImm.shape\n",
    "print wave4_lipids.shape"
   ]
  },
  {
   "cell_type": "code",
   "execution_count": null,
   "metadata": {
    "collapsed": true
   },
   "outputs": [],
   "source": []
  }
 ],
 "metadata": {
  "kernelspec": {
   "display_name": "Python 3",
   "language": "python",
   "name": "python3"
  },
  "language_info": {
   "codemirror_mode": {
    "name": "ipython",
    "version": 3
   },
   "file_extension": ".py",
   "mimetype": "text/x-python",
   "name": "python",
   "nbconvert_exporter": "python",
   "pygments_lexer": "ipython3",
   "version": "3.6.3"
  }
 },
 "nbformat": 4,
 "nbformat_minor": 2
}
