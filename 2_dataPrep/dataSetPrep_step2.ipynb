{
 "cells": [
  {
   "cell_type": "code",
   "execution_count": 1,
   "metadata": {
    "collapsed": true
   },
   "outputs": [],
   "source": [
    "import pandas as pd\n",
    "import numpy as np"
   ]
  },
  {
   "cell_type": "markdown",
   "metadata": {},
   "source": [
    "NB: There is some numpy wonkiness going on behind the scenes here. You'll see it if you look at the data types of the data frames. For some reason, numpy infers the data type as a float for any column that contains an NaN. We can't force the issue by specifying dtype='int' in read_csv, because then numpy throws an error when it can't convert the NaN to an int.\n",
    "\n",
    "I didn't drop the NaN values, because we won't be keeping all of these columns, and I didn't want to prematurely prune the dataset.\n",
    "\n",
    "Obviously we don't want floats for categorical variables, but I don't think this will be an issue since we'll be using get_dummies to generate the variables. Worse come to worst, we'll just have to cast all float data points to ints using to_numeric or something like that, which will be annoying, but not the end of the world.\n",
    "\n",
    "Let me know if you spot a workaround I didn't think of."
   ]
  },
  {
   "cell_type": "markdown",
   "metadata": {},
   "source": [
    "#### Import biomarkers"
   ]
  },
  {
   "cell_type": "code",
   "execution_count": 2,
   "metadata": {},
   "outputs": [],
   "source": [
    "glucHome = pd.read_csv(r'C:\\dev\\data\\health\\dataSets\\glucoseHomeostasis.tsv', sep='\\t', header=0, na_values=' ')\n",
    "infImmFunc = pd.read_csv(r'C:\\dev\\data\\health\\dataSets\\inflammationAndImmuneFunction.tsv', sep='\\t', header=0, na_values=' ')\n",
    "lipids = pd.read_csv(r'C:\\dev\\data\\health\\dataSets\\lipids.tsv', sep='\\t', header=0, na_values=' ')"
   ]
  },
  {
   "cell_type": "code",
   "execution_count": 3,
   "metadata": {},
   "outputs": [],
   "source": [
    "# glucHome.head()"
   ]
  },
  {
   "cell_type": "code",
   "execution_count": 4,
   "metadata": {},
   "outputs": [
    {
     "data": {
      "text/plain": [
       "(5114, 10)"
      ]
     },
     "execution_count": 4,
     "metadata": {},
     "output_type": "execute_result"
    }
   ],
   "source": [
    "glucHome.shape"
   ]
  },
  {
   "cell_type": "code",
   "execution_count": 5,
   "metadata": {},
   "outputs": [
    {
     "data": {
      "text/html": [
       "<div>\n",
       "<table border=\"1\" class=\"dataframe\">\n",
       "  <thead>\n",
       "    <tr style=\"text-align: right;\">\n",
       "      <th></th>\n",
       "      <th>AID</th>\n",
       "      <th>TG</th>\n",
       "      <th>TG_FLG</th>\n",
       "      <th>TC</th>\n",
       "      <th>TC_FLG</th>\n",
       "      <th>HDL</th>\n",
       "      <th>HDL_FLG</th>\n",
       "      <th>LDL</th>\n",
       "      <th>NON_HDL</th>\n",
       "      <th>TC_HDL</th>\n",
       "      <th>C_MED2</th>\n",
       "      <th>C_JOINT2</th>\n",
       "      <th>FASTTIME</th>\n",
       "      <th>FAST_LIP</th>\n",
       "    </tr>\n",
       "  </thead>\n",
       "  <tbody>\n",
       "    <tr>\n",
       "      <th>0</th>\n",
       "      <td>57101310</td>\n",
       "      <td>7.0</td>\n",
       "      <td>1.0</td>\n",
       "      <td>8.0</td>\n",
       "      <td>2.0</td>\n",
       "      <td>3.0</td>\n",
       "      <td>2.0</td>\n",
       "      <td>9.0</td>\n",
       "      <td>9.0</td>\n",
       "      <td>9.0</td>\n",
       "      <td>0</td>\n",
       "      <td>1</td>\n",
       "      <td>1.6</td>\n",
       "      <td>0.0</td>\n",
       "    </tr>\n",
       "    <tr>\n",
       "      <th>1</th>\n",
       "      <td>57103869</td>\n",
       "      <td>99.0</td>\n",
       "      <td>9.0</td>\n",
       "      <td>99.0</td>\n",
       "      <td>9.0</td>\n",
       "      <td>99.0</td>\n",
       "      <td>9.0</td>\n",
       "      <td>99.0</td>\n",
       "      <td>99.0</td>\n",
       "      <td>99.0</td>\n",
       "      <td>0</td>\n",
       "      <td>0</td>\n",
       "      <td>5.3</td>\n",
       "      <td>0.0</td>\n",
       "    </tr>\n",
       "    <tr>\n",
       "      <th>2</th>\n",
       "      <td>57109625</td>\n",
       "      <td>7.0</td>\n",
       "      <td>1.0</td>\n",
       "      <td>8.0</td>\n",
       "      <td>2.0</td>\n",
       "      <td>3.0</td>\n",
       "      <td>2.0</td>\n",
       "      <td>8.0</td>\n",
       "      <td>9.0</td>\n",
       "      <td>9.0</td>\n",
       "      <td>0</td>\n",
       "      <td>0</td>\n",
       "      <td>2.3</td>\n",
       "      <td>0.0</td>\n",
       "    </tr>\n",
       "    <tr>\n",
       "      <th>3</th>\n",
       "      <td>57111071</td>\n",
       "      <td>4.0</td>\n",
       "      <td>2.0</td>\n",
       "      <td>7.0</td>\n",
       "      <td>2.0</td>\n",
       "      <td>4.0</td>\n",
       "      <td>2.0</td>\n",
       "      <td>8.0</td>\n",
       "      <td>7.0</td>\n",
       "      <td>8.0</td>\n",
       "      <td>0</td>\n",
       "      <td>0</td>\n",
       "      <td>2.4</td>\n",
       "      <td>0.0</td>\n",
       "    </tr>\n",
       "    <tr>\n",
       "      <th>4</th>\n",
       "      <td>57113943</td>\n",
       "      <td>99.0</td>\n",
       "      <td>9.0</td>\n",
       "      <td>1.0</td>\n",
       "      <td>2.0</td>\n",
       "      <td>99.0</td>\n",
       "      <td>9.0</td>\n",
       "      <td>99.0</td>\n",
       "      <td>99.0</td>\n",
       "      <td>99.0</td>\n",
       "      <td>0</td>\n",
       "      <td>0</td>\n",
       "      <td>2.7</td>\n",
       "      <td>0.0</td>\n",
       "    </tr>\n",
       "  </tbody>\n",
       "</table>\n",
       "</div>"
      ],
      "text/plain": [
       "        AID    TG  TG_FLG    TC  TC_FLG   HDL  HDL_FLG   LDL  NON_HDL  TC_HDL  \\\n",
       "0  57101310   7.0     1.0   8.0     2.0   3.0      2.0   9.0      9.0     9.0   \n",
       "1  57103869  99.0     9.0  99.0     9.0  99.0      9.0  99.0     99.0    99.0   \n",
       "2  57109625   7.0     1.0   8.0     2.0   3.0      2.0   8.0      9.0     9.0   \n",
       "3  57111071   4.0     2.0   7.0     2.0   4.0      2.0   8.0      7.0     8.0   \n",
       "4  57113943  99.0     9.0   1.0     2.0  99.0      9.0  99.0     99.0    99.0   \n",
       "\n",
       "   C_MED2  C_JOINT2  FASTTIME  FAST_LIP  \n",
       "0       0         1       1.6       0.0  \n",
       "1       0         0       5.3       0.0  \n",
       "2       0         0       2.3       0.0  \n",
       "3       0         0       2.4       0.0  \n",
       "4       0         0       2.7       0.0  "
      ]
     },
     "execution_count": 5,
     "metadata": {},
     "output_type": "execute_result"
    }
   ],
   "source": [
    "# Note EBV_FLAG. We probably aren't going to use these, but if we do, the NaN need to be filled in with zeros\n",
    "lipids.head()"
   ]
  },
  {
   "cell_type": "code",
   "execution_count": 6,
   "metadata": {},
   "outputs": [
    {
     "data": {
      "text/plain": [
       "(5114, 16)"
      ]
     },
     "execution_count": 6,
     "metadata": {},
     "output_type": "execute_result"
    }
   ],
   "source": [
    "infImmFunc.shape"
   ]
  },
  {
   "cell_type": "code",
   "execution_count": 7,
   "metadata": {},
   "outputs": [
    {
     "data": {
      "text/html": [
       "<div>\n",
       "<table border=\"1\" class=\"dataframe\">\n",
       "  <thead>\n",
       "    <tr style=\"text-align: right;\">\n",
       "      <th></th>\n",
       "      <th>AID</th>\n",
       "      <th>CRP</th>\n",
       "      <th>CRP_FLAG</th>\n",
       "      <th>EBV</th>\n",
       "      <th>EBV_FLAG</th>\n",
       "      <th>C_CRP</th>\n",
       "      <th>C_SUBCLN</th>\n",
       "      <th>C_INFECT</th>\n",
       "      <th>CRP_MED1</th>\n",
       "      <th>CRP_MED2</th>\n",
       "      <th>CRP_MED3</th>\n",
       "      <th>CRP_MED4</th>\n",
       "      <th>CRP_MED5</th>\n",
       "      <th>CRP_MED6</th>\n",
       "      <th>CRP_MED7</th>\n",
       "      <th>CRP_MED8</th>\n",
       "    </tr>\n",
       "  </thead>\n",
       "  <tbody>\n",
       "    <tr>\n",
       "      <th>0</th>\n",
       "      <td>57101310</td>\n",
       "      <td>8.448</td>\n",
       "      <td>0</td>\n",
       "      <td>90.0</td>\n",
       "      <td>0</td>\n",
       "      <td>3.0</td>\n",
       "      <td>2</td>\n",
       "      <td>0</td>\n",
       "      <td>1</td>\n",
       "      <td>0</td>\n",
       "      <td>0</td>\n",
       "      <td>0</td>\n",
       "      <td>0</td>\n",
       "      <td>0</td>\n",
       "      <td>0</td>\n",
       "      <td>1</td>\n",
       "    </tr>\n",
       "    <tr>\n",
       "      <th>1</th>\n",
       "      <td>57103869</td>\n",
       "      <td>999.000</td>\n",
       "      <td>0</td>\n",
       "      <td>9999.0</td>\n",
       "      <td>0</td>\n",
       "      <td>9.0</td>\n",
       "      <td>0</td>\n",
       "      <td>0</td>\n",
       "      <td>0</td>\n",
       "      <td>0</td>\n",
       "      <td>0</td>\n",
       "      <td>0</td>\n",
       "      <td>0</td>\n",
       "      <td>0</td>\n",
       "      <td>0</td>\n",
       "      <td>0</td>\n",
       "    </tr>\n",
       "    <tr>\n",
       "      <th>2</th>\n",
       "      <td>57109625</td>\n",
       "      <td>1.204</td>\n",
       "      <td>0</td>\n",
       "      <td>187.0</td>\n",
       "      <td>0</td>\n",
       "      <td>2.0</td>\n",
       "      <td>1</td>\n",
       "      <td>0</td>\n",
       "      <td>0</td>\n",
       "      <td>0</td>\n",
       "      <td>0</td>\n",
       "      <td>0</td>\n",
       "      <td>0</td>\n",
       "      <td>0</td>\n",
       "      <td>0</td>\n",
       "      <td>0</td>\n",
       "    </tr>\n",
       "    <tr>\n",
       "      <th>3</th>\n",
       "      <td>57111071</td>\n",
       "      <td>0.905</td>\n",
       "      <td>0</td>\n",
       "      <td>75.0</td>\n",
       "      <td>0</td>\n",
       "      <td>1.0</td>\n",
       "      <td>0</td>\n",
       "      <td>0</td>\n",
       "      <td>0</td>\n",
       "      <td>0</td>\n",
       "      <td>0</td>\n",
       "      <td>0</td>\n",
       "      <td>0</td>\n",
       "      <td>0</td>\n",
       "      <td>0</td>\n",
       "      <td>0</td>\n",
       "    </tr>\n",
       "    <tr>\n",
       "      <th>4</th>\n",
       "      <td>57113943</td>\n",
       "      <td>5.363</td>\n",
       "      <td>0</td>\n",
       "      <td>257.0</td>\n",
       "      <td>0</td>\n",
       "      <td>3.0</td>\n",
       "      <td>3</td>\n",
       "      <td>1</td>\n",
       "      <td>1</td>\n",
       "      <td>0</td>\n",
       "      <td>0</td>\n",
       "      <td>0</td>\n",
       "      <td>0</td>\n",
       "      <td>0</td>\n",
       "      <td>0</td>\n",
       "      <td>1</td>\n",
       "    </tr>\n",
       "  </tbody>\n",
       "</table>\n",
       "</div>"
      ],
      "text/plain": [
       "        AID      CRP  CRP_FLAG     EBV  EBV_FLAG  C_CRP  C_SUBCLN  C_INFECT  \\\n",
       "0  57101310    8.448         0    90.0         0    3.0         2         0   \n",
       "1  57103869  999.000         0  9999.0         0    9.0         0         0   \n",
       "2  57109625    1.204         0   187.0         0    2.0         1         0   \n",
       "3  57111071    0.905         0    75.0         0    1.0         0         0   \n",
       "4  57113943    5.363         0   257.0         0    3.0         3         1   \n",
       "\n",
       "   CRP_MED1  CRP_MED2  CRP_MED3  CRP_MED4  CRP_MED5  CRP_MED6  CRP_MED7  \\\n",
       "0         1         0         0         0         0         0         0   \n",
       "1         0         0         0         0         0         0         0   \n",
       "2         0         0         0         0         0         0         0   \n",
       "3         0         0         0         0         0         0         0   \n",
       "4         1         0         0         0         0         0         0   \n",
       "\n",
       "   CRP_MED8  \n",
       "0         1  \n",
       "1         0  \n",
       "2         0  \n",
       "3         0  \n",
       "4         1  "
      ]
     },
     "execution_count": 7,
     "metadata": {},
     "output_type": "execute_result"
    }
   ],
   "source": [
    "'''We probably won't use these flags, but filling in NaNs with zero. \n",
    "I did these two because they were fast, but there are a lot of them scattered\n",
    "throughout the In-Home Questionnaire sets. Something to keep an eye out for.'''\n",
    "infImmFunc['CRP_FLAG'].fillna(0, inplace=True, downcast='int')\n",
    "infImmFunc['EBV_FLAG'].fillna(0, inplace=True, downcast='int')\n",
    "infImmFunc.head()"
   ]
  },
  {
   "cell_type": "code",
   "execution_count": 8,
   "metadata": {},
   "outputs": [],
   "source": [
    "# lipids.head()"
   ]
  },
  {
   "cell_type": "code",
   "execution_count": 9,
   "metadata": {},
   "outputs": [
    {
     "data": {
      "text/plain": [
       "(5114, 14)"
      ]
     },
     "execution_count": 9,
     "metadata": {},
     "output_type": "execute_result"
    }
   ],
   "source": [
    "lipids.shape"
   ]
  },
  {
   "cell_type": "markdown",
   "metadata": {},
   "source": [
    "#### Importing Waves"
   ]
  },
  {
   "cell_type": "markdown",
   "metadata": {},
   "source": [
    "NB: Wave 4 comes in mutiple files. I included only the main In-Home Questionaire file. 16b and 16c contain question re. intimate partners. I did not include it in light of previous dicussions, but it can easily be brought in. I also did not include section 18, 19 and 20 which contains data on pregancies, live births and children per our discussion. We can easily include if minds change."
   ]
  },
  {
   "cell_type": "code",
   "execution_count": 10,
   "metadata": {},
   "outputs": [],
   "source": [
    "wave1 = pd.read_csv(r'C:\\dev\\data\\health\\dataSets\\wave1_inHomeQuest.tsv', sep='\\t', header=0, na_values=' ')\n",
    "wave2 = pd.read_csv(r'C:\\dev\\data\\health\\dataSets\\wave2_inHomeQuest.tsv', sep='\\t', header=0, na_values=' ')\n",
    "wave3 = pd.read_csv(r'C:\\dev\\data\\health\\dataSets\\wave3_inHomeQuest.tsv', sep='\\t', header=0, na_values=' ')\n",
    "wave4 = pd.read_csv(r'C:\\dev\\data\\health\\dataSets\\wave4_inHomeQuest.tsv', sep='\\t', header=0, na_values=' ')"
   ]
  },
  {
   "cell_type": "code",
   "execution_count": 11,
   "metadata": {},
   "outputs": [],
   "source": [
    "# wave1.head()"
   ]
  },
  {
   "cell_type": "code",
   "execution_count": 12,
   "metadata": {},
   "outputs": [
    {
     "data": {
      "text/plain": [
       "(6504, 2794)"
      ]
     },
     "execution_count": 12,
     "metadata": {},
     "output_type": "execute_result"
    }
   ],
   "source": [
    "wave1.shape"
   ]
  },
  {
   "cell_type": "code",
   "execution_count": 13,
   "metadata": {},
   "outputs": [],
   "source": [
    "# Note flags\n",
    "# wave2.head()"
   ]
  },
  {
   "cell_type": "code",
   "execution_count": 14,
   "metadata": {},
   "outputs": [
    {
     "data": {
      "text/plain": [
       "(4834, 2532)"
      ]
     },
     "execution_count": 14,
     "metadata": {},
     "output_type": "execute_result"
    }
   ],
   "source": [
    "wave2.shape"
   ]
  },
  {
   "cell_type": "code",
   "execution_count": 15,
   "metadata": {},
   "outputs": [],
   "source": [
    "# wave3.head()"
   ]
  },
  {
   "cell_type": "code",
   "execution_count": 16,
   "metadata": {},
   "outputs": [
    {
     "data": {
      "text/plain": [
       "(4882, 1831)"
      ]
     },
     "execution_count": 16,
     "metadata": {},
     "output_type": "execute_result"
    }
   ],
   "source": [
    "wave3.shape"
   ]
  },
  {
   "cell_type": "code",
   "execution_count": 17,
   "metadata": {},
   "outputs": [],
   "source": [
    "# wave4.head()"
   ]
  },
  {
   "cell_type": "code",
   "execution_count": 18,
   "metadata": {},
   "outputs": [
    {
     "data": {
      "text/plain": [
       "(5114, 920)"
      ]
     },
     "execution_count": 18,
     "metadata": {},
     "output_type": "execute_result"
    }
   ],
   "source": [
    "wave4.shape"
   ]
  },
  {
   "cell_type": "markdown",
   "metadata": {},
   "source": [
    "#### Importing Public Use Contextual Databases"
   ]
  },
  {
   "cell_type": "markdown",
   "metadata": {},
   "source": [
    "NB: These datasets contain rich demographic information for individuals. They only exist for Waves 1 and 2"
   ]
  },
  {
   "cell_type": "code",
   "execution_count": 19,
   "metadata": {},
   "outputs": [],
   "source": [
    "wave1_publicUse = pd.read_csv(r'C:\\dev\\data\\health\\dataSets\\wave1_publicUseContDB.tsv', sep='\\t', header=0, na_values=' ')\n",
    "wave2_publicUse = pd.read_csv(r'C:\\dev\\data\\health\\dataSets\\wave2_publicUseContDB.tsv', sep='\\t', header=0, na_values=' ')"
   ]
  },
  {
   "cell_type": "code",
   "execution_count": 20,
   "metadata": {},
   "outputs": [],
   "source": [
    "# wave1_publicUse.head()"
   ]
  },
  {
   "cell_type": "code",
   "execution_count": 21,
   "metadata": {},
   "outputs": [
    {
     "data": {
      "text/plain": [
       "(6504, 32)"
      ]
     },
     "execution_count": 21,
     "metadata": {},
     "output_type": "execute_result"
    }
   ],
   "source": [
    "wave1_publicUse.shape"
   ]
  },
  {
   "cell_type": "code",
   "execution_count": 22,
   "metadata": {},
   "outputs": [],
   "source": [
    "# wave2_publicUse.head()"
   ]
  },
  {
   "cell_type": "code",
   "execution_count": 23,
   "metadata": {},
   "outputs": [
    {
     "data": {
      "text/plain": [
       "(4834, 32)"
      ]
     },
     "execution_count": 23,
     "metadata": {},
     "output_type": "execute_result"
    }
   ],
   "source": [
    "wave2_publicUse.shape"
   ]
  },
  {
   "cell_type": "markdown",
   "metadata": {},
   "source": [
    "#### Merging Waves 1 and 2 with Public Use Contextual Databases"
   ]
  },
  {
   "cell_type": "code",
   "execution_count": 24,
   "metadata": {
    "collapsed": true
   },
   "outputs": [],
   "source": [
    "wave1 = pd.merge(left=wave1, right=wave1_publicUse, left_on='AID', right_on='AID')\n",
    "wave2 = pd.merge(left=wave2, right=wave2_publicUse, left_on='AID', right_on='AID')"
   ]
  },
  {
   "cell_type": "code",
   "execution_count": 25,
   "metadata": {},
   "outputs": [],
   "source": [
    "# wave1.head()"
   ]
  },
  {
   "cell_type": "code",
   "execution_count": 26,
   "metadata": {},
   "outputs": [
    {
     "data": {
      "text/plain": [
       "(6504, 2825)"
      ]
     },
     "execution_count": 26,
     "metadata": {},
     "output_type": "execute_result"
    }
   ],
   "source": [
    "wave1.shape"
   ]
  },
  {
   "cell_type": "code",
   "execution_count": 27,
   "metadata": {},
   "outputs": [],
   "source": [
    "# wave2.head()"
   ]
  },
  {
   "cell_type": "code",
   "execution_count": 28,
   "metadata": {},
   "outputs": [
    {
     "data": {
      "text/plain": [
       "(4834, 2563)"
      ]
     },
     "execution_count": 28,
     "metadata": {},
     "output_type": "execute_result"
    }
   ],
   "source": [
    "wave2.shape"
   ]
  },
  {
   "cell_type": "markdown",
   "metadata": {},
   "source": [
    "#### Merging Waves with Biomarkers"
   ]
  },
  {
   "cell_type": "markdown",
   "metadata": {},
   "source": [
    "NB: I created 3 merged datasets for each wave, one for each set of biomarkers. Suspect we'll be working discretely with different biomarkers. This way we can just pair down the dataset to desired variables directly in one go. If you want a single dataset with all biomarkers it'll be quick to do."
   ]
  },
  {
   "cell_type": "code",
   "execution_count": 29,
   "metadata": {},
   "outputs": [],
   "source": [
    "wave1_gluc = pd.merge(left=wave1, right=glucHome, left_on='AID', right_on='AID')\n",
    "wave1_infImm = pd.merge(left=wave1, right=infImmFunc, left_on='AID', right_on='AID')\n",
    "wave1_lipids = pd.merge(left=wave1, right=lipids, left_on='AID', right_on='AID')"
   ]
  },
  {
   "cell_type": "code",
   "execution_count": 30,
   "metadata": {},
   "outputs": [
    {
     "name": "stdout",
     "output_type": "stream",
     "text": [
      "(5114, 2834)\n",
      "(5114, 2840)\n",
      "(5114, 2838)\n"
     ]
    }
   ],
   "source": [
    "print wave1_gluc.shape\n",
    "print wave1_infImm.shape\n",
    "print wave1_lipids.shape"
   ]
  },
  {
   "cell_type": "code",
   "execution_count": 31,
   "metadata": {
    "collapsed": true
   },
   "outputs": [],
   "source": [
    "wave2_gluc = pd.merge(left=wave2, right=glucHome, left_on='AID', right_on='AID')\n",
    "wave2_infImm = pd.merge(left=wave2, right=infImmFunc, left_on='AID', right_on='AID')\n",
    "wave2_lipids = pd.merge(left=wave2, right=lipids, left_on='AID', right_on='AID')"
   ]
  },
  {
   "cell_type": "code",
   "execution_count": 32,
   "metadata": {},
   "outputs": [],
   "source": [
    "# wave2_gluc.head()"
   ]
  },
  {
   "cell_type": "code",
   "execution_count": 33,
   "metadata": {},
   "outputs": [],
   "source": [
    "# wave2_infImm.head()"
   ]
  },
  {
   "cell_type": "code",
   "execution_count": 34,
   "metadata": {},
   "outputs": [],
   "source": [
    "# wave2_lipids.head()"
   ]
  },
  {
   "cell_type": "code",
   "execution_count": 35,
   "metadata": {},
   "outputs": [
    {
     "name": "stdout",
     "output_type": "stream",
     "text": [
      "(3924, 2572)\n",
      "(3924, 2578)\n",
      "(3924, 2576)\n"
     ]
    }
   ],
   "source": [
    "print wave2_gluc.shape\n",
    "print wave2_infImm.shape\n",
    "print wave2_lipids.shape"
   ]
  },
  {
   "cell_type": "code",
   "execution_count": 36,
   "metadata": {
    "collapsed": true
   },
   "outputs": [],
   "source": [
    "wave3_gluc = pd.merge(left=wave3, right=glucHome, left_on='AID', right_on='AID')\n",
    "wave3_infImm = pd.merge(left=wave3, right=infImmFunc, left_on='AID', right_on='AID')\n",
    "wave3_lipids = pd.merge(left=wave3, right=lipids, left_on='AID', right_on='AID')"
   ]
  },
  {
   "cell_type": "code",
   "execution_count": 37,
   "metadata": {},
   "outputs": [],
   "source": [
    "# wave3_gluc.head()"
   ]
  },
  {
   "cell_type": "code",
   "execution_count": 38,
   "metadata": {},
   "outputs": [],
   "source": [
    "# wave3_infImm.head()"
   ]
  },
  {
   "cell_type": "code",
   "execution_count": 39,
   "metadata": {},
   "outputs": [],
   "source": [
    "# wave3_lipids.head()"
   ]
  },
  {
   "cell_type": "code",
   "execution_count": 40,
   "metadata": {},
   "outputs": [
    {
     "name": "stdout",
     "output_type": "stream",
     "text": [
      "(4208, 1840)\n",
      "(4208, 1846)\n",
      "(4208, 1844)\n"
     ]
    }
   ],
   "source": [
    "print wave3_gluc.shape\n",
    "print wave3_infImm.shape\n",
    "print wave3_lipids.shape"
   ]
  },
  {
   "cell_type": "code",
   "execution_count": 41,
   "metadata": {
    "collapsed": true
   },
   "outputs": [],
   "source": [
    "wave4_gluc = pd.merge(left=wave4, right=glucHome, left_on='AID', right_on='AID')\n",
    "wave4_infImm = pd.merge(left=wave4, right=infImmFunc, left_on='AID', right_on='AID')\n",
    "wave4_lipids = pd.merge(left=wave4, right=lipids, left_on='AID', right_on='AID')"
   ]
  },
  {
   "cell_type": "code",
   "execution_count": 42,
   "metadata": {},
   "outputs": [],
   "source": [
    "# wave4_gluc.head()"
   ]
  },
  {
   "cell_type": "code",
   "execution_count": 43,
   "metadata": {},
   "outputs": [],
   "source": [
    "# wave4_infImm.head()"
   ]
  },
  {
   "cell_type": "code",
   "execution_count": 44,
   "metadata": {},
   "outputs": [],
   "source": [
    "# wave4_lipids.head()"
   ]
  },
  {
   "cell_type": "code",
   "execution_count": 45,
   "metadata": {},
   "outputs": [
    {
     "name": "stdout",
     "output_type": "stream",
     "text": [
      "(5114, 929)\n",
      "(5114, 935)\n",
      "(5114, 933)\n"
     ]
    }
   ],
   "source": [
    "print wave4_gluc.shape\n",
    "print wave4_infImm.shape\n",
    "print wave4_lipids.shape"
   ]
  },
  {
   "cell_type": "code",
   "execution_count": 46,
   "metadata": {},
   "outputs": [],
   "source": [
    "def filterDf(df):\n",
    "\n",
    "    #get fields we manually selected from wave 1\n",
    "    sf = pd.read_csv(r'C:\\dev\\data\\health\\dataSets\\wave1_selectedFields.csv')\n",
    "    selectedFields = set(sf.Variable)\n",
    "    \n",
    "    #later we might want to translate the manually selected fields to equivalents in waves 2, 3, 4\n",
    "\n",
    "    #for now, keep all the biomarkers\n",
    "    selectedFields = selectedFields.union([\"C_JOINT\"])\n",
    "    selectedFields = selectedFields.union([\"C_CRP\"])\n",
    "    selectedFields = selectedFields.union([\"C_JOINT2\"])\n",
    "    \n",
    "    #drop columns with many NaN values\n",
    "    selectedFields = selectedFields.difference(['CONVERT','C_HBA1C','HBA1C','C_FGLU','C_NFGLU', 'GLUCOSE','FASTTIME'])\n",
    "    \n",
    "    #and keep all the publicUse stuff\n",
    "    selectedFields = selectedFields.union(wave1_publicUse.columns)\n",
    "    selectedFields = selectedFields.union(wave2_publicUse.columns)\n",
    "    \n",
    "    #wildcard matches wave 1 section 1\n",
    "    wildCardPatterns = ['H1GI']\n",
    "    \n",
    "    slctdCols = filter(lambda x: x in selectedFields or any(y in x for y in wildCardPatterns), df.columns)\n",
    "    \n",
    "    return df[slctdCols].copy()"
   ]
  },
  {
   "cell_type": "code",
   "execution_count": 47,
   "metadata": {},
   "outputs": [
    {
     "data": {
      "text/plain": [
       "True"
      ]
     },
     "execution_count": 47,
     "metadata": {},
     "output_type": "execute_result"
    }
   ],
   "source": [
    "\"C_JOINT2\" in wave1_lipids.columns\n",
    "\n",
    "# for col in wave1_infImm.columns:\n",
    "#     print col"
   ]
  },
  {
   "cell_type": "code",
   "execution_count": 48,
   "metadata": {},
   "outputs": [],
   "source": [
    "wave1_gluc_filt = filterDf(wave1_gluc)\n",
    "wave1_imm_filt = filterDf(wave1_infImm)\n",
    "wave1_lip_filt = filterDf(wave1_lipids)"
   ]
  },
  {
   "cell_type": "code",
   "execution_count": 74,
   "metadata": {},
   "outputs": [],
   "source": [
    "def dropNa(df):\n",
    "\n",
    "    floatCols = []\n",
    "\n",
    "    for col in df.columns:\n",
    "        if df[col].dtype == np.float64:\n",
    "            floatCols.append(col)\n",
    "\n",
    "    nullIdxs = set()\n",
    "    colCnts = dict()\n",
    "\n",
    "    for i in range(len(df)):\n",
    "        row = df.iloc[i]\n",
    "        for col in floatCols:\n",
    "            val = row[col]\n",
    "            if np.isnan(val):\n",
    "                nullIdxs.add(i)\n",
    "                if col not in colCnts:\n",
    "                    colCnts[col] = 0\n",
    "                colCnts[col] += 1\n",
    "\n",
    "    print(\"Total rows to drop: %d\" % len(nullIdxs))\n",
    "\n",
    "    for col in colCnts:\n",
    "        if colCnts[col] > 5:\n",
    "            print(col, colCnts[col])\n",
    "        \n",
    "    return df.drop(df.index[list(nullIdxs)]).copy()\n",
    "    "
   ]
  },
  {
   "cell_type": "code",
   "execution_count": 51,
   "metadata": {
    "scrolled": false
   },
   "outputs": [
    {
     "name": "stdout",
     "output_type": "stream",
     "text": [
      "gluc\n",
      "Total rows to drop: 7\n",
      "('H1TO39', 1)\n",
      "('H1GI3', 1)\n",
      "('H1TO42', 1)\n",
      "('H1FV13', 1)\n",
      "('H1TO38', 1)\n",
      "('H1NM9', 1)\n",
      "('H1NM8', 1)\n",
      "('H1EE6', 1)\n",
      "('H1TO41', 1)\n",
      "('H1TO9', 1)\n",
      "imm\n",
      "Total rows to drop: 398\n",
      "('H1TO39', 1)\n",
      "('H1GI3', 1)\n",
      "('H1TO42', 1)\n",
      "('H1FV13', 1)\n",
      "('C_CRP', 391)\n",
      "('H1TO38', 1)\n",
      "('H1NM9', 1)\n",
      "('H1NM8', 1)\n",
      "('H1EE6', 1)\n",
      "('H1TO41', 1)\n",
      "('H1TO9', 1)\n",
      "lip\n",
      "Total rows to drop: 7\n",
      "('H1TO39', 1)\n",
      "('H1GI3', 1)\n",
      "('H1TO42', 1)\n",
      "('H1FV13', 1)\n",
      "('H1TO38', 1)\n",
      "('H1NM9', 1)\n",
      "('H1NM8', 1)\n",
      "('H1EE6', 1)\n",
      "('H1TO41', 1)\n",
      "('H1TO9', 1)\n"
     ]
    }
   ],
   "source": [
    "print(\"gluc\")\n",
    "wave1_gluc_filt_clean = dropNa(wave1_gluc_filt)\n",
    "\n",
    "print(\"imm\")\n",
    "wave1_imm_filt_clean = dropNa(wave1_imm_filt)\n",
    "\n",
    "print(\"lip\")\n",
    "wave1_lip_filt_clean = dropNa(wave1_lip_filt)"
   ]
  },
  {
   "cell_type": "code",
   "execution_count": 52,
   "metadata": {},
   "outputs": [],
   "source": [
    "wave1_gluc_filt_clean.to_csv(r'C:\\dev\\data\\health\\dataSets\\wave1_gluc_clean.csv')\n",
    "wave1_imm_filt_clean.to_csv(r'C:\\dev\\data\\health\\dataSets\\wave1_imm_clean.csv')\n",
    "wave1_lip_filt_clean.to_csv(r'C:\\dev\\data\\health\\dataSets\\wave1_lip_clean.csv')"
   ]
  },
  {
   "cell_type": "code",
   "execution_count": 53,
   "metadata": {},
   "outputs": [
    {
     "name": "stdout",
     "output_type": "stream",
     "text": [
      "5107\n",
      "4716\n",
      "5107\n"
     ]
    }
   ],
   "source": [
    "print(len(wave1_gluc_filt_clean))\n",
    "print(len(wave1_imm_filt_clean))\n",
    "print(len(wave1_lip_filt_clean))"
   ]
  },
  {
   "cell_type": "code",
   "execution_count": 66,
   "metadata": {},
   "outputs": [],
   "source": [
    "def filter4(df):\n",
    "    slctdCols = filter(lambda x: not any(y in x for y in ['H4RD','H4IR','H4EO']), df.columns)\n",
    "\n",
    "    dropCols = ['CONVERT','C_HBA1C','HBA1C','C_FGLU','C_NFGLU', 'GLUCOSE','FASTTIME','H4DS20','H4DS18','H4DS19','H4DS16','H4DS17',\n",
    "                'H4DS14','H4DS15','H4LM17','H4DS13','PTNR_ID']\n",
    "\n",
    "    slctdCols = frozenset(slctdCols).difference(dropCols)\n",
    "\n",
    "    return df[list(slctdCols)].copy()\n"
   ]
  },
  {
   "cell_type": "code",
   "execution_count": 67,
   "metadata": {},
   "outputs": [],
   "source": [
    "wave4_gluc_filt = filter4(wave4_gluc)\n",
    "wave4_imm_filt = filter4(wave4_infImm)\n",
    "wave4_lip_filt = filter4(wave4_lipids)"
   ]
  },
  {
   "cell_type": "code",
   "execution_count": 69,
   "metadata": {},
   "outputs": [
    {
     "data": {
      "text/plain": [
       "(5114, 929)"
      ]
     },
     "execution_count": 69,
     "metadata": {},
     "output_type": "execute_result"
    }
   ],
   "source": [
    "wave4_gluc.shape"
   ]
  },
  {
   "cell_type": "code",
   "execution_count": 70,
   "metadata": {
    "scrolled": true
   },
   "outputs": [
    {
     "name": "stdout",
     "output_type": "stream",
     "text": [
      "gluc\n",
      "Total rows to drop: 131\n",
      "('H4DA2', 1)\n",
      "('H4GH3Y', 11)\n",
      "('H4PE5', 1)\n",
      "('H4CUFF', 43)\n",
      "('H4LM19', 2)\n",
      "('H4PE8', 1)\n",
      "('H4PE9', 1)\n",
      "('H4PE6', 1)\n",
      "('H4PE7', 1)\n",
      "('H4PE4', 1)\n",
      "('H4MAP', 43)\n",
      "('H4PE2', 1)\n",
      "('H4PE3', 1)\n",
      "('H4LM12', 2)\n",
      "('H4PE1', 1)\n",
      "('H4CJ8', 1)\n",
      "('H4DA6', 1)\n",
      "('H4DA7', 1)\n",
      "('H4PE41', 1)\n",
      "('H4PE40', 1)\n",
      "('C4WD90_2', 2)\n",
      "('C4WD90_3', 2)\n",
      "('C4WD90_1', 2)\n",
      "('H4DA5', 1)\n",
      "('H4LM14', 2)\n",
      "('H4PE29', 1)\n",
      "('H4DA17', 1)\n",
      "('H4PE28', 1)\n",
      "('H4SBP', 43)\n",
      "('H4SE37O', 1)\n",
      "('H4LM15Y', 2)\n",
      "('H4SE37H', 1)\n",
      "('H4GH4B', 1)\n",
      "('H4HR11YN', 1)\n",
      "('H4DA1', 1)\n",
      "('H4GH4A', 1)\n",
      "('H4PE25', 1)\n",
      "('C4WD60_3', 6)\n",
      "('C4WD60_2', 6)\n",
      "('C4WD60_1', 6)\n",
      "('H4PE24', 1)\n",
      "('H4LM11', 2)\n",
      "('H4ARM', 43)\n",
      "('H4DA25', 1)\n",
      "('H4DA24', 1)\n",
      "('H4DA27', 3)\n",
      "('H4DA26', 3)\n",
      "('H4DA21', 3)\n",
      "('H4DA20', 3)\n",
      "('H4DA23', 3)\n",
      "('H4DA22', 3)\n",
      "('H4PE21', 1)\n",
      "('H4HR7J', 6)\n",
      "('H4GH3D', 11)\n",
      "('H4PE20', 1)\n",
      "('H4SE5', 2)\n",
      "('H4SE4', 2)\n",
      "('H4SE1', 2)\n",
      "('H4DA8', 1)\n",
      "('H4PE38', 1)\n",
      "('H4PE39', 1)\n",
      "('H4PE36', 1)\n",
      "('H4PE37', 1)\n",
      "('H4PE34', 1)\n",
      "('H4DA12T', 1)\n",
      "('H4PE32', 1)\n",
      "('H4PE33', 1)\n",
      "('H4PE30', 1)\n",
      "('H4PE31', 1)\n",
      "('H4HR9P', 6)\n",
      "('H4HR11YI', 1)\n",
      "('H4DA28', 1)\n",
      "('H4HR9G', 6)\n",
      "('H4HR9F', 6)\n",
      "('H4HR9E', 6)\n",
      "('H4DBP', 43)\n",
      "('H4HR9C', 6)\n",
      "('H4HR9B', 6)\n",
      "('H4HR9A', 6)\n",
      "('H4HR9O', 6)\n",
      "('H4HR9N', 6)\n",
      "('H4HR9M', 6)\n",
      "('H4HR9L', 6)\n",
      "('H4HR9K', 6)\n",
      "('H4BPCLS', 43)\n",
      "('H4HR9I', 6)\n",
      "('H4HR9H', 6)\n",
      "('H4DA10', 1)\n",
      "('H4DA11', 1)\n",
      "('H4GH3M', 7)\n",
      "('H4BPFLG', 43)\n",
      "('H4DA16', 3)\n",
      "('H4HR7H', 6)\n",
      "('H4DA18', 1)\n",
      "('H4DA19', 3)\n",
      "('H4HR6P', 6)\n",
      "('H4HR11YL', 1)\n",
      "('H4PE23', 1)\n",
      "('H4HR6J', 6)\n",
      "('H4HR6K', 6)\n",
      "('H4HR6H', 6)\n",
      "('H4HR6I', 6)\n",
      "('H4HR6N', 6)\n",
      "('H4HR6O', 6)\n",
      "('H4HR6L', 6)\n",
      "('H4HR6M', 6)\n",
      "('H4HR6B', 6)\n",
      "('H4HR6C', 6)\n",
      "('H4PE27', 1)\n",
      "('H4HR6A', 6)\n",
      "('H4HR6F', 6)\n",
      "('H4HR6G', 6)\n",
      "('H4HR6D', 6)\n",
      "('H4HR6E', 6)\n",
      "('H4HR8H', 6)\n",
      "('H4HR8I', 6)\n",
      "('H4HR8J', 6)\n",
      "('H4HR8K', 6)\n",
      "('H4HR8L', 6)\n",
      "('H4HR8M', 6)\n",
      "('H4HR8N', 6)\n",
      "('H4HR8O', 6)\n",
      "('H4HR8A', 6)\n",
      "('H4HR8B', 6)\n",
      "('H4HR8C', 6)\n",
      "('H4HR8D', 6)\n",
      "('H4HR8E', 6)\n",
      "('H4HR8F', 6)\n",
      "('H4HR8G', 6)\n",
      "('H4HR8P', 6)\n",
      "('H4SE26M', 10)\n",
      "('H4PE35', 1)\n",
      "('H4DA15D', 3)\n",
      "('H4DA15E', 3)\n",
      "('H4DA15B', 3)\n",
      "('H4DA15C', 3)\n",
      "('H4DA15A', 3)\n",
      "('H4PE18', 1)\n",
      "('H4PE19', 1)\n",
      "('H4LM22', 2)\n",
      "('H4SE2', 2)\n",
      "('H4HR7G', 6)\n",
      "('H4PE10', 1)\n",
      "('H4PE11', 1)\n",
      "('H4PE12', 1)\n",
      "('H4PE13', 1)\n",
      "('H4PE14', 1)\n",
      "('H4PE15', 1)\n",
      "('H4PE16', 1)\n",
      "('H4PE17', 1)\n",
      "('H4LM13', 2)\n",
      "('H4LM16Y', 2)\n",
      "('H4TR7', 7)\n",
      "('H4LM28', 2)\n",
      "('H4TR8', 7)\n",
      "('H4DA9', 1)\n",
      "('H4HR11YJ', 1)\n",
      "('H4LM21A', 2)\n",
      "('H4PE22', 1)\n",
      "('H4LM21C', 2)\n",
      "('H4LM21B', 2)\n",
      "('H4TO22', 3)\n",
      "('H4TO21', 4)\n",
      "('H4SE3', 2)\n",
      "('H4SE25', 11)\n",
      "('H4HR7P', 6)\n",
      "('H4HR7I', 6)\n",
      "('H4PP', 43)\n",
      "('H4HR7K', 6)\n",
      "('H4HR9D', 6)\n",
      "('H4HR7M', 6)\n",
      "('H4HR7L', 6)\n",
      "('H4HR7O', 6)\n",
      "('H4HR7N', 6)\n",
      "('H4HR7A', 6)\n",
      "('H4HR7C', 6)\n",
      "('H4HR7B', 6)\n",
      "('H4HR7E', 6)\n",
      "('H4HR7D', 6)\n",
      "('H4GH8', 30)\n",
      "('H4HR7F', 6)\n",
      "('H4HR5C', 6)\n",
      "('H4HR5B', 6)\n",
      "('H4HR5A', 6)\n",
      "('H4HR5G', 6)\n",
      "('H4HR5F', 6)\n",
      "('H4HR5E', 6)\n",
      "('H4HR5D', 6)\n",
      "('H4HR5K', 6)\n",
      "('H4HR5J', 6)\n",
      "('H4HR5I', 6)\n",
      "('H4HR5H', 6)\n",
      "('H4HR5O', 6)\n",
      "('H4HR5N', 6)\n",
      "('H4HR5M', 6)\n",
      "('H4HR5L', 6)\n",
      "('H4LM30', 2)\n",
      "('H4HR5P', 6)\n",
      "('H4DA4', 1)\n",
      "('H4MH29', 1)\n",
      "('H4SE15', 12)\n",
      "('H4SE17', 2)\n",
      "('H4SE16', 12)\n",
      "('H4GH13M', 1)\n",
      "('H4SE18', 2)\n",
      "('H4HR9J', 6)\n",
      "('H4GH13T', 1)\n",
      "('H4HR11YK', 1)\n",
      "('H4GH13H', 1)\n",
      "('H4DA12H', 1)\n",
      "('H4HR11YH', 1)\n",
      "('H4HR11YO', 1)\n",
      "('H4SE28', 10)\n",
      "('H4HR11YM', 1)\n",
      "('H4DA12M', 1)\n",
      "('H4HR11YC', 1)\n",
      "('H4HR11YB', 1)\n",
      "('H4HR11YA', 1)\n",
      "('H4HR11YG', 1)\n",
      "('H4HR11YF', 1)\n",
      "('H4HR11YE', 1)\n",
      "('H4HR11YD', 1)\n",
      "('H4LM20', 2)\n",
      "('H4LM23', 2)\n",
      "('H4DA13', 3)\n",
      "('H4LM25', 2)\n",
      "('H4LM24', 2)\n",
      "('H4LM27', 2)\n",
      "('H4LM26', 2)\n",
      "('H4LM29', 2)\n",
      "('H4DA14', 3)\n",
      "('H4PE26', 1)\n",
      "('H4DA3', 1)\n",
      "('H4SE26G', 10)\n",
      "('H4SE26F', 10)\n",
      "('H4SE26E', 10)\n",
      "('H4SE26D', 10)\n",
      "('H4SE26C', 10)\n",
      "('H4SE26B', 10)\n",
      "('H4SE26A', 10)\n",
      "('H4SE27', 10)\n",
      "('H4SE26O', 10)\n",
      "('H4SE26N', 10)\n",
      "('H4PR', 43)\n",
      "('H4SE26L', 10)\n",
      "('H4SE26K', 10)\n",
      "('H4SE26J', 10)\n",
      "('H4SE26I', 10)\n",
      "('H4SE26H', 10)\n",
      "('H4SE26V', 10)\n",
      "('H4SE26T', 10)\n",
      "('H4SE26S', 10)\n",
      "('H4SE26R', 10)\n",
      "('H4SE26Q', 10)\n",
      "('H4SE26P', 10)\n",
      "imm\n",
      "Total rows to drop: 477\n",
      "('H4DA2', 1)\n",
      "('H4GH3Y', 11)\n",
      "('H4PE5', 1)\n",
      "('H4CUFF', 43)\n",
      "('H4LM19', 2)\n",
      "('H4PE8', 1)\n",
      "('H4PE9', 1)\n",
      "('H4PE6', 1)\n",
      "('H4PE7', 1)\n",
      "('H4PE4', 1)\n",
      "('H4MAP', 43)\n",
      "('H4PE2', 1)\n",
      "('H4PE3', 1)\n",
      "('H4LM12', 2)\n",
      "('H4PE1', 1)\n",
      "('H4CJ8', 1)\n",
      "('H4DA6', 1)\n",
      "('H4DA7', 1)\n",
      "('H4PE41', 1)\n",
      "('H4PE40', 1)\n",
      "('C4WD90_2', 2)\n",
      "('C4WD90_3', 2)\n",
      "('C4WD90_1', 2)\n",
      "('H4DA5', 1)\n",
      "('H4LM14', 2)\n",
      "('H4PE29', 1)\n",
      "('H4DA17', 1)\n",
      "('H4PE28', 1)\n",
      "('H4SBP', 43)\n",
      "('H4SE37O', 1)\n",
      "('H4LM15Y', 2)\n",
      "('H4SE37H', 1)\n",
      "('H4GH4B', 1)\n",
      "('H4HR11YN', 1)\n",
      "('H4DA1', 1)\n",
      "('H4GH4A', 1)\n",
      "('H4PE25', 1)\n",
      "('C4WD60_3', 6)\n",
      "('C4WD60_2', 6)\n",
      "('C4WD60_1', 6)\n",
      "('H4PE24', 1)\n",
      "('H4LM11', 2)\n",
      "('H4ARM', 43)\n",
      "('H4DA25', 1)\n",
      "('H4DA24', 1)\n",
      "('H4DA27', 3)\n",
      "('H4DA26', 3)\n",
      "('H4DA21', 3)\n",
      "('H4DA20', 3)\n",
      "('H4DA23', 3)\n",
      "('H4DA22', 3)\n",
      "('H4PE21', 1)\n",
      "('H4HR7J', 6)\n",
      "('H4GH3D', 11)\n",
      "('H4PE20', 1)\n",
      "('H4SE5', 2)\n",
      "('H4SE4', 2)\n",
      "('H4SE1', 2)\n",
      "('H4DA8', 1)\n",
      "('H4PE38', 1)\n",
      "('H4PE39', 1)\n",
      "('H4PE36', 1)\n",
      "('H4PE37', 1)\n",
      "('H4PE34', 1)\n",
      "('H4DA12T', 1)\n",
      "('H4PE32', 1)\n",
      "('H4PE33', 1)\n",
      "('H4PE30', 1)\n",
      "('H4PE31', 1)\n",
      "('CRP', 391)\n",
      "('H4HR9P', 6)\n",
      "('H4HR11YI', 1)\n",
      "('H4DA28', 1)\n",
      "('H4HR9G', 6)\n",
      "('H4HR9F', 6)\n",
      "('H4HR9E', 6)\n",
      "('H4DBP', 43)\n",
      "('H4HR9C', 6)\n",
      "('H4HR9B', 6)\n",
      "('H4HR9A', 6)\n",
      "('H4HR9O', 6)\n",
      "('H4HR9N', 6)\n",
      "('H4HR9M', 6)\n",
      "('H4HR9L', 6)\n",
      "('H4HR9K', 6)\n",
      "('H4BPCLS', 43)\n",
      "('H4HR9I', 6)\n",
      "('H4HR9H', 6)\n",
      "('H4DA10', 1)\n",
      "('H4DA11', 1)\n",
      "('H4GH3M', 7)\n",
      "('H4BPFLG', 43)\n",
      "('H4DA16', 3)\n",
      "('H4HR7H', 6)\n",
      "('H4DA18', 1)\n",
      "('H4DA19', 3)\n",
      "('H4HR6P', 6)\n",
      "('H4HR11YL', 1)\n",
      "('H4PE23', 1)\n",
      "('H4HR6J', 6)\n",
      "('H4HR6K', 6)\n",
      "('H4HR6H', 6)\n",
      "('H4HR6I', 6)\n",
      "('H4HR6N', 6)\n",
      "('H4HR6O', 6)\n",
      "('H4HR6L', 6)\n",
      "('H4HR6M', 6)\n",
      "('H4HR6B', 6)\n",
      "('H4HR6C', 6)\n",
      "('H4PE27', 1)\n",
      "('H4HR6A', 6)\n",
      "('H4HR6F', 6)\n",
      "('H4HR6G', 6)\n",
      "('H4HR6D', 6)\n",
      "('H4HR6E', 6)\n",
      "('H4HR8H', 6)\n",
      "('H4HR8I', 6)\n",
      "('H4HR8J', 6)\n",
      "('H4HR8K', 6)\n",
      "('H4HR8L', 6)\n",
      "('H4HR8M', 6)\n",
      "('H4HR8N', 6)\n",
      "('H4HR8O', 6)\n",
      "('H4HR8A', 6)\n",
      "('H4HR8B', 6)\n",
      "('H4HR8C', 6)\n",
      "('H4HR8D', 6)\n",
      "('H4HR8E', 6)\n",
      "('H4HR8F', 6)\n",
      "('H4HR8G', 6)\n",
      "('H4HR8P', 6)\n",
      "('H4SE26M', 10)\n",
      "('H4PE35', 1)\n",
      "('H4DA15D', 3)\n",
      "('H4DA15E', 3)\n",
      "('H4DA15B', 3)\n",
      "('H4DA15C', 3)\n",
      "('H4DA15A', 3)\n",
      "('H4PE18', 1)\n",
      "('H4PE19', 1)\n",
      "('H4LM22', 2)\n",
      "('H4SE2', 2)\n",
      "('H4HR7G', 6)\n",
      "('H4PE10', 1)\n",
      "('H4PE11', 1)\n",
      "('H4PE12', 1)\n",
      "('H4PE13', 1)\n",
      "('H4PE14', 1)\n",
      "('H4PE15', 1)\n",
      "('H4PE16', 1)\n",
      "('H4PE17', 1)\n",
      "('H4LM13', 2)\n",
      "('H4LM16Y', 2)\n",
      "('H4TR7', 7)\n",
      "('H4LM28', 2)\n",
      "('H4TR8', 7)\n",
      "('H4DA9', 1)\n",
      "('H4HR11YJ', 1)\n",
      "('H4LM21A', 2)\n",
      "('H4PE22', 1)\n",
      "('H4LM21C', 2)\n",
      "('H4LM21B', 2)\n",
      "('H4TO22', 3)\n",
      "('H4TO21', 4)\n",
      "('H4SE3', 2)\n",
      "('H4SE25', 11)\n",
      "('H4SE26A', 10)\n",
      "('H4HR7P', 6)\n",
      "('H4HR7I', 6)\n",
      "('H4PP', 43)\n",
      "('H4HR7K', 6)\n",
      "('H4HR9D', 6)\n",
      "('H4HR7M', 6)\n",
      "('H4HR7L', 6)\n",
      "('H4HR7O', 6)\n",
      "('H4HR7N', 6)\n",
      "('H4HR7A', 6)\n",
      "('H4HR7C', 6)\n",
      "('H4HR7B', 6)\n",
      "('H4HR7E', 6)\n",
      "('H4HR7D', 6)\n",
      "('H4GH8', 30)\n",
      "('H4HR7F', 6)\n",
      "('H4HR5C', 6)\n",
      "('H4HR5B', 6)\n",
      "('H4HR5A', 6)\n",
      "('H4HR5G', 6)\n",
      "('H4HR5F', 6)\n",
      "('H4HR5E', 6)\n",
      "('H4HR5D', 6)\n",
      "('H4HR5K', 6)\n",
      "('H4HR5J', 6)\n",
      "('H4HR5I', 6)\n",
      "('H4HR5H', 6)\n",
      "('H4HR5O', 6)\n",
      "('H4HR5N', 6)\n",
      "('H4HR5M', 6)\n",
      "('H4HR5L', 6)\n",
      "('H4LM30', 2)\n",
      "('H4HR5P', 6)\n",
      "('H4DA4', 1)\n",
      "('H4MH29', 1)\n",
      "('H4SE15', 12)\n",
      "('H4SE17', 2)\n",
      "('H4SE16', 12)\n",
      "('H4GH13M', 1)\n",
      "('H4SE18', 2)\n",
      "('H4HR9J', 6)\n",
      "('H4GH13T', 1)\n",
      "('H4HR11YK', 1)\n",
      "('H4GH13H', 1)\n",
      "('H4DA12H', 1)\n",
      "('H4HR11YH', 1)\n",
      "('H4HR11YO', 1)\n",
      "('H4SE28', 10)\n",
      "('H4HR11YM', 1)\n",
      "('H4DA12M', 1)\n",
      "('H4HR11YC', 1)\n",
      "('H4HR11YB', 1)\n",
      "('H4HR11YA', 1)\n",
      "('H4HR11YG', 1)\n",
      "('H4HR11YF', 1)\n",
      "('H4HR11YE', 1)\n",
      "('H4HR11YD', 1)\n",
      "('H4LM20', 2)\n",
      "('H4LM23', 2)\n",
      "('H4DA13', 3)\n",
      "('H4LM25', 2)\n",
      "('H4LM24', 2)\n",
      "('H4LM27', 2)\n",
      "('H4LM26', 2)\n",
      "('H4LM29', 2)\n",
      "('H4DA14', 3)\n",
      "('H4PE26', 1)\n",
      "('H4DA3', 1)\n",
      "('H4SE26G', 10)\n",
      "('H4SE26F', 10)\n",
      "('H4SE26E', 10)\n",
      "('H4SE26D', 10)\n",
      "('H4SE26C', 10)\n",
      "('H4SE26B', 10)\n",
      "('C_CRP', 391)\n",
      "('H4SE27', 10)\n",
      "('H4SE26O', 10)\n",
      "('H4SE26N', 10)\n",
      "('H4PR', 43)\n",
      "('H4SE26L', 10)\n",
      "('H4SE26K', 10)\n",
      "('H4SE26J', 10)\n",
      "('H4SE26I', 10)\n",
      "('H4SE26H', 10)\n",
      "('H4SE26V', 10)\n",
      "('EBV', 391)\n",
      "('H4SE26T', 10)\n",
      "('H4SE26S', 10)\n",
      "('H4SE26R', 10)\n",
      "('H4SE26Q', 10)\n",
      "('H4SE26P', 10)\n",
      "lip\n",
      "Total rows to drop: 519\n",
      "('H4DA2', 1)\n",
      "('H4GH3Y', 11)\n",
      "('H4PE5', 1)\n",
      "('H4CUFF', 43)\n",
      "('H4LM19', 2)\n",
      "('H4PE8', 1)\n",
      "('H4PE9', 1)\n",
      "('H4PE6', 1)\n",
      "('H4PE7', 1)\n",
      "('H4PE4', 1)\n",
      "('H4MAP', 43)\n",
      "('H4PE2', 1)\n",
      "('H4PE3', 1)\n",
      "('H4LM12', 2)\n",
      "('H4PE1', 1)\n",
      "('TC_HDL', 391)\n",
      "('H4DA6', 1)\n",
      "('H4DA7', 1)\n",
      "('H4PE41', 1)\n",
      "('H4PE40', 1)\n",
      "('C4WD90_2', 2)\n",
      "('C4WD90_3', 2)\n",
      "('C4WD90_1', 2)\n",
      "('H4DA5', 1)\n",
      "('H4LM14', 2)\n",
      "('H4PE29', 1)\n",
      "('H4DA17', 1)\n",
      "('H4PE28', 1)\n",
      "('H4SBP', 43)\n",
      "('H4SE37O', 1)\n",
      "('H4LM15Y', 2)\n",
      "('H4SE37H', 1)\n",
      "('H4GH4B', 1)\n",
      "('H4HR11YN', 1)\n",
      "('H4DA1', 1)\n",
      "('H4GH4A', 1)\n",
      "('H4PE25', 1)\n",
      "('C4WD60_3', 6)\n",
      "('C4WD60_2', 6)\n",
      "('C4WD60_1', 6)\n",
      "('H4PE24', 1)\n",
      "('H4LM11', 2)\n",
      "('H4ARM', 43)\n",
      "('H4DA25', 1)\n",
      "('H4DA24', 1)\n",
      "('H4DA27', 3)\n",
      "('H4DA26', 3)\n",
      "('H4DA21', 3)\n",
      "('H4DA20', 3)\n",
      "('H4DA23', 3)\n",
      "('H4DA22', 3)\n",
      "('H4PE21', 1)\n",
      "('H4HR7J', 6)\n",
      "('H4GH3D', 11)\n",
      "('H4PE20', 1)\n",
      "('H4SE5', 2)\n",
      "('H4SE4', 2)\n",
      "('H4SE1', 2)\n",
      "('H4DA8', 1)\n",
      "('H4PE38', 1)\n",
      "('H4PE39', 1)\n",
      "('H4PE36', 1)\n",
      "('H4PE37', 1)\n",
      "('H4PE34', 1)\n",
      "('H4DA12T', 1)\n",
      "('H4PE32', 1)\n",
      "('H4PE33', 1)\n",
      "('H4PE30', 1)\n",
      "('H4PE31', 1)\n",
      "('H4CJ8', 1)\n",
      "('H4HR11YI', 1)\n",
      "('H4DA28', 1)\n",
      "('H4HR9G', 6)\n",
      "('H4HR9F', 6)\n",
      "('H4HR9E', 6)\n",
      "('H4DBP', 43)\n",
      "('H4HR9C', 6)\n",
      "('H4HR9B', 6)\n",
      "('H4HR9A', 6)\n",
      "('H4HR9O', 6)\n",
      "('H4HR9N', 6)\n",
      "('H4HR9M', 6)\n",
      "('HDL', 391)\n",
      "('H4HR9K', 6)\n",
      "('H4BPCLS', 43)\n",
      "('H4HR9I', 6)\n",
      "('H4HR9H', 6)\n",
      "('H4DA10', 1)\n",
      "('H4DA11', 1)\n",
      "('H4GH3M', 7)\n",
      "('H4BPFLG', 43)\n",
      "('H4HR11YM', 1)\n",
      "('H4PE23', 1)\n",
      "('H4HR7H', 6)\n",
      "('H4DA18', 1)\n",
      "('H4DA19', 3)\n",
      "('H4HR6P', 6)\n",
      "('H4HR11YL', 1)\n",
      "('LDL', 391)\n",
      "('H4HR6J', 6)\n",
      "('H4HR6K', 6)\n",
      "('H4HR6H', 6)\n",
      "('H4HR6I', 6)\n",
      "('H4HR6N', 6)\n",
      "('H4HR6O', 6)\n",
      "('H4HR6L', 6)\n",
      "('H4HR6M', 6)\n",
      "('H4HR6B', 6)\n",
      "('H4HR6C', 6)\n",
      "('H4PE27', 1)\n",
      "('H4HR6A', 6)\n",
      "('H4HR6F', 6)\n",
      "('H4HR6G', 6)\n",
      "('H4HR6D', 6)\n",
      "('H4HR6E', 6)\n",
      "('H4HR8H', 6)\n",
      "('H4HR8I', 6)\n",
      "('H4HR8J', 6)\n",
      "('H4HR8K', 6)\n",
      "('H4HR8L', 6)\n",
      "('H4HR8M', 6)\n",
      "('H4HR8N', 6)\n",
      "('H4HR8O', 6)\n",
      "('H4HR8A', 6)\n",
      "('H4HR8B', 6)\n",
      "('H4HR8C', 6)\n",
      "('H4HR8D', 6)\n",
      "('H4HR8E', 6)\n",
      "('H4HR8F', 6)\n",
      "('H4HR8G', 6)\n",
      "('H4HR8P', 6)\n",
      "('H4SE26M', 10)\n",
      "('H4PE35', 1)\n",
      "('H4DA15D', 3)\n",
      "('H4DA15E', 3)\n",
      "('H4DA15B', 3)\n",
      "('H4DA15C', 3)\n",
      "('H4DA13', 3)\n",
      "('H4PE18', 1)\n",
      "('H4PE19', 1)\n",
      "('H4LM22', 2)\n",
      "('H4SE2', 2)\n",
      "('H4HR7G', 6)\n",
      "('H4PE10', 1)\n",
      "('H4PE11', 1)\n",
      "('H4PE12', 1)\n",
      "('H4PE13', 1)\n",
      "('H4PE14', 1)\n",
      "('H4PE15', 1)\n",
      "('H4PE16', 1)\n",
      "('H4PE17', 1)\n",
      "('H4LM13', 2)\n",
      "('H4LM16Y', 2)\n",
      "('H4TR7', 7)\n",
      "('H4LM28', 2)\n",
      "('H4TR8', 7)\n",
      "('H4DA9', 1)\n",
      "('H4HR11YJ', 1)\n",
      "('H4HR9P', 6)\n",
      "('TG_FLG', 391)\n",
      "('H4LM21A', 2)\n",
      "('H4PE22', 1)\n",
      "('H4LM21C', 2)\n",
      "('H4LM21B', 2)\n",
      "('HDL_FLG', 391)\n",
      "('H4TO22', 3)\n",
      "('H4TO21', 4)\n",
      "('H4SE3', 2)\n",
      "('H4SE28', 10)\n",
      "('H4SE25', 11)\n",
      "('H4HR7P', 6)\n",
      "('H4HR7I', 6)\n",
      "('H4PP', 43)\n",
      "('H4HR7K', 6)\n",
      "('H4HR9D', 6)\n",
      "('H4HR7M', 6)\n",
      "('H4HR7L', 6)\n",
      "('H4HR7O', 6)\n",
      "('H4HR7N', 6)\n",
      "('H4HR7A', 6)\n",
      "('H4HR7C', 6)\n",
      "('H4HR7B', 6)\n",
      "('H4HR7E', 6)\n",
      "('H4HR7D', 6)\n",
      "('H4GH8', 30)\n",
      "('H4HR7F', 6)\n",
      "('H4HR5C', 6)\n",
      "('H4HR5B', 6)\n",
      "('H4HR5A', 6)\n",
      "('H4HR5G', 6)\n",
      "('H4HR5F', 6)\n",
      "('H4HR5E', 6)\n",
      "('H4HR5D', 6)\n",
      "('H4HR5K', 6)\n",
      "('H4HR5J', 6)\n",
      "('H4HR5I', 6)\n",
      "('H4HR5H', 6)\n",
      "('H4HR5O', 6)\n",
      "('H4HR5N', 6)\n",
      "('H4HR5M', 6)\n",
      "('H4HR5L', 6)\n",
      "('H4LM30', 2)\n",
      "('H4HR5P', 6)\n",
      "('FAST_LIP', 47)\n",
      "('H4DA4', 1)\n",
      "('H4DA15A', 3)\n",
      "('H4MH29', 1)\n",
      "('H4SE15', 12)\n",
      "('H4SE17', 2)\n",
      "('H4HR9L', 6)\n",
      "('H4GH13M', 1)\n",
      "('H4SE18', 2)\n",
      "('H4HR9J', 6)\n",
      "('TG', 391)\n",
      "('H4GH13T', 1)\n",
      "('TC', 391)\n",
      "('H4HR11YK', 1)\n",
      "('H4GH13H', 1)\n",
      "('H4DA12H', 1)\n",
      "('H4HR11YH', 1)\n",
      "('H4HR11YO', 1)\n",
      "('TC_FLG', 391)\n",
      "('H4DA16', 3)\n",
      "('H4DA12M', 1)\n",
      "('H4HR11YC', 1)\n",
      "('H4HR11YB', 1)\n",
      "('H4HR11YA', 1)\n",
      "('H4HR11YG', 1)\n",
      "('H4HR11YF', 1)\n",
      "('H4HR11YE', 1)\n",
      "('H4HR11YD', 1)\n",
      "('H4LM20', 2)\n",
      "('H4LM23', 2)\n",
      "('H4SE16', 12)\n",
      "('H4LM25', 2)\n",
      "('H4LM24', 2)\n",
      "('H4LM27', 2)\n",
      "('H4LM26', 2)\n",
      "('H4LM29', 2)\n",
      "('H4DA14', 3)\n",
      "('NON_HDL', 391)\n",
      "('H4PE26', 1)\n",
      "('H4DA3', 1)\n",
      "('H4SE26G', 10)\n",
      "('H4SE26F', 10)\n",
      "('H4SE26E', 10)\n",
      "('H4SE26D', 10)\n",
      "('H4SE26C', 10)\n",
      "('H4SE26B', 10)\n",
      "('H4SE26A', 10)\n",
      "('H4SE27', 10)\n",
      "('H4SE26O', 10)\n",
      "('H4SE26N', 10)\n",
      "('H4PR', 43)\n",
      "('H4SE26L', 10)\n",
      "('H4SE26K', 10)\n",
      "('H4SE26J', 10)\n",
      "('H4SE26I', 10)\n",
      "('H4SE26H', 10)\n",
      "('H4SE26V', 10)\n",
      "('H4SE26T', 10)\n",
      "('H4SE26S', 10)\n",
      "('H4SE26R', 10)\n",
      "('H4SE26Q', 10)\n",
      "('H4SE26P', 10)\n"
     ]
    }
   ],
   "source": [
    "print(\"gluc\")\n",
    "wave4_gluc_filt_clean = dropNa(wave4_gluc_filt)\n",
    "\n",
    "print(\"imm\")\n",
    "wave4_imm_filt_clean = dropNa(wave4_imm_filt)\n",
    "\n",
    "print(\"lip\")\n",
    "wave4_lip_filt_clean = dropNa(wave4_lip_filt)"
   ]
  },
  {
   "cell_type": "code",
   "execution_count": 71,
   "metadata": {},
   "outputs": [],
   "source": [
    "def countDtypes(df):\n",
    "    dTypes = dict()\n",
    "    for col in df.columns:\n",
    "        key = str(df[col].dtype)\n",
    "        if key not in dTypes:\n",
    "            dTypes[key] = []\n",
    "        dTypes[key].append(col)\n",
    "#     print(dTypes)\n",
    "    return dTypes\n"
   ]
  },
  {
   "cell_type": "code",
   "execution_count": 77,
   "metadata": {},
   "outputs": [],
   "source": [
    "def dummy(df):\n",
    "    z = df\n",
    "    \n",
    "    z = z[z.columns.drop(countDtypes(z)['object'])]\n",
    "\n",
    "    toDummy = []\n",
    "\n",
    "    for col in z:\n",
    "        vals = z[col].unique()\n",
    "\n",
    "        if len(vals) > 10:\n",
    "#             print(\"%8s - continuous? %s\" % (col, z[col].dtype))\n",
    "            continue\n",
    "        else:\n",
    "#             print(\"%8s - %s\" % (col, vals))\n",
    "            toDummy.append(col)\n",
    "\n",
    "    toDummy = filter(lambda x: x not in ['C_JOINT','C_CRP','C_JOINT2'], toDummy)\n",
    "    \n",
    "    dum = pd.get_dummies(z, columns=toDummy)\n",
    "    \n",
    "    colsToDrop = []\n",
    "\n",
    "    for col in dum.columns:\n",
    "        split = str.split(col, \"_\")\n",
    "\n",
    "        key = split[-1:][0]\n",
    "\n",
    "        try:\n",
    "    #         print(key)\n",
    "            n = float(key)\n",
    "\n",
    "            if n > 7:\n",
    "                colsToDrop.append(col)\n",
    "        except:\n",
    "            continue\n",
    "    \n",
    "    return dum[dum.columns.drop(colsToDrop)].copy()"
   ]
  },
  {
   "cell_type": "code",
   "execution_count": 78,
   "metadata": {},
   "outputs": [],
   "source": [
    "wave4_gluc_dum = dummy(wave4_gluc_filt_clean)\n",
    "wave4_imm_dum = dummy(wave4_imm_filt_clean)\n",
    "wave4_lip_dum = dummy(wave4_lip_filt_clean)"
   ]
  },
  {
   "cell_type": "code",
   "execution_count": 80,
   "metadata": {},
   "outputs": [],
   "source": [
    "wave4_gluc_dum.to_csv(r'C:\\dev\\data\\health\\dataSets\\wave4_gluc_dummies.csv')\n",
    "wave4_imm_dum.to_csv(r'C:\\dev\\data\\health\\dataSets\\wave4_imm_dummies.csv')\n",
    "wave4_lip_dum.to_csv(r'C:\\dev\\data\\health\\dataSets\\wave4_lip_dummies.csv')"
   ]
  },
  {
   "cell_type": "code",
   "execution_count": 79,
   "metadata": {},
   "outputs": [
    {
     "data": {
      "text/plain": [
       "(4983, 2649)"
      ]
     },
     "execution_count": 79,
     "metadata": {},
     "output_type": "execute_result"
    }
   ],
   "source": [
    "wave4_gluc_dum.shape"
   ]
  },
  {
   "cell_type": "code",
   "execution_count": null,
   "metadata": {},
   "outputs": [],
   "source": [
    "slctdCols = filter(lambda x: not any(y in x for y in ['H4RD','H4IR','H4EO']), wave4_gluc.columns)\n",
    "\n",
    "dropCols = ['CONVERT','C_HBA1C','HBA1C','C_FGLU','C_NFGLU', 'GLUCOSE','FASTTIME','H4DS20','H4DS18','H4DS19','H4DS16','H4DS17',\n",
    "            'H4DS14','H4DS15','H4LM17','H4DS13','PTNR_ID']\n",
    "\n",
    "slctdCols = frozenset(slctdCols).difference(dropCols)\n",
    "\n",
    "wave4_gluc_clean = wave4_gluc[list(slctdCols)].copy()\n",
    "\n",
    "wave4_gluc_clean.shape"
   ]
  },
  {
   "cell_type": "code",
   "execution_count": null,
   "metadata": {},
   "outputs": [],
   "source": [
    "wave4_gluc_dum = pd.get_dummies(z, columns=toDummy)\n",
    "wave4_gluc_dum.shape"
   ]
  },
  {
   "cell_type": "code",
   "execution_count": null,
   "metadata": {},
   "outputs": [],
   "source": [
    "z = dropNa(df)"
   ]
  },
  {
   "cell_type": "code",
   "execution_count": null,
   "metadata": {
    "collapsed": true
   },
   "outputs": [],
   "source": []
  },
  {
   "cell_type": "code",
   "execution_count": null,
   "metadata": {},
   "outputs": [],
   "source": [
    "colsToDrop = []\n",
    "\n",
    "for col in wave4_gluc_dum.columns:\n",
    "    split = str.split(col, \"_\")\n",
    "    \n",
    "    key = split[-1:][0]\n",
    "    \n",
    "    try:\n",
    "#         print(key)\n",
    "        n = float(key)\n",
    "        \n",
    "        if n > 7:\n",
    "            colsToDrop.append(col)\n",
    "    except:\n",
    "        continue\n",
    "\n",
    "colsToDrop = colsToDrop\n",
    "len(colsToDrop)"
   ]
  },
  {
   "cell_type": "code",
   "execution_count": null,
   "metadata": {},
   "outputs": [],
   "source": []
  },
  {
   "cell_type": "code",
   "execution_count": null,
   "metadata": {},
   "outputs": [],
   "source": [
    "wave4_gluc_dum1 = wave4_gluc_dum[wave4_gluc_dum.columns.drop(colsToDrop)].copy()\n",
    "wave4_gluc_dum1.shape"
   ]
  },
  {
   "cell_type": "code",
   "execution_count": null,
   "metadata": {
    "collapsed": true
   },
   "outputs": [],
   "source": []
  }
 ],
 "metadata": {
  "kernelspec": {
   "display_name": "Python 3",
   "language": "python",
   "name": "python3"
  },
  "language_info": {
   "codemirror_mode": {
    "name": "ipython",
    "version": 3
   },
   "file_extension": ".py",
   "mimetype": "text/x-python",
   "name": "python",
   "nbconvert_exporter": "python",
   "pygments_lexer": "ipython3",
   "version": "3.6.3"
  }
 },
 "nbformat": 4,
 "nbformat_minor": 2
}
