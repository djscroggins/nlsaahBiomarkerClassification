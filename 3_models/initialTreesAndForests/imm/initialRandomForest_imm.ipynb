{
 "cells": [
  {
   "cell_type": "code",
   "execution_count": 22,
   "metadata": {
    "collapsed": false
   },
   "outputs": [],
   "source": [
    "# ls"
   ]
  },
  {
   "cell_type": "code",
   "execution_count": 23,
   "metadata": {
    "collapsed": true
   },
   "outputs": [],
   "source": [
    "import pandas as pd\n",
    "import numpy as np"
   ]
  },
  {
   "cell_type": "code",
   "execution_count": 24,
   "metadata": {
    "collapsed": false
   },
   "outputs": [],
   "source": [
    "data = pd.read_csv('wave1_imm_dummies.csv', header=0, na_values=' ', index_col=0)"
   ]
  },
  {
   "cell_type": "code",
   "execution_count": 25,
   "metadata": {
    "collapsed": false
   },
   "outputs": [
    {
     "data": {
      "text/html": [
       "<div>\n",
       "<table border=\"1\" class=\"dataframe\">\n",
       "  <thead>\n",
       "    <tr style=\"text-align: right;\">\n",
       "      <th></th>\n",
       "      <th>H1GI20</th>\n",
       "      <th>H1DA8</th>\n",
       "      <th>H1DA9</th>\n",
       "      <th>H1DA10</th>\n",
       "      <th>H1GH1</th>\n",
       "      <th>H1GH28</th>\n",
       "      <th>H1GH42</th>\n",
       "      <th>H1GH44</th>\n",
       "      <th>H1GH46</th>\n",
       "      <th>H1GH59A</th>\n",
       "      <th>...</th>\n",
       "      <th>BST90P13_3</th>\n",
       "      <th>BST90P24_1</th>\n",
       "      <th>BST90P24_2</th>\n",
       "      <th>BST90P24_3</th>\n",
       "      <th>BST90P24_4</th>\n",
       "      <th>BST90P24_5</th>\n",
       "      <th>BST90P24_6</th>\n",
       "      <th>BST90P26_1</th>\n",
       "      <th>BST90P26_2</th>\n",
       "      <th>BST90P26_3</th>\n",
       "    </tr>\n",
       "    <tr>\n",
       "      <th>AID</th>\n",
       "      <th></th>\n",
       "      <th></th>\n",
       "      <th></th>\n",
       "      <th></th>\n",
       "      <th></th>\n",
       "      <th></th>\n",
       "      <th></th>\n",
       "      <th></th>\n",
       "      <th></th>\n",
       "      <th></th>\n",
       "      <th></th>\n",
       "      <th></th>\n",
       "      <th></th>\n",
       "      <th></th>\n",
       "      <th></th>\n",
       "      <th></th>\n",
       "      <th></th>\n",
       "      <th></th>\n",
       "      <th></th>\n",
       "      <th></th>\n",
       "      <th></th>\n",
       "    </tr>\n",
       "  </thead>\n",
       "  <tbody>\n",
       "    <tr>\n",
       "      <th>57101310</th>\n",
       "      <td>11</td>\n",
       "      <td>33</td>\n",
       "      <td>4.0</td>\n",
       "      <td>0</td>\n",
       "      <td>4</td>\n",
       "      <td>5</td>\n",
       "      <td>4</td>\n",
       "      <td>5</td>\n",
       "      <td>5</td>\n",
       "      <td>6</td>\n",
       "      <td>...</td>\n",
       "      <td>0</td>\n",
       "      <td>0</td>\n",
       "      <td>0</td>\n",
       "      <td>0</td>\n",
       "      <td>0</td>\n",
       "      <td>0</td>\n",
       "      <td>1</td>\n",
       "      <td>0</td>\n",
       "      <td>0</td>\n",
       "      <td>1</td>\n",
       "    </tr>\n",
       "    <tr>\n",
       "      <th>57109625</th>\n",
       "      <td>8</td>\n",
       "      <td>14</td>\n",
       "      <td>7.0</td>\n",
       "      <td>3</td>\n",
       "      <td>1</td>\n",
       "      <td>2</td>\n",
       "      <td>2</td>\n",
       "      <td>4</td>\n",
       "      <td>4</td>\n",
       "      <td>5</td>\n",
       "      <td>...</td>\n",
       "      <td>0</td>\n",
       "      <td>0</td>\n",
       "      <td>1</td>\n",
       "      <td>0</td>\n",
       "      <td>0</td>\n",
       "      <td>0</td>\n",
       "      <td>0</td>\n",
       "      <td>0</td>\n",
       "      <td>0</td>\n",
       "      <td>1</td>\n",
       "    </tr>\n",
       "    <tr>\n",
       "      <th>57111071</th>\n",
       "      <td>8</td>\n",
       "      <td>35</td>\n",
       "      <td>12.0</td>\n",
       "      <td>2</td>\n",
       "      <td>2</td>\n",
       "      <td>4</td>\n",
       "      <td>3</td>\n",
       "      <td>3</td>\n",
       "      <td>3</td>\n",
       "      <td>5</td>\n",
       "      <td>...</td>\n",
       "      <td>0</td>\n",
       "      <td>0</td>\n",
       "      <td>1</td>\n",
       "      <td>0</td>\n",
       "      <td>0</td>\n",
       "      <td>0</td>\n",
       "      <td>0</td>\n",
       "      <td>0</td>\n",
       "      <td>0</td>\n",
       "      <td>1</td>\n",
       "    </tr>\n",
       "    <tr>\n",
       "      <th>57113943</th>\n",
       "      <td>9</td>\n",
       "      <td>10</td>\n",
       "      <td>5.0</td>\n",
       "      <td>4</td>\n",
       "      <td>3</td>\n",
       "      <td>4</td>\n",
       "      <td>3</td>\n",
       "      <td>4</td>\n",
       "      <td>5</td>\n",
       "      <td>6</td>\n",
       "      <td>...</td>\n",
       "      <td>1</td>\n",
       "      <td>0</td>\n",
       "      <td>1</td>\n",
       "      <td>0</td>\n",
       "      <td>0</td>\n",
       "      <td>0</td>\n",
       "      <td>0</td>\n",
       "      <td>1</td>\n",
       "      <td>0</td>\n",
       "      <td>0</td>\n",
       "    </tr>\n",
       "    <tr>\n",
       "      <th>57117542</th>\n",
       "      <td>9</td>\n",
       "      <td>0</td>\n",
       "      <td>0.0</td>\n",
       "      <td>0</td>\n",
       "      <td>2</td>\n",
       "      <td>3</td>\n",
       "      <td>4</td>\n",
       "      <td>4</td>\n",
       "      <td>4</td>\n",
       "      <td>6</td>\n",
       "      <td>...</td>\n",
       "      <td>0</td>\n",
       "      <td>0</td>\n",
       "      <td>0</td>\n",
       "      <td>0</td>\n",
       "      <td>0</td>\n",
       "      <td>0</td>\n",
       "      <td>0</td>\n",
       "      <td>0</td>\n",
       "      <td>0</td>\n",
       "      <td>0</td>\n",
       "    </tr>\n",
       "  </tbody>\n",
       "</table>\n",
       "<p>5 rows × 499 columns</p>\n",
       "</div>"
      ],
      "text/plain": [
       "          H1GI20  H1DA8  H1DA9  H1DA10  H1GH1  H1GH28  H1GH42  H1GH44  H1GH46  \\\n",
       "AID                                                                             \n",
       "57101310      11     33    4.0       0      4       5       4       5       5   \n",
       "57109625       8     14    7.0       3      1       2       2       4       4   \n",
       "57111071       8     35   12.0       2      2       4       3       3       3   \n",
       "57113943       9     10    5.0       4      3       4       3       4       5   \n",
       "57117542       9      0    0.0       0      2       3       4       4       4   \n",
       "\n",
       "          H1GH59A     ...      BST90P13_3  BST90P24_1  BST90P24_2  BST90P24_3  \\\n",
       "AID                   ...                                                       \n",
       "57101310        6     ...               0           0           0           0   \n",
       "57109625        5     ...               0           0           1           0   \n",
       "57111071        5     ...               0           0           1           0   \n",
       "57113943        6     ...               1           0           1           0   \n",
       "57117542        6     ...               0           0           0           0   \n",
       "\n",
       "          BST90P24_4  BST90P24_5  BST90P24_6  BST90P26_1  BST90P26_2  \\\n",
       "AID                                                                    \n",
       "57101310           0           0           1           0           0   \n",
       "57109625           0           0           0           0           0   \n",
       "57111071           0           0           0           0           0   \n",
       "57113943           0           0           0           1           0   \n",
       "57117542           0           0           0           0           0   \n",
       "\n",
       "          BST90P26_3  \n",
       "AID                   \n",
       "57101310           1  \n",
       "57109625           1  \n",
       "57111071           1  \n",
       "57113943           0  \n",
       "57117542           0  \n",
       "\n",
       "[5 rows x 499 columns]"
      ]
     },
     "execution_count": 25,
     "metadata": {},
     "output_type": "execute_result"
    }
   ],
   "source": [
    "data.head()"
   ]
  },
  {
   "cell_type": "code",
   "execution_count": 26,
   "metadata": {
    "collapsed": false
   },
   "outputs": [
    {
     "data": {
      "text/plain": [
       "3.0    1870\n",
       "1.0    1371\n",
       "2.0    1298\n",
       "Name: C_CRP, dtype: int64"
      ]
     },
     "execution_count": 26,
     "metadata": {},
     "output_type": "execute_result"
    }
   ],
   "source": [
    "data.C_CRP.value_counts()"
   ]
  },
  {
   "cell_type": "code",
   "execution_count": 27,
   "metadata": {
    "collapsed": false
   },
   "outputs": [
    {
     "data": {
      "text/plain": [
       "AID\n",
       "57101310    3.0\n",
       "57109625    2.0\n",
       "57111071    1.0\n",
       "57113943    3.0\n",
       "57117542    3.0\n",
       "Name: C_CRP, dtype: float64"
      ]
     },
     "execution_count": 27,
     "metadata": {},
     "output_type": "execute_result"
    }
   ],
   "source": [
    "data_target = data.C_CRP\n",
    "data_target.head()"
   ]
  },
  {
   "cell_type": "code",
   "execution_count": 28,
   "metadata": {
    "collapsed": false
   },
   "outputs": [],
   "source": [
    "del data['C_CRP']"
   ]
  },
  {
   "cell_type": "code",
   "execution_count": 29,
   "metadata": {
    "collapsed": false
   },
   "outputs": [],
   "source": [
    "# del data['H1WP9']"
   ]
  },
  {
   "cell_type": "code",
   "execution_count": 30,
   "metadata": {
    "collapsed": false
   },
   "outputs": [
    {
     "data": {
      "text/html": [
       "<div>\n",
       "<table border=\"1\" class=\"dataframe\">\n",
       "  <thead>\n",
       "    <tr style=\"text-align: right;\">\n",
       "      <th></th>\n",
       "      <th>H1GI20</th>\n",
       "      <th>H1DA8</th>\n",
       "      <th>H1DA9</th>\n",
       "      <th>H1DA10</th>\n",
       "      <th>H1GH1</th>\n",
       "      <th>H1GH28</th>\n",
       "      <th>H1GH42</th>\n",
       "      <th>H1GH44</th>\n",
       "      <th>H1GH46</th>\n",
       "      <th>H1GH59A</th>\n",
       "      <th>...</th>\n",
       "      <th>BST90P13_3</th>\n",
       "      <th>BST90P24_1</th>\n",
       "      <th>BST90P24_2</th>\n",
       "      <th>BST90P24_3</th>\n",
       "      <th>BST90P24_4</th>\n",
       "      <th>BST90P24_5</th>\n",
       "      <th>BST90P24_6</th>\n",
       "      <th>BST90P26_1</th>\n",
       "      <th>BST90P26_2</th>\n",
       "      <th>BST90P26_3</th>\n",
       "    </tr>\n",
       "    <tr>\n",
       "      <th>AID</th>\n",
       "      <th></th>\n",
       "      <th></th>\n",
       "      <th></th>\n",
       "      <th></th>\n",
       "      <th></th>\n",
       "      <th></th>\n",
       "      <th></th>\n",
       "      <th></th>\n",
       "      <th></th>\n",
       "      <th></th>\n",
       "      <th></th>\n",
       "      <th></th>\n",
       "      <th></th>\n",
       "      <th></th>\n",
       "      <th></th>\n",
       "      <th></th>\n",
       "      <th></th>\n",
       "      <th></th>\n",
       "      <th></th>\n",
       "      <th></th>\n",
       "      <th></th>\n",
       "    </tr>\n",
       "  </thead>\n",
       "  <tbody>\n",
       "    <tr>\n",
       "      <th>57101310</th>\n",
       "      <td>11</td>\n",
       "      <td>33</td>\n",
       "      <td>4.0</td>\n",
       "      <td>0</td>\n",
       "      <td>4</td>\n",
       "      <td>5</td>\n",
       "      <td>4</td>\n",
       "      <td>5</td>\n",
       "      <td>5</td>\n",
       "      <td>6</td>\n",
       "      <td>...</td>\n",
       "      <td>0</td>\n",
       "      <td>0</td>\n",
       "      <td>0</td>\n",
       "      <td>0</td>\n",
       "      <td>0</td>\n",
       "      <td>0</td>\n",
       "      <td>1</td>\n",
       "      <td>0</td>\n",
       "      <td>0</td>\n",
       "      <td>1</td>\n",
       "    </tr>\n",
       "    <tr>\n",
       "      <th>57109625</th>\n",
       "      <td>8</td>\n",
       "      <td>14</td>\n",
       "      <td>7.0</td>\n",
       "      <td>3</td>\n",
       "      <td>1</td>\n",
       "      <td>2</td>\n",
       "      <td>2</td>\n",
       "      <td>4</td>\n",
       "      <td>4</td>\n",
       "      <td>5</td>\n",
       "      <td>...</td>\n",
       "      <td>0</td>\n",
       "      <td>0</td>\n",
       "      <td>1</td>\n",
       "      <td>0</td>\n",
       "      <td>0</td>\n",
       "      <td>0</td>\n",
       "      <td>0</td>\n",
       "      <td>0</td>\n",
       "      <td>0</td>\n",
       "      <td>1</td>\n",
       "    </tr>\n",
       "    <tr>\n",
       "      <th>57111071</th>\n",
       "      <td>8</td>\n",
       "      <td>35</td>\n",
       "      <td>12.0</td>\n",
       "      <td>2</td>\n",
       "      <td>2</td>\n",
       "      <td>4</td>\n",
       "      <td>3</td>\n",
       "      <td>3</td>\n",
       "      <td>3</td>\n",
       "      <td>5</td>\n",
       "      <td>...</td>\n",
       "      <td>0</td>\n",
       "      <td>0</td>\n",
       "      <td>1</td>\n",
       "      <td>0</td>\n",
       "      <td>0</td>\n",
       "      <td>0</td>\n",
       "      <td>0</td>\n",
       "      <td>0</td>\n",
       "      <td>0</td>\n",
       "      <td>1</td>\n",
       "    </tr>\n",
       "    <tr>\n",
       "      <th>57113943</th>\n",
       "      <td>9</td>\n",
       "      <td>10</td>\n",
       "      <td>5.0</td>\n",
       "      <td>4</td>\n",
       "      <td>3</td>\n",
       "      <td>4</td>\n",
       "      <td>3</td>\n",
       "      <td>4</td>\n",
       "      <td>5</td>\n",
       "      <td>6</td>\n",
       "      <td>...</td>\n",
       "      <td>1</td>\n",
       "      <td>0</td>\n",
       "      <td>1</td>\n",
       "      <td>0</td>\n",
       "      <td>0</td>\n",
       "      <td>0</td>\n",
       "      <td>0</td>\n",
       "      <td>1</td>\n",
       "      <td>0</td>\n",
       "      <td>0</td>\n",
       "    </tr>\n",
       "    <tr>\n",
       "      <th>57117542</th>\n",
       "      <td>9</td>\n",
       "      <td>0</td>\n",
       "      <td>0.0</td>\n",
       "      <td>0</td>\n",
       "      <td>2</td>\n",
       "      <td>3</td>\n",
       "      <td>4</td>\n",
       "      <td>4</td>\n",
       "      <td>4</td>\n",
       "      <td>6</td>\n",
       "      <td>...</td>\n",
       "      <td>0</td>\n",
       "      <td>0</td>\n",
       "      <td>0</td>\n",
       "      <td>0</td>\n",
       "      <td>0</td>\n",
       "      <td>0</td>\n",
       "      <td>0</td>\n",
       "      <td>0</td>\n",
       "      <td>0</td>\n",
       "      <td>0</td>\n",
       "    </tr>\n",
       "  </tbody>\n",
       "</table>\n",
       "<p>5 rows × 498 columns</p>\n",
       "</div>"
      ],
      "text/plain": [
       "          H1GI20  H1DA8  H1DA9  H1DA10  H1GH1  H1GH28  H1GH42  H1GH44  H1GH46  \\\n",
       "AID                                                                             \n",
       "57101310      11     33    4.0       0      4       5       4       5       5   \n",
       "57109625       8     14    7.0       3      1       2       2       4       4   \n",
       "57111071       8     35   12.0       2      2       4       3       3       3   \n",
       "57113943       9     10    5.0       4      3       4       3       4       5   \n",
       "57117542       9      0    0.0       0      2       3       4       4       4   \n",
       "\n",
       "          H1GH59A     ...      BST90P13_3  BST90P24_1  BST90P24_2  BST90P24_3  \\\n",
       "AID                   ...                                                       \n",
       "57101310        6     ...               0           0           0           0   \n",
       "57109625        5     ...               0           0           1           0   \n",
       "57111071        5     ...               0           0           1           0   \n",
       "57113943        6     ...               1           0           1           0   \n",
       "57117542        6     ...               0           0           0           0   \n",
       "\n",
       "          BST90P24_4  BST90P24_5  BST90P24_6  BST90P26_1  BST90P26_2  \\\n",
       "AID                                                                    \n",
       "57101310           0           0           1           0           0   \n",
       "57109625           0           0           0           0           0   \n",
       "57111071           0           0           0           0           0   \n",
       "57113943           0           0           0           1           0   \n",
       "57117542           0           0           0           0           0   \n",
       "\n",
       "          BST90P26_3  \n",
       "AID                   \n",
       "57101310           1  \n",
       "57109625           1  \n",
       "57111071           1  \n",
       "57113943           0  \n",
       "57117542           0  \n",
       "\n",
       "[5 rows x 498 columns]"
      ]
     },
     "execution_count": 30,
     "metadata": {},
     "output_type": "execute_result"
    }
   ],
   "source": [
    "data.head()"
   ]
  },
  {
   "cell_type": "code",
   "execution_count": 31,
   "metadata": {
    "collapsed": false
   },
   "outputs": [],
   "source": [
    "from sklearn.model_selection import train_test_split"
   ]
  },
  {
   "cell_type": "code",
   "execution_count": 32,
   "metadata": {
    "collapsed": false
   },
   "outputs": [],
   "source": [
    "data_train, data_test, target_train, target_test = train_test_split(data, data_target, test_size=0.2, random_state=7, stratify=data_target)"
   ]
  },
  {
   "cell_type": "code",
   "execution_count": 33,
   "metadata": {
    "collapsed": false
   },
   "outputs": [
    {
     "data": {
      "text/html": [
       "<div>\n",
       "<table border=\"1\" class=\"dataframe\">\n",
       "  <thead>\n",
       "    <tr style=\"text-align: right;\">\n",
       "      <th></th>\n",
       "      <th>H1GI20</th>\n",
       "      <th>H1DA8</th>\n",
       "      <th>H1DA9</th>\n",
       "      <th>H1DA10</th>\n",
       "      <th>H1GH1</th>\n",
       "      <th>H1GH28</th>\n",
       "      <th>H1GH42</th>\n",
       "      <th>H1GH44</th>\n",
       "      <th>H1GH46</th>\n",
       "      <th>H1GH59A</th>\n",
       "      <th>...</th>\n",
       "      <th>BST90P13_3</th>\n",
       "      <th>BST90P24_1</th>\n",
       "      <th>BST90P24_2</th>\n",
       "      <th>BST90P24_3</th>\n",
       "      <th>BST90P24_4</th>\n",
       "      <th>BST90P24_5</th>\n",
       "      <th>BST90P24_6</th>\n",
       "      <th>BST90P26_1</th>\n",
       "      <th>BST90P26_2</th>\n",
       "      <th>BST90P26_3</th>\n",
       "    </tr>\n",
       "    <tr>\n",
       "      <th>AID</th>\n",
       "      <th></th>\n",
       "      <th></th>\n",
       "      <th></th>\n",
       "      <th></th>\n",
       "      <th></th>\n",
       "      <th></th>\n",
       "      <th></th>\n",
       "      <th></th>\n",
       "      <th></th>\n",
       "      <th></th>\n",
       "      <th></th>\n",
       "      <th></th>\n",
       "      <th></th>\n",
       "      <th></th>\n",
       "      <th></th>\n",
       "      <th></th>\n",
       "      <th></th>\n",
       "      <th></th>\n",
       "      <th></th>\n",
       "      <th></th>\n",
       "      <th></th>\n",
       "    </tr>\n",
       "  </thead>\n",
       "  <tbody>\n",
       "    <tr>\n",
       "      <th>93574434</th>\n",
       "      <td>12</td>\n",
       "      <td>2</td>\n",
       "      <td>2.0</td>\n",
       "      <td>0</td>\n",
       "      <td>2</td>\n",
       "      <td>4</td>\n",
       "      <td>2</td>\n",
       "      <td>4</td>\n",
       "      <td>5</td>\n",
       "      <td>5</td>\n",
       "      <td>...</td>\n",
       "      <td>1</td>\n",
       "      <td>1</td>\n",
       "      <td>0</td>\n",
       "      <td>0</td>\n",
       "      <td>0</td>\n",
       "      <td>0</td>\n",
       "      <td>0</td>\n",
       "      <td>1</td>\n",
       "      <td>0</td>\n",
       "      <td>0</td>\n",
       "    </tr>\n",
       "    <tr>\n",
       "      <th>98573958</th>\n",
       "      <td>7</td>\n",
       "      <td>50</td>\n",
       "      <td>30.0</td>\n",
       "      <td>0</td>\n",
       "      <td>4</td>\n",
       "      <td>3</td>\n",
       "      <td>0</td>\n",
       "      <td>5</td>\n",
       "      <td>5</td>\n",
       "      <td>5</td>\n",
       "      <td>...</td>\n",
       "      <td>0</td>\n",
       "      <td>0</td>\n",
       "      <td>1</td>\n",
       "      <td>0</td>\n",
       "      <td>0</td>\n",
       "      <td>0</td>\n",
       "      <td>0</td>\n",
       "      <td>0</td>\n",
       "      <td>1</td>\n",
       "      <td>0</td>\n",
       "    </tr>\n",
       "    <tr>\n",
       "      <th>95712176</th>\n",
       "      <td>7</td>\n",
       "      <td>10</td>\n",
       "      <td>1.0</td>\n",
       "      <td>0</td>\n",
       "      <td>2</td>\n",
       "      <td>3</td>\n",
       "      <td>3</td>\n",
       "      <td>5</td>\n",
       "      <td>5</td>\n",
       "      <td>4</td>\n",
       "      <td>...</td>\n",
       "      <td>0</td>\n",
       "      <td>0</td>\n",
       "      <td>1</td>\n",
       "      <td>0</td>\n",
       "      <td>0</td>\n",
       "      <td>0</td>\n",
       "      <td>0</td>\n",
       "      <td>0</td>\n",
       "      <td>0</td>\n",
       "      <td>1</td>\n",
       "    </tr>\n",
       "    <tr>\n",
       "      <th>97570231</th>\n",
       "      <td>10</td>\n",
       "      <td>5</td>\n",
       "      <td>2.0</td>\n",
       "      <td>0</td>\n",
       "      <td>2</td>\n",
       "      <td>3</td>\n",
       "      <td>4</td>\n",
       "      <td>5</td>\n",
       "      <td>5</td>\n",
       "      <td>5</td>\n",
       "      <td>...</td>\n",
       "      <td>0</td>\n",
       "      <td>0</td>\n",
       "      <td>1</td>\n",
       "      <td>0</td>\n",
       "      <td>0</td>\n",
       "      <td>0</td>\n",
       "      <td>0</td>\n",
       "      <td>0</td>\n",
       "      <td>1</td>\n",
       "      <td>0</td>\n",
       "    </tr>\n",
       "    <tr>\n",
       "      <th>91570187</th>\n",
       "      <td>11</td>\n",
       "      <td>1</td>\n",
       "      <td>2.0</td>\n",
       "      <td>0</td>\n",
       "      <td>3</td>\n",
       "      <td>4</td>\n",
       "      <td>2</td>\n",
       "      <td>4</td>\n",
       "      <td>5</td>\n",
       "      <td>6</td>\n",
       "      <td>...</td>\n",
       "      <td>0</td>\n",
       "      <td>0</td>\n",
       "      <td>1</td>\n",
       "      <td>0</td>\n",
       "      <td>0</td>\n",
       "      <td>0</td>\n",
       "      <td>0</td>\n",
       "      <td>0</td>\n",
       "      <td>1</td>\n",
       "      <td>0</td>\n",
       "    </tr>\n",
       "  </tbody>\n",
       "</table>\n",
       "<p>5 rows × 498 columns</p>\n",
       "</div>"
      ],
      "text/plain": [
       "          H1GI20  H1DA8  H1DA9  H1DA10  H1GH1  H1GH28  H1GH42  H1GH44  H1GH46  \\\n",
       "AID                                                                             \n",
       "93574434      12      2    2.0       0      2       4       2       4       5   \n",
       "98573958       7     50   30.0       0      4       3       0       5       5   \n",
       "95712176       7     10    1.0       0      2       3       3       5       5   \n",
       "97570231      10      5    2.0       0      2       3       4       5       5   \n",
       "91570187      11      1    2.0       0      3       4       2       4       5   \n",
       "\n",
       "          H1GH59A     ...      BST90P13_3  BST90P24_1  BST90P24_2  BST90P24_3  \\\n",
       "AID                   ...                                                       \n",
       "93574434        5     ...               1           1           0           0   \n",
       "98573958        5     ...               0           0           1           0   \n",
       "95712176        4     ...               0           0           1           0   \n",
       "97570231        5     ...               0           0           1           0   \n",
       "91570187        6     ...               0           0           1           0   \n",
       "\n",
       "          BST90P24_4  BST90P24_5  BST90P24_6  BST90P26_1  BST90P26_2  \\\n",
       "AID                                                                    \n",
       "93574434           0           0           0           1           0   \n",
       "98573958           0           0           0           0           1   \n",
       "95712176           0           0           0           0           0   \n",
       "97570231           0           0           0           0           1   \n",
       "91570187           0           0           0           0           1   \n",
       "\n",
       "          BST90P26_3  \n",
       "AID                   \n",
       "93574434           0  \n",
       "98573958           0  \n",
       "95712176           1  \n",
       "97570231           0  \n",
       "91570187           0  \n",
       "\n",
       "[5 rows x 498 columns]"
      ]
     },
     "execution_count": 33,
     "metadata": {},
     "output_type": "execute_result"
    }
   ],
   "source": [
    "data_train.head()"
   ]
  },
  {
   "cell_type": "code",
   "execution_count": 34,
   "metadata": {
    "collapsed": false
   },
   "outputs": [
    {
     "data": {
      "text/plain": [
       "(3631, 498)"
      ]
     },
     "execution_count": 34,
     "metadata": {},
     "output_type": "execute_result"
    }
   ],
   "source": [
    "data_train.shape"
   ]
  },
  {
   "cell_type": "code",
   "execution_count": 35,
   "metadata": {
    "collapsed": false
   },
   "outputs": [
    {
     "data": {
      "text/html": [
       "<div>\n",
       "<table border=\"1\" class=\"dataframe\">\n",
       "  <thead>\n",
       "    <tr style=\"text-align: right;\">\n",
       "      <th></th>\n",
       "      <th>H1GI20</th>\n",
       "      <th>H1DA8</th>\n",
       "      <th>H1DA9</th>\n",
       "      <th>H1DA10</th>\n",
       "      <th>H1GH1</th>\n",
       "      <th>H1GH28</th>\n",
       "      <th>H1GH42</th>\n",
       "      <th>H1GH44</th>\n",
       "      <th>H1GH46</th>\n",
       "      <th>H1GH59A</th>\n",
       "      <th>...</th>\n",
       "      <th>BST90P13_3</th>\n",
       "      <th>BST90P24_1</th>\n",
       "      <th>BST90P24_2</th>\n",
       "      <th>BST90P24_3</th>\n",
       "      <th>BST90P24_4</th>\n",
       "      <th>BST90P24_5</th>\n",
       "      <th>BST90P24_6</th>\n",
       "      <th>BST90P26_1</th>\n",
       "      <th>BST90P26_2</th>\n",
       "      <th>BST90P26_3</th>\n",
       "    </tr>\n",
       "    <tr>\n",
       "      <th>AID</th>\n",
       "      <th></th>\n",
       "      <th></th>\n",
       "      <th></th>\n",
       "      <th></th>\n",
       "      <th></th>\n",
       "      <th></th>\n",
       "      <th></th>\n",
       "      <th></th>\n",
       "      <th></th>\n",
       "      <th></th>\n",
       "      <th></th>\n",
       "      <th></th>\n",
       "      <th></th>\n",
       "      <th></th>\n",
       "      <th></th>\n",
       "      <th></th>\n",
       "      <th></th>\n",
       "      <th></th>\n",
       "      <th></th>\n",
       "      <th></th>\n",
       "      <th></th>\n",
       "    </tr>\n",
       "  </thead>\n",
       "  <tbody>\n",
       "    <tr>\n",
       "      <th>91712273</th>\n",
       "      <td>7</td>\n",
       "      <td>4</td>\n",
       "      <td>0.0</td>\n",
       "      <td>4</td>\n",
       "      <td>5</td>\n",
       "      <td>3</td>\n",
       "      <td>4</td>\n",
       "      <td>5</td>\n",
       "      <td>5</td>\n",
       "      <td>5</td>\n",
       "      <td>...</td>\n",
       "      <td>0</td>\n",
       "      <td>0</td>\n",
       "      <td>0</td>\n",
       "      <td>1</td>\n",
       "      <td>0</td>\n",
       "      <td>0</td>\n",
       "      <td>0</td>\n",
       "      <td>0</td>\n",
       "      <td>1</td>\n",
       "      <td>0</td>\n",
       "    </tr>\n",
       "    <tr>\n",
       "      <th>97577220</th>\n",
       "      <td>8</td>\n",
       "      <td>7</td>\n",
       "      <td>2.0</td>\n",
       "      <td>3</td>\n",
       "      <td>2</td>\n",
       "      <td>3</td>\n",
       "      <td>4</td>\n",
       "      <td>3</td>\n",
       "      <td>3</td>\n",
       "      <td>5</td>\n",
       "      <td>...</td>\n",
       "      <td>0</td>\n",
       "      <td>1</td>\n",
       "      <td>0</td>\n",
       "      <td>0</td>\n",
       "      <td>0</td>\n",
       "      <td>0</td>\n",
       "      <td>0</td>\n",
       "      <td>0</td>\n",
       "      <td>0</td>\n",
       "      <td>1</td>\n",
       "    </tr>\n",
       "    <tr>\n",
       "      <th>90712211</th>\n",
       "      <td>8</td>\n",
       "      <td>7</td>\n",
       "      <td>0.0</td>\n",
       "      <td>0</td>\n",
       "      <td>1</td>\n",
       "      <td>3</td>\n",
       "      <td>4</td>\n",
       "      <td>5</td>\n",
       "      <td>5</td>\n",
       "      <td>5</td>\n",
       "      <td>...</td>\n",
       "      <td>0</td>\n",
       "      <td>1</td>\n",
       "      <td>0</td>\n",
       "      <td>0</td>\n",
       "      <td>0</td>\n",
       "      <td>0</td>\n",
       "      <td>0</td>\n",
       "      <td>0</td>\n",
       "      <td>0</td>\n",
       "      <td>1</td>\n",
       "    </tr>\n",
       "    <tr>\n",
       "      <th>94578416</th>\n",
       "      <td>12</td>\n",
       "      <td>4</td>\n",
       "      <td>0.0</td>\n",
       "      <td>0</td>\n",
       "      <td>2</td>\n",
       "      <td>4</td>\n",
       "      <td>3</td>\n",
       "      <td>3</td>\n",
       "      <td>3</td>\n",
       "      <td>5</td>\n",
       "      <td>...</td>\n",
       "      <td>0</td>\n",
       "      <td>0</td>\n",
       "      <td>0</td>\n",
       "      <td>0</td>\n",
       "      <td>0</td>\n",
       "      <td>0</td>\n",
       "      <td>1</td>\n",
       "      <td>0</td>\n",
       "      <td>0</td>\n",
       "      <td>1</td>\n",
       "    </tr>\n",
       "    <tr>\n",
       "      <th>96574589</th>\n",
       "      <td>12</td>\n",
       "      <td>5</td>\n",
       "      <td>0.0</td>\n",
       "      <td>0</td>\n",
       "      <td>3</td>\n",
       "      <td>4</td>\n",
       "      <td>4</td>\n",
       "      <td>5</td>\n",
       "      <td>5</td>\n",
       "      <td>5</td>\n",
       "      <td>...</td>\n",
       "      <td>0</td>\n",
       "      <td>0</td>\n",
       "      <td>1</td>\n",
       "      <td>0</td>\n",
       "      <td>0</td>\n",
       "      <td>0</td>\n",
       "      <td>0</td>\n",
       "      <td>0</td>\n",
       "      <td>0</td>\n",
       "      <td>1</td>\n",
       "    </tr>\n",
       "  </tbody>\n",
       "</table>\n",
       "<p>5 rows × 498 columns</p>\n",
       "</div>"
      ],
      "text/plain": [
       "          H1GI20  H1DA8  H1DA9  H1DA10  H1GH1  H1GH28  H1GH42  H1GH44  H1GH46  \\\n",
       "AID                                                                             \n",
       "91712273       7      4    0.0       4      5       3       4       5       5   \n",
       "97577220       8      7    2.0       3      2       3       4       3       3   \n",
       "90712211       8      7    0.0       0      1       3       4       5       5   \n",
       "94578416      12      4    0.0       0      2       4       3       3       3   \n",
       "96574589      12      5    0.0       0      3       4       4       5       5   \n",
       "\n",
       "          H1GH59A     ...      BST90P13_3  BST90P24_1  BST90P24_2  BST90P24_3  \\\n",
       "AID                   ...                                                       \n",
       "91712273        5     ...               0           0           0           1   \n",
       "97577220        5     ...               0           1           0           0   \n",
       "90712211        5     ...               0           1           0           0   \n",
       "94578416        5     ...               0           0           0           0   \n",
       "96574589        5     ...               0           0           1           0   \n",
       "\n",
       "          BST90P24_4  BST90P24_5  BST90P24_6  BST90P26_1  BST90P26_2  \\\n",
       "AID                                                                    \n",
       "91712273           0           0           0           0           1   \n",
       "97577220           0           0           0           0           0   \n",
       "90712211           0           0           0           0           0   \n",
       "94578416           0           0           1           0           0   \n",
       "96574589           0           0           0           0           0   \n",
       "\n",
       "          BST90P26_3  \n",
       "AID                   \n",
       "91712273           0  \n",
       "97577220           1  \n",
       "90712211           1  \n",
       "94578416           1  \n",
       "96574589           1  \n",
       "\n",
       "[5 rows x 498 columns]"
      ]
     },
     "execution_count": 35,
     "metadata": {},
     "output_type": "execute_result"
    }
   ],
   "source": [
    "data_test.head()"
   ]
  },
  {
   "cell_type": "code",
   "execution_count": 36,
   "metadata": {
    "collapsed": false
   },
   "outputs": [
    {
     "data": {
      "text/plain": [
       "(908, 498)"
      ]
     },
     "execution_count": 36,
     "metadata": {},
     "output_type": "execute_result"
    }
   ],
   "source": [
    "data_test.shape"
   ]
  },
  {
   "cell_type": "code",
   "execution_count": 37,
   "metadata": {
    "collapsed": false
   },
   "outputs": [
    {
     "data": {
      "text/plain": [
       "AID\n",
       "93574434    3.0\n",
       "98573958    2.0\n",
       "95712176    3.0\n",
       "97570231    2.0\n",
       "91570187    2.0\n",
       "Name: C_CRP, dtype: float64"
      ]
     },
     "execution_count": 37,
     "metadata": {},
     "output_type": "execute_result"
    }
   ],
   "source": [
    "target_train.head()"
   ]
  },
  {
   "cell_type": "code",
   "execution_count": 38,
   "metadata": {
    "collapsed": false
   },
   "outputs": [
    {
     "data": {
      "text/plain": [
       "AID\n",
       "91712273    3.0\n",
       "97577220    3.0\n",
       "90712211    1.0\n",
       "94578416    1.0\n",
       "96574589    2.0\n",
       "Name: C_CRP, dtype: float64"
      ]
     },
     "execution_count": 38,
     "metadata": {},
     "output_type": "execute_result"
    }
   ],
   "source": [
    "target_test.head()"
   ]
  },
  {
   "cell_type": "code",
   "execution_count": 39,
   "metadata": {
    "collapsed": false
   },
   "outputs": [
    {
     "data": {
      "text/plain": [
       "3.0    1496\n",
       "1.0    1097\n",
       "2.0    1038\n",
       "Name: C_CRP, dtype: int64"
      ]
     },
     "execution_count": 39,
     "metadata": {},
     "output_type": "execute_result"
    }
   ],
   "source": [
    "target_train.value_counts()"
   ]
  },
  {
   "cell_type": "code",
   "execution_count": 40,
   "metadata": {
    "collapsed": false
   },
   "outputs": [
    {
     "data": {
      "text/plain": [
       "3.0    374\n",
       "1.0    274\n",
       "2.0    260\n",
       "Name: C_CRP, dtype: int64"
      ]
     },
     "execution_count": 40,
     "metadata": {},
     "output_type": "execute_result"
    }
   ],
   "source": [
    "target_test.value_counts()"
   ]
  },
  {
   "cell_type": "code",
   "execution_count": 20,
   "metadata": {
    "collapsed": true
   },
   "outputs": [],
   "source": [
    "from sklearn.ensemble import RandomForestClassifier\n",
    "from sklearn.metrics import classification_report\n",
    "from sklearn.metrics import confusion_matrix"
   ]
  },
  {
   "cell_type": "code",
   "execution_count": 21,
   "metadata": {
    "collapsed": true
   },
   "outputs": [],
   "source": [
    "rfclf = RandomForestClassifier(criterion='entropy', max_depth=5, n_estimators=10)"
   ]
  },
  {
   "cell_type": "code",
   "execution_count": 105,
   "metadata": {
    "collapsed": true
   },
   "outputs": [],
   "source": [
    "rfclf = rfclf.fit(data_train, target_train)"
   ]
  },
  {
   "cell_type": "code",
   "execution_count": 106,
   "metadata": {
    "collapsed": true
   },
   "outputs": [],
   "source": [
    "rfclf_test = rfclf.predict(data_test)"
   ]
  },
  {
   "cell_type": "code",
   "execution_count": 107,
   "metadata": {
    "collapsed": false
   },
   "outputs": [
    {
     "name": "stdout",
     "output_type": "stream",
     "text": [
      "0.438325991189\n"
     ]
    }
   ],
   "source": [
    "print rfclf.score(data_test, target_test)"
   ]
  },
  {
   "cell_type": "code",
   "execution_count": 108,
   "metadata": {
    "collapsed": false
   },
   "outputs": [
    {
     "name": "stdout",
     "output_type": "stream",
     "text": [
      "0.514183420545\n"
     ]
    }
   ],
   "source": [
    "print rfclf.score(data_train, target_train)"
   ]
  },
  {
   "cell_type": "code",
   "execution_count": 109,
   "metadata": {
    "collapsed": false
   },
   "outputs": [
    {
     "name": "stdout",
     "output_type": "stream",
     "text": [
      "             precision    recall  f1-score   support\n",
      "\n",
      "        1.0       0.36      0.19      0.25       274\n",
      "        2.0       0.37      0.06      0.11       260\n",
      "        3.0       0.46      0.88      0.60       374\n",
      "\n",
      "avg / total       0.40      0.44      0.35       908\n",
      "\n"
     ]
    }
   ],
   "source": [
    "print(classification_report(target_test, rfclf_test))"
   ]
  },
  {
   "cell_type": "code",
   "execution_count": 110,
   "metadata": {
    "collapsed": false
   },
   "outputs": [],
   "source": [
    "# import numpy as np\n",
    "# from sklearn.model_selection import GridSearchCV\n",
    "# #from sklearn.grid_search import GridSearchCV"
   ]
  },
  {
   "cell_type": "code",
   "execution_count": 111,
   "metadata": {
    "collapsed": true
   },
   "outputs": [],
   "source": [
    "# rfGridSearch = RandomForestClassifier()"
   ]
  },
  {
   "cell_type": "code",
   "execution_count": 112,
   "metadata": {
    "collapsed": false
   },
   "outputs": [],
   "source": [
    "# np.arange(1, 22, 5) #max_depth"
   ]
  },
  {
   "cell_type": "code",
   "execution_count": 113,
   "metadata": {
    "collapsed": false
   },
   "outputs": [],
   "source": [
    "# np.arange(1, 102, 10) #min_samples_leaf"
   ]
  },
  {
   "cell_type": "code",
   "execution_count": 114,
   "metadata": {
    "collapsed": false
   },
   "outputs": [],
   "source": [
    "# np.arange(2, 103, 10) #min_samples_split"
   ]
  },
  {
   "cell_type": "code",
   "execution_count": 115,
   "metadata": {
    "collapsed": false
   },
   "outputs": [],
   "source": [
    "# parameters = {\n",
    "#     'criterion' : ['entropy', 'gini'],\n",
    "#     'max_depth' : np.arange(1, 11, 3),\n",
    "#     'min_samples_leaf' : np.arange(1, 102, 20),\n",
    "#     'min_samples_split' : np.arange(2, 103, 20),\n",
    "#     \"n_estimators\" : np.arange(10, 101, 20)\n",
    "# }"
   ]
  },
  {
   "cell_type": "code",
   "execution_count": 116,
   "metadata": {
    "collapsed": true
   },
   "outputs": [],
   "source": [
    "# gs = GridSearchCV(rfGridSearch, parameters, verbose=1, cv=10, n_jobs=-1, scoring='recall_weighted')"
   ]
  },
  {
   "cell_type": "code",
   "execution_count": 117,
   "metadata": {
    "collapsed": false
   },
   "outputs": [],
   "source": [
    "# %time _ = gs.fit(data_train, target_train)"
   ]
  },
  {
   "cell_type": "code",
   "execution_count": 118,
   "metadata": {
    "collapsed": false
   },
   "outputs": [],
   "source": [
    "# gs.best_params_"
   ]
  },
  {
   "cell_type": "code",
   "execution_count": 119,
   "metadata": {
    "collapsed": false
   },
   "outputs": [],
   "source": [
    "# gs.best_score_"
   ]
  },
  {
   "cell_type": "code",
   "execution_count": 120,
   "metadata": {
    "collapsed": true
   },
   "outputs": [],
   "source": [
    "# 10 fold, scoring recall\n",
    "rfclf2 = RandomForestClassifier(criterion='entropy', max_depth=7,\n",
    "                                      min_samples_leaf=21, min_samples_split=42)"
   ]
  },
  {
   "cell_type": "code",
   "execution_count": 121,
   "metadata": {
    "collapsed": true
   },
   "outputs": [],
   "source": [
    "rfclf2 = rfclf2.fit(data_train, target_train)"
   ]
  },
  {
   "cell_type": "code",
   "execution_count": 122,
   "metadata": {
    "collapsed": true
   },
   "outputs": [],
   "source": [
    "rfclf_test2 = rfclf2.predict(data_test)"
   ]
  },
  {
   "cell_type": "code",
   "execution_count": 123,
   "metadata": {
    "collapsed": false
   },
   "outputs": [
    {
     "name": "stdout",
     "output_type": "stream",
     "text": [
      "0.428414096916\n"
     ]
    }
   ],
   "source": [
    "print rfclf2.score(data_test, target_test)"
   ]
  },
  {
   "cell_type": "code",
   "execution_count": 124,
   "metadata": {
    "collapsed": false
   },
   "outputs": [
    {
     "name": "stdout",
     "output_type": "stream",
     "text": [
      "0.507849077389\n"
     ]
    }
   ],
   "source": [
    "print rfclf2.score(data_train, target_train)"
   ]
  },
  {
   "cell_type": "code",
   "execution_count": 125,
   "metadata": {
    "collapsed": false
   },
   "outputs": [
    {
     "name": "stdout",
     "output_type": "stream",
     "text": [
      "             precision    recall  f1-score   support\n",
      "\n",
      "        1.0       0.36      0.25      0.30       274\n",
      "        2.0       0.37      0.04      0.08       260\n",
      "        3.0       0.45      0.83      0.58       374\n",
      "\n",
      "avg / total       0.40      0.43      0.35       908\n",
      "\n"
     ]
    }
   ],
   "source": [
    "print(classification_report(target_test, rfclf_test2))"
   ]
  },
  {
   "cell_type": "code",
   "execution_count": 127,
   "metadata": {
    "collapsed": false
   },
   "outputs": [
    {
     "name": "stdout",
     "output_type": "stream",
     "text": [
      "/Users/davidscroggins/Google Drive/DePaul/csc478_machineLearning/csc478_project/csc478_initialModels/graphics\n"
     ]
    }
   ],
   "source": [
    "cd graphics"
   ]
  },
  {
   "cell_type": "code",
   "execution_count": 128,
   "metadata": {
    "collapsed": false
   },
   "outputs": [
    {
     "data": {
      "image/png": "[encoded data removed]",
      "text/plain": [
       "<matplotlib.figure.Figure at 0x117c90d90>"
      ]
     },
     "metadata": {},
     "output_type": "display_data"
    }
   ],
   "source": [
    "import matplotlib.pyplot as plt\n",
    "import seaborn as sb\n",
    "%matplotlib inline\n",
    "cm = confusion_matrix(target_test, rfclf_test2)\n",
    "hm = sb.heatmap(cm, annot=True, fmt=\"d\")\n",
    "fig = hm.get_figure()\n",
    "fig.savefig(\"heatMap_initialRandomForest_imm\")"
   ]
  },
  {
   "cell_type": "code",
   "execution_count": 129,
   "metadata": {
    "collapsed": false
   },
   "outputs": [
    {
     "name": "stdout",
     "output_type": "stream",
     "text": [
      "BST90P15\n",
      "H1FP3_1\n",
      "H1MP2_1\n",
      "H1FP1_5\n",
      "BST90P14\n",
      "H1MP4_3\n",
      "BST90P21\n",
      "BST90P09\n",
      "H1RE6\n",
      "H1MP3_4\n"
     ]
    }
   ],
   "source": [
    "#Get top 10 features\n",
    "importances = rfclf2.feature_importances_\n",
    "indices = np.argsort(importances)[::-1]\n",
    "features_list = list(data)\n",
    "top_indices = indices[:10]\n",
    "for i in top_indices:\n",
    "    print features_list[i]"
   ]
  },
  {
   "cell_type": "markdown",
   "metadata": {},
   "source": [
    "#### Naive Bayes"
   ]
  },
  {
   "cell_type": "code",
   "execution_count": 1,
   "metadata": {
    "collapsed": true
   },
   "outputs": [],
   "source": [
    "from sklearn import naive_bayes"
   ]
  },
  {
   "cell_type": "code",
   "execution_count": 28,
   "metadata": {
    "collapsed": true
   },
   "outputs": [],
   "source": [
    "nbclf = naive_bayes.GaussianNB()\n",
    "nbclf = nbclf.fit(data_train, target_train)\n",
    "nbpreds_test = nbclf.predict(data_test)"
   ]
  },
  {
   "cell_type": "code",
   "execution_count": 29,
   "metadata": {
    "collapsed": false
   },
   "outputs": [
    {
     "name": "stdout",
     "output_type": "stream",
     "text": [
      "0.858017135863\n"
     ]
    }
   ],
   "source": [
    "print nbclf.score(data_train, target_train)"
   ]
  },
  {
   "cell_type": "code",
   "execution_count": 30,
   "metadata": {
    "collapsed": false
   },
   "outputs": [
    {
     "name": "stdout",
     "output_type": "stream",
     "text": [
      "0.856164383562\n"
     ]
    }
   ],
   "source": [
    "print nbclf.score(data_test, target_test)"
   ]
  },
  {
   "cell_type": "code",
   "execution_count": 31,
   "metadata": {
    "collapsed": false
   },
   "outputs": [
    {
     "name": "stdout",
     "output_type": "stream",
     "text": [
      "             precision    recall  f1-score   support\n",
      "\n",
      "          0       0.93      0.91      0.92       950\n",
      "          1       0.11      0.14      0.12        72\n",
      "\n",
      "avg / total       0.87      0.86      0.87      1022\n",
      "\n"
     ]
    }
   ],
   "source": [
    "print(classification_report(target_test, nbpreds_test))"
   ]
  },
  {
   "cell_type": "code",
   "execution_count": null,
   "metadata": {
    "collapsed": true
   },
   "outputs": [],
   "source": []
  }
 ],
 "metadata": {
  "kernelspec": {
   "display_name": "Python 2",
   "language": "python",
   "name": "python2"
  },
  "language_info": {
   "codemirror_mode": {
    "name": "ipython",
    "version": 2
   },
   "file_extension": ".py",
   "mimetype": "text/x-python",
   "name": "python",
   "nbconvert_exporter": "python",
   "pygments_lexer": "ipython2",
   "version": "2.7.13"
  }
 },
 "nbformat": 4,
 "nbformat_minor": 2
}
