{
 "cells": [
  {
   "cell_type": "code",
   "execution_count": 14,
   "metadata": {
    "collapsed": false
   },
   "outputs": [],
   "source": [
    "## Import modules\n",
    "import numpy as np\n",
    "import pandas as pd\n",
    "import os \n",
    "import time\n",
    "import math\n",
    "import sklearn\n",
    "\n",
    "import matplotlib.pyplot as plt\n",
    "import seaborn as sn\n",
    "%matplotlib inline\n",
    "\n",
    "from sklearn.tree import DecisionTreeClassifier\n",
    "from sklearn.ensemble import RandomForestClassifier\n",
    "from sklearn.metrics import homogeneity_score\n",
    "from sklearn.metrics import completeness_score\n",
    "from sklearn.metrics import confusion_matrix\n",
    "from sklearn.metrics import classification_report\n",
    "from sklearn.metrics import precision_score\n",
    "from sklearn.metrics import recall_score\n",
    "\n",
    "from sklearn.model_selection import KFold\n",
    "from sklearn.model_selection import cross_val_score\n",
    "from sklearn.model_selection import GridSearchCV\n"
   ]
  },
  {
   "cell_type": "code",
   "execution_count": 15,
   "metadata": {
    "collapsed": true
   },
   "outputs": [],
   "source": [
    "df = pd.read_csv(r'C:\\dev\\data\\health\\dataSets\\wave1_gluc_dummies.csv')"
   ]
  },
  {
   "cell_type": "code",
   "execution_count": 16,
   "metadata": {
    "collapsed": true
   },
   "outputs": [],
   "source": [
    "def getOrigDsColMap():\n",
    "    dataSets = []\n",
    "    dataSetNms = []\n",
    "    \n",
    "    dataSets.append(pd.read_csv(r'C:\\dev\\data\\health\\dataSets\\glucoseHomeostasis.tsv', sep='\\t', header=0, na_values=' ').columns)\n",
    "    dataSetNms.append(\"glucHome\")\n",
    "    dataSets.append(pd.read_csv(r'C:\\dev\\data\\health\\dataSets\\inflammationAndImmuneFunction.tsv', sep='\\t', header=0, na_values=' ').columns)\n",
    "    dataSetNms.append(\"infImmFunc\")\n",
    "    dataSets.append(pd.read_csv(r'C:\\dev\\data\\health\\dataSets\\lipids.tsv', sep='\\t', header=0, na_values=' ').columns)\n",
    "    dataSetNms.append(\"lipids\")\n",
    "    dataSets.append(pd.read_csv(r'C:\\dev\\data\\health\\dataSets\\wave1_inHomeQuest.tsv', sep='\\t', header=0, na_values=' ').columns)\n",
    "    dataSetNms.append(\"wave1\")\n",
    "    dataSets.append(pd.read_csv(r'C:\\dev\\data\\health\\dataSets\\wave2_inHomeQuest.tsv', sep='\\t', header=0, na_values=' ').columns)\n",
    "    dataSetNms.append(\"wave2\")\n",
    "    dataSets.append(pd.read_csv(r'C:\\dev\\data\\health\\dataSets\\wave3_inHomeQuest.tsv', sep='\\t', header=0, na_values=' ').columns)\n",
    "    dataSetNms.append(\"wave3\")\n",
    "    dataSets.append(pd.read_csv(r'C:\\dev\\data\\health\\dataSets\\wave4_inHomeQuest.tsv', sep='\\t', header=0, na_values=' ').columns)\n",
    "    dataSetNms.append(\"wave4\")\n",
    "    dataSets.append(pd.read_csv(r'C:\\dev\\data\\health\\dataSets\\wave1_publicUseContDB.tsv', sep='\\t', header=0, na_values=' ').columns)\n",
    "    dataSetNms.append(\"wave1_publicUse\")\n",
    "    dataSets.append(pd.read_csv(r'C:\\dev\\data\\health\\dataSets\\wave2_publicUseContDB.tsv', sep='\\t', header=0, na_values=' ').columns)\n",
    "    dataSetNms.append(\"wave2_publicUse\")\n",
    "    \n",
    "    colMap = dict()\n",
    "    \n",
    "    for i in range(len(dataSets)):\n",
    "        dsNm = dataSetNms[i]\n",
    "        \n",
    "        for colNm in dataSets[i]:\n",
    "            if colNm not in colMap:\n",
    "                colMap[colNm] = []\n",
    "            colMap[colNm].append(dsNm)\n",
    "    \n",
    "    return colMap"
   ]
  },
  {
   "cell_type": "code",
   "execution_count": 17,
   "metadata": {
    "collapsed": true
   },
   "outputs": [],
   "source": [
    "colMap = getOrigDsColMap()"
   ]
  },
  {
   "cell_type": "code",
   "execution_count": 18,
   "metadata": {
    "collapsed": false,
    "scrolled": true
   },
   "outputs": [
    {
     "name": "stdout",
     "output_type": "stream",
     "text": [
      "AID\n",
      "BST90P03\n",
      "BST90P06\n",
      "BST90P07\n",
      "BST90P09\n",
      "BST90P12\n",
      "BST90P14\n",
      "BST90P15\n",
      "BST90P16\n",
      "BST90P17\n",
      "BST90P18\n",
      "BST90P21\n",
      "BST90P25\n",
      "BST90P28\n",
      "BST90P29\n",
      "C_JOINT\n",
      "BST90P01_1\n",
      "BST90P01_2\n",
      "BST90P02_1\n",
      "BST90P02_2\n",
      "BST90P02_3\n",
      "BST90P04_1\n",
      "BST90P04_2\n",
      "BST90P04_3\n",
      "BST90P04_4\n",
      "BST90P05_1\n",
      "BST90P05_2\n",
      "BST90P05_3\n",
      "BST90P08_1\n",
      "BST90P08_2\n",
      "BST90P08_3\n",
      "BST90P10_1\n",
      "BST90P10_2\n",
      "BST90P10_3\n",
      "BST90P11_1\n",
      "BST90P11_2\n",
      "BST90P11_3\n",
      "BST90P13_1\n",
      "BST90P13_2\n",
      "BST90P13_3\n",
      "BST90P19_1\n",
      "BST90P19_2\n",
      "BST90P19_3\n",
      "BST90P20_1\n",
      "BST90P20_2\n",
      "BST90P20_3\n",
      "BST90P22_1\n",
      "BST90P22_2\n",
      "BST90P22_3\n",
      "BST90P23_1\n",
      "BST90P23_2\n",
      "BST90P23_3\n",
      "BST90P24_1\n",
      "BST90P24_2\n",
      "BST90P24_3\n",
      "BST90P24_4\n",
      "BST90P24_5\n",
      "BST90P24_6\n",
      "BST90P26_1\n",
      "BST90P26_2\n",
      "BST90P26_3\n",
      "BST90P27_1\n",
      "BST90P27_2\n",
      "BST90P27_3\n",
      "C_MED_0\n",
      "C_MED_1\n"
     ]
    }
   ],
   "source": [
    "for col in df.columns:\n",
    "    if \"H1\" not in col:\n",
    "        print(col)"
   ]
  },
  {
   "cell_type": "code",
   "execution_count": 19,
   "metadata": {
    "collapsed": false
   },
   "outputs": [],
   "source": [
    "yNm = \"C_JOINT\"\n",
    "notIVs = [\"AID\", \"C_MED_0\", \"C_MED_1\"]\n",
    "notIVs.append(yNm)\n",
    "XNms = df.columns.drop(notIVs)\n",
    "\n",
    "y = df[yNm]\n",
    "X = df[XNms]"
   ]
  },
  {
   "cell_type": "code",
   "execution_count": 7,
   "metadata": {
    "collapsed": false
   },
   "outputs": [
    {
     "data": {
      "text/plain": [
       "['wave1']"
      ]
     },
     "execution_count": 7,
     "metadata": {},
     "output_type": "execute_result"
    }
   ],
   "source": [
    "colMap[\"H1GI6A\"]"
   ]
  },
  {
   "cell_type": "code",
   "execution_count": 8,
   "metadata": {
    "collapsed": false,
    "scrolled": true
   },
   "outputs": [
    {
     "data": {
      "text/plain": [
       "H1GI6B_1      0.129559\n",
       "H1GI6A_0      0.124474\n",
       "BST90P02_2    0.092897\n",
       "H1GH28_5      0.091038\n",
       "H1FP2_1       0.067118\n",
       "H1RE1_10      0.065238\n",
       "H1GH22_4      0.061972\n",
       "BST90P23_3    0.059772\n",
       "H1NM2_0       0.059155\n",
       "H1FP8_1       0.057103\n",
       "BST90P19_3    0.053970\n",
       "H1RE1_4       0.053425\n",
       "BST90P13_2    0.052896\n",
       "H1EE12_3      0.049157\n",
       "H1EE12_2      0.049117\n",
       "BST90P24_6    0.049021\n",
       "H1RM4_16      0.049000\n",
       "H1RE6_1       0.048603\n",
       "BST90P24_3    0.048371\n",
       "H1RF9_1       0.047490\n",
       "H1GH28_4      0.046498\n",
       "H1ED16_0      0.045389\n",
       "H1GH8_4       0.044340\n",
       "H1GH10_4      0.043986\n",
       "BST90P29      0.043806\n",
       "H1DA7_0       0.043654\n",
       "BST90P08_1    0.043200\n",
       "H1RE1_25      0.041501\n",
       "H1PA4         0.041201\n",
       "H1GH1_5       0.040185\n",
       "                ...   \n",
       "BST90P01_1   -0.033586\n",
       "H1RF1_8      -0.033784\n",
       "H1RM11_5     -0.033945\n",
       "H1NF13_7     -0.034046\n",
       "H1RM1_8      -0.034052\n",
       "H1RM9_0      -0.034749\n",
       "H1MP4_2      -0.034799\n",
       "H1NF2_7      -0.035753\n",
       "H1GH42_3     -0.036237\n",
       "H1RM14_1     -0.036390\n",
       "H1ED16_2     -0.036830\n",
       "H1GH25_1     -0.037201\n",
       "H1NM8        -0.037402\n",
       "H1RP4        -0.038126\n",
       "H1GH28_2     -0.038754\n",
       "H1RF9_0      -0.040476\n",
       "H1RE1_22     -0.041584\n",
       "BST90P24_1   -0.043329\n",
       "H1RE1_13     -0.043691\n",
       "H1NF1_7      -0.044058\n",
       "BST90P13_1   -0.044123\n",
       "H1EE2        -0.045424\n",
       "H1GH28_3     -0.047049\n",
       "BST90P08_2   -0.050663\n",
       "H1EE12_5     -0.053029\n",
       "BST90P23_1   -0.057947\n",
       "BST90P19_1   -0.076839\n",
       "BST90P02_1   -0.093273\n",
       "H1GI6A_1     -0.122312\n",
       "H1GI6B_0     -0.127001\n",
       "Name: C_JOINT, dtype: float64"
      ]
     },
     "execution_count": 8,
     "metadata": {},
     "output_type": "execute_result"
    }
   ],
   "source": [
    "yCorr = df.corr()[yNm]\n",
    "yCorr[XNms].sort_values(ascending=False)"
   ]
  },
  {
   "cell_type": "code",
   "execution_count": 35,
   "metadata": {
    "collapsed": false
   },
   "outputs": [
    {
     "name": "stdout",
     "output_type": "stream",
     "text": [
      "0.933620520854\n",
      "             precision    recall  f1-score   support\n",
      "\n",
      "          0       0.94      1.00      0.97      4746\n",
      "          1       0.68      0.11      0.19       361\n",
      "\n",
      "avg / total       0.92      0.93      0.91      5107\n",
      "\n"
     ]
    },
    {
     "data": {
      "text/plain": [
       "[<matplotlib.text.Text at 0x1042f080>, <matplotlib.text.Text at 0xf41e6d8>]"
      ]
     },
     "execution_count": 35,
     "metadata": {},
     "output_type": "execute_result"
    },
    {
     "data": {
      "image/png": "[encoded data removed]",
      "text/plain": [
       "<matplotlib.figure.Figure at 0x142663c8>"
      ]
     },
     "metadata": {},
     "output_type": "display_data"
    }
   ],
   "source": [
    "mod = DecisionTreeClassifier(min_samples_split=62, max_depth=8)\n",
    "\n",
    "mod.fit(X, y)\n",
    "\n",
    "print(mod.score(X, y))\n",
    "\n",
    "preds = mod.predict(X)\n",
    "print classification_report(y, preds)\n",
    "\n",
    "cMat = confusion_matrix(y, preds)\n",
    "ax = sn.heatmap(cMat, annot=True, fmt=\"d\")\n",
    "ax.set(xlabel='predicted', ylabel='actual')"
   ]
  },
  {
   "cell_type": "code",
   "execution_count": 37,
   "metadata": {
    "collapsed": false
   },
   "outputs": [
    {
     "name": "stdout",
     "output_type": "stream",
     "text": [
      "Train 0.814\n",
      "Test  0.391\n",
      "Train 0.815\n",
      "Test  0.338\n",
      "Train 0.853\n",
      "Test  0.320\n",
      "Train 0.696\n",
      "Test  0.309\n",
      "Train 0.740\n",
      "Test  0.228\n",
      "\n",
      "Averages\n",
      "Train 0.784\n",
      "Test  0.317\n"
     ]
    }
   ],
   "source": [
    "mod = DecisionTreeClassifier(min_samples_split=62, max_depth=8, class_weight={0: 1, 1: 8})\n",
    "\n",
    "kf = KFold(n_splits=5)\n",
    "\n",
    "trainScores =[]\n",
    "testScores =[]\n",
    "\n",
    "for train_index, test_index in kf.split(X):\n",
    "    X_train, X_test = X.values[train_index], X.values[test_index]\n",
    "    y_train, y_test = y.values[train_index], y.values[test_index]\n",
    "\n",
    "    mod.fit(X_train, y_train)\n",
    "\n",
    "    trainScore = recall_score(y_train, mod.predict(X_train))\n",
    "    testScore = recall_score(y_test, mod.predict(X_test))\n",
    "    \n",
    "    trainScores.append(trainScore)\n",
    "    testScores.append(testScore)\n",
    "    \n",
    "    print(\"Train %5.3f\" % trainScore)\n",
    "    print(\"Test  %5.3f\" % testScore)\n",
    "    \n",
    "    \n",
    "print(\"\\nAverages\")\n",
    "print(\"Train %5.3f\" % np.mean(trainScores))\n",
    "print(\"Test  %5.3f\" % np.mean(testScores))"
   ]
  },
  {
   "cell_type": "code",
   "execution_count": 36,
   "metadata": {
    "collapsed": false
   },
   "outputs": [
    {
     "name": "stdout",
     "output_type": "stream",
     "text": [
      "0.814959859017\n",
      "             precision    recall  f1-score   support\n",
      "\n",
      "          0       0.98      0.82      0.89      4746\n",
      "          1       0.24      0.75      0.36       361\n",
      "\n",
      "avg / total       0.93      0.81      0.85      5107\n",
      "\n"
     ]
    },
    {
     "data": {
      "text/plain": [
       "[<matplotlib.text.Text at 0x1054a4e0>, <matplotlib.text.Text at 0xf72b9e8>]"
      ]
     },
     "execution_count": 36,
     "metadata": {},
     "output_type": "execute_result"
    },
    {
     "data": {
      "image/png": "[encoded data removed]",
      "text/plain": [
       "<matplotlib.figure.Figure at 0xf714b00>"
      ]
     },
     "metadata": {},
     "output_type": "display_data"
    }
   ],
   "source": [
    "mod = DecisionTreeClassifier(min_samples_split=62, max_depth=8, class_weight={0: 1, 1: 8})\n",
    "\n",
    "mod.fit(X, y)\n",
    "\n",
    "print(mod.score(X, y))\n",
    "\n",
    "preds = mod.predict(X)\n",
    "print classification_report(y, preds)\n",
    "\n",
    "cMat = confusion_matrix(y, preds)\n",
    "ax = sn.heatmap(cMat, annot=True, fmt=\"d\")\n",
    "ax.set(xlabel='predicted', ylabel='actual')"
   ]
  },
  {
   "cell_type": "code",
   "execution_count": 118,
   "metadata": {
    "collapsed": false
   },
   "outputs": [
    {
     "name": "stdout",
     "output_type": "stream",
     "text": [
      "Train 0.803\n",
      "Test  0.172\n",
      "Train 0.711\n",
      "Test  0.203\n",
      "Train 0.713\n",
      "Test  0.173\n",
      "Train 0.655\n",
      "Test  0.162\n",
      "Train 0.753\n",
      "Test  0.193\n",
      "\n",
      "Averages\n",
      "Train 0.727\n",
      "Test  0.181\n"
     ]
    }
   ],
   "source": [
    "mod = DecisionTreeClassifier(min_samples_split=20, min_samples_leaf=4, class_weight={0:1,1:4}, max_depth=10)\n",
    "\n",
    "kf = KFold(n_splits=5)\n",
    "\n",
    "trainScores =[]\n",
    "testScores =[]\n",
    "\n",
    "for train_index, test_index in kf.split(X):\n",
    "    X_train, X_test = X.values[train_index], X.values[test_index]\n",
    "    y_train, y_test = y.values[train_index], y.values[test_index]\n",
    "\n",
    "    mod.fit(X_train, y_train)\n",
    "\n",
    "    trainScore = recall_score(y_train, mod.predict(X_train))\n",
    "    testScore = recall_score(y_test, mod.predict(X_test))\n",
    "    \n",
    "    trainScores.append(trainScore)\n",
    "    testScores.append(testScore)\n",
    "    \n",
    "    print(\"Train %5.3f\" % trainScore)\n",
    "    print(\"Test  %5.3f\" % testScore)\n",
    "    \n",
    "    \n",
    "print(\"\\nAverages\")\n",
    "print(\"Train %5.3f\" % np.mean(trainScores))\n",
    "print(\"Test  %5.3f\" % np.mean(testScores))"
   ]
  },
  {
   "cell_type": "code",
   "execution_count": 189,
   "metadata": {
    "collapsed": false
   },
   "outputs": [],
   "source": [
    "pGrid = {\"min_samples_split\": [8, 32, 64]\n",
    "        ,\"class_weight\":[{0:1,1:4},{0:1,1:16},{0:1,1:32}]\n",
    "        ,\"max_depth\":[4, 8, 16, 32]\n",
    "        ,\"min_samples_leaf\":[2, 32]\n",
    "        }\n",
    "\n",
    "gs = GridSearchCV(DecisionTreeClassifier(), cv=5, n_jobs=8, scoring='precision',\n",
    "                   param_grid=pGrid\n",
    "                 )\n",
    "gs.fit(X, y)\n",
    "\n",
    "precisionScores = gs.cv_results_['mean_test_score']\n",
    "params = gs.cv_results_['params']\n",
    "\n",
    "gs = GridSearchCV(DecisionTreeClassifier(), cv=5, n_jobs=8, scoring='recall',\n",
    "                   param_grid=pGrid\n",
    "                 )\n",
    "gs.fit(X, y)\n",
    "\n",
    "recallScores = gs.cv_results_['mean_test_score']"
   ]
  },
  {
   "cell_type": "code",
   "execution_count": 21,
   "metadata": {
    "collapsed": true
   },
   "outputs": [],
   "source": [
    "def gridSearchPrecRec(X, y, model, pGrid):\n",
    "    gs = GridSearchCV(model, cv=5, n_jobs=6, scoring='precision',\n",
    "                   param_grid=pGrid\n",
    "                 )\n",
    "    gs.fit(X, y)\n",
    "\n",
    "    precisionScores = gs.cv_results_['mean_test_score']\n",
    "    params = gs.cv_results_['params']\n",
    "\n",
    "    gs = GridSearchCV(model, cv=5, n_jobs=6, scoring='recall',\n",
    "                       param_grid=pGrid\n",
    "                     )\n",
    "    gs.fit(X, y)\n",
    "\n",
    "    recallScores = gs.cv_results_['mean_test_score']\n",
    "    \n",
    "    return zip(recallScores, precisionScores, params)"
   ]
  },
  {
   "cell_type": "code",
   "execution_count": 22,
   "metadata": {
    "collapsed": true
   },
   "outputs": [],
   "source": [
    "def getBestScores(scores):\n",
    "    sScores = sorted(scores, key=lambda x:x[0], reverse=True)\n",
    "\n",
    "    bestScores = []\n",
    "    otherScores = []\n",
    "\n",
    "    bestPrecision = 0\n",
    "    for x in sScores:\n",
    "        if x[1] > bestPrecision:\n",
    "            bestPrecision = x[1]\n",
    "            bestScores.append(x)\n",
    "        else:\n",
    "            otherScores.append(x)\n",
    "            \n",
    "    return (bestScores, otherScores)"
   ]
  },
  {
   "cell_type": "code",
   "execution_count": 23,
   "metadata": {
    "collapsed": false
   },
   "outputs": [],
   "source": [
    "def labelPlotScores(labelScores, unlabeledScores=None):\n",
    "    \n",
    "    xVals = [x[0] for x in labelScores]\n",
    "    yVals = [x[1] for x in labelScores]\n",
    "    plt.plot(xVals, yVals,'go')\n",
    "    \n",
    "    if unlabeledScores is not None:\n",
    "        plt.plot([x[0] for x in unlabeledScores], [x[1] for x in unlabeledScores],'bo')\n",
    "        \n",
    "    plt.xlabel('recall')\n",
    "    plt.ylabel('precision')\n",
    "    axes = plt.gca()\n",
    "    axes.set_xlim([0,1])\n",
    "    axes.set_ylim([0,1])\n",
    "\n",
    "    angle = 2 * np.pi * np.random.uniform()\n",
    "    dist = .04\n",
    "\n",
    "    for i in range(len(xVals)):\n",
    "        angle += np.pi/2\n",
    "        xOff = np.cos(angle) * dist\n",
    "        yOff = np.sin(angle) * dist\n",
    "\n",
    "        plt.annotate(\n",
    "                str(i),\n",
    "                xy=(xVals[i], yVals[i]), \n",
    "            xytext=(xVals[i]+xOff, yVals[i]+yOff))\n",
    "\n",
    "    plt.show()"
   ]
  },
  {
   "cell_type": "code",
   "execution_count": 19,
   "metadata": {
    "collapsed": false
   },
   "outputs": [
    {
     "data": {
      "image/png": "[encoded data removed]",
      "text/plain": [
       "<matplotlib.figure.Figure at 0x16e44be0>"
      ]
     },
     "metadata": {},
     "output_type": "display_data"
    }
   ],
   "source": [
    "pGrid = {\"min_samples_split\": [8, 32, 64]\n",
    "        ,\"class_weight\":[{0:1,1:1},{0:1,1:8},{0:1,1:32}]\n",
    "        ,\"max_depth\":[4, 8, 16, 32]\n",
    "        ,\"min_samples_leaf\":[2, 32]\n",
    "        }\n",
    "\n",
    "dTreeScores = gridSearchPrecRec(X, y, DecisionTreeClassifier(), pGrid)\n",
    "\n",
    "dTreeBestScores, dTreeOtherScores = getBestScores(dTreeScores)\n",
    "\n",
    "labelPlotScores(dTreeBestScores, dTreeOtherScores)"
   ]
  },
  {
   "cell_type": "code",
   "execution_count": 21,
   "metadata": {
    "collapsed": false
   },
   "outputs": [
    {
     "data": {
      "text/plain": [
       "(0.30184239914237149,\n",
       " 0.097577913161702293,\n",
       " {'class_weight': {0: 1, 1: 8},\n",
       "  'max_depth': 8,\n",
       "  'min_samples_leaf': 2,\n",
       "  'min_samples_split': 64})"
      ]
     },
     "execution_count": 21,
     "metadata": {},
     "output_type": "execute_result"
    }
   ],
   "source": [
    "dTreeBestScores[10]"
   ]
  },
  {
   "cell_type": "code",
   "execution_count": 24,
   "metadata": {
    "collapsed": false
   },
   "outputs": [
    {
     "data": {
      "image/png": "[encoded data removed]",
      "text/plain": [
       "<matplotlib.figure.Figure at 0xbe45da0>"
      ]
     },
     "metadata": {},
     "output_type": "display_data"
    }
   ],
   "source": [
    "pGrid = {\"min_samples_split\": [8, 32, 64]\n",
    "        ,\"class_weight\":[{0:1,1:1},{0:1,1:8},{0:1,1:32}]\n",
    "        ,\"max_depth\":[4, 8, 16, 32]\n",
    "        ,\"n_estimators\":[8,32,64,128,256]\n",
    "        ,\"random_state\":[43]\n",
    "        }\n",
    "\n",
    "rfScores = gridSearchPrecRec(X, y, RandomForestClassifier(), pGrid)\n",
    "\n",
    "rfBestScores, rfOtherScores = getBestScores(rfScores)\n",
    "\n",
    "labelPlotScores(rfBestScores, rfOtherScores)"
   ]
  },
  {
   "cell_type": "code",
   "execution_count": 25,
   "metadata": {
    "collapsed": false
   },
   "outputs": [
    {
     "data": {
      "text/plain": [
       "(0.43198743241660431,\n",
       " 0.11229521361329817,\n",
       " {'class_weight': {0: 1, 1: 32},\n",
       "  'max_depth': 8,\n",
       "  'min_samples_split': 8,\n",
       "  'n_estimators': 128,\n",
       "  'random_state': 43})"
      ]
     },
     "execution_count": 25,
     "metadata": {},
     "output_type": "execute_result"
    }
   ],
   "source": [
    "rfBestScores[6]"
   ]
  },
  {
   "cell_type": "code",
   "execution_count": 26,
   "metadata": {
    "collapsed": false
   },
   "outputs": [
    {
     "name": "stdout",
     "output_type": "stream",
     "text": [
      "[1.0000, 0.0713],\n",
      "[0.9668, 0.0732],\n",
      "[0.6481, 0.0983],\n",
      "[0.6315, 0.1008],\n",
      "[0.5290, 0.1068],\n",
      "[0.4376, 0.1096],\n",
      "[0.4320, 0.1123],\n",
      "[0.2244, 0.1162],\n",
      "[0.2022, 0.1279],\n",
      "[0.1357, 0.1282],\n",
      "[0.1161, 0.1351],\n",
      "[0.0997, 0.1573],\n",
      "[0.0664, 0.1916],\n",
      "[0.0249, 0.2268],\n",
      "[0.0221, 0.2933],\n",
      "[0.0110, 0.3571],\n",
      "[0.0083, 0.4998],\n"
     ]
    }
   ],
   "source": [
    "for r in rfBestScores:\n",
    "    print(\"[%6.4f, %6.4f],\" % (r[0], r[1]))"
   ]
  },
  {
   "cell_type": "code",
   "execution_count": 17,
   "metadata": {
    "collapsed": false
   },
   "outputs": [],
   "source": [
    "newfundat = [[0.9973, 0.0711],\n",
    "[0.9917, 0.0712],\n",
    "[0.9862, 0.0720],\n",
    "[0.9501, 0.0748],\n",
    "[0.6424, 0.0966],\n",
    "[0.5345, 0.0983],\n",
    "[0.5262, 0.1022],\n",
    "[0.4791, 0.1121],\n",
    "[0.2189, 0.1193],\n",
    "[0.2187, 0.1200],\n",
    "[0.1328, 0.1262],\n",
    "[0.1051, 0.1494],\n",
    "[0.0692, 0.1707],\n",
    "[0.0361, 0.1777],\n",
    "[0.0332, 0.1917],\n",
    "[0.0166, 0.2356],\n",
    "[0.0028, 0.3665]]"
   ]
  },
  {
   "cell_type": "code",
   "execution_count": 18,
   "metadata": {
    "collapsed": false
   },
   "outputs": [
    {
     "data": {
      "text/plain": [
       "[[0.9973, 0.0711],\n",
       " [0.9917, 0.0712],\n",
       " [0.9862, 0.072],\n",
       " [0.9501, 0.0748],\n",
       " [0.6424, 0.0966],\n",
       " [0.5345, 0.0983],\n",
       " [0.5262, 0.1022],\n",
       " [0.4791, 0.1121],\n",
       " [0.2189, 0.1193],\n",
       " [0.2187, 0.12],\n",
       " [0.1328, 0.1262],\n",
       " [0.1051, 0.1494],\n",
       " [0.0692, 0.1707],\n",
       " [0.0361, 0.1777],\n",
       " [0.0332, 0.1917],\n",
       " [0.0166, 0.2356],\n",
       " [0.0028, 0.3665]]"
      ]
     },
     "execution_count": 18,
     "metadata": {},
     "output_type": "execute_result"
    }
   ],
   "source": []
  },
  {
   "cell_type": "code",
   "execution_count": 20,
   "metadata": {
    "collapsed": false
   },
   "outputs": [
    {
     "name": "stdout",
     "output_type": "stream",
     "text": [
      "             precision    recall  f1-score   support\n",
      "\n",
      "          0       1.00      0.69      0.82      4746\n",
      "          1       0.20      1.00      0.33       361\n",
      "\n",
      "avg / total       0.94      0.71      0.78      5107\n",
      "\n"
     ]
    },
    {
     "data": {
      "text/plain": [
       "[<matplotlib.text.Text at 0x5b317b8>, <matplotlib.text.Text at 0x1665fb38>]"
      ]
     },
     "execution_count": 20,
     "metadata": {},
     "output_type": "execute_result"
    },
    {
     "data": {
      "image/png": "[encoded data removed]",
      "text/plain": [
       "<matplotlib.figure.Figure at 0x1a8ddac8>"
      ]
     },
     "metadata": {},
     "output_type": "display_data"
    }
   ],
   "source": [
    "#rfBestScores[7]\n",
    "\n",
    "mod = RandomForestClassifier(min_samples_split=8, class_weight={0:1,1:32}, max_depth=8, n_estimators=128, random_state=43)\n",
    "\n",
    "mod.fit(X, y)\n",
    "\n",
    "preds = mod.predict(X)\n",
    "print classification_report(y, preds)\n",
    "\n",
    "cMat = confusion_matrix(y, preds)\n",
    "ax = sn.heatmap(cMat, annot=True, fmt=\"d\")\n",
    "ax.set(xlabel='predicted', ylabel='actual')"
   ]
  },
  {
   "cell_type": "code",
   "execution_count": 59,
   "metadata": {
    "collapsed": false
   },
   "outputs": [
    {
     "name": "stdout",
     "output_type": "stream",
     "text": [
      "             precision    recall  f1-score   support\n",
      "\n",
      "          0       1.00      0.89      0.94      4746\n",
      "          1       0.41      1.00      0.58       361\n",
      "\n",
      "avg / total       0.96      0.90      0.92      5107\n",
      "\n"
     ]
    },
    {
     "data": {
      "text/plain": [
       "[<matplotlib.text.Text at 0x13c66438>, <matplotlib.text.Text at 0x16d42940>]"
      ]
     },
     "execution_count": 59,
     "metadata": {},
     "output_type": "execute_result"
    },
    {
     "data": {
      "image/png": "[encoded data removed]",
      "text/plain": [
       "<matplotlib.figure.Figure at 0x143f3748>"
      ]
     },
     "metadata": {},
     "output_type": "display_data"
    }
   ],
   "source": [
    "#rfBestScores[8]\n",
    "\n",
    "mod = RandomForestClassifier(min_samples_split=64, class_weight={0:1,1:32}, max_depth=16, n_estimators=64)\n",
    "\n",
    "mod.fit(X, y)\n",
    "\n",
    "preds = mod.predict(X)\n",
    "print classification_report(y, preds)\n",
    "\n",
    "cMat = confusion_matrix(y, preds)\n",
    "ax = sn.heatmap(cMat, annot=True, fmt=\"d\")\n",
    "ax.set(xlabel='predicted', ylabel='actual')"
   ]
  },
  {
   "cell_type": "code",
   "execution_count": 38,
   "metadata": {
    "collapsed": false
   },
   "outputs": [
    {
     "data": {
      "image/png": "[encoded data removed]",
      "text/plain": [
       "<matplotlib.figure.Figure at 0x1a93b828>"
      ]
     },
     "metadata": {},
     "output_type": "display_data"
    }
   ],
   "source": [
    "from sklearn.ensemble import AdaBoostClassifier\n",
    "\n",
    "pGrid = {\"n_estimators\":[8,16,32,64,128],\n",
    "         \"learning_rate\":[.01, .1, .5, 1, 2, 4, 16],\n",
    "         \"random_state\":[43]\n",
    "        }\n",
    "\n",
    "abScores = gridSearchPrecRec(X, y, AdaBoostClassifier(), pGrid)\n",
    "\n",
    "abBestScores, abOtherScores = getBestScores(abScores)\n",
    "\n",
    "labelPlotScores(abBestScores, abOtherScores)"
   ]
  },
  {
   "cell_type": "code",
   "execution_count": 40,
   "metadata": {
    "collapsed": false
   },
   "outputs": [
    {
     "name": "stdout",
     "output_type": "stream",
     "text": [
      "             precision    recall  f1-score   support\n",
      "\n",
      "          0       0.87      0.23      0.37      4746\n",
      "          1       0.05      0.55      0.10       361\n",
      "\n",
      "avg / total       0.81      0.25      0.35      5107\n",
      "\n"
     ]
    },
    {
     "data": {
      "text/plain": [
       "[<matplotlib.text.Text at 0x104f4128>, <matplotlib.text.Text at 0x1448c898>]"
      ]
     },
     "execution_count": 40,
     "metadata": {},
     "output_type": "execute_result"
    },
    {
     "data": {
      "image/png": "[encoded data removed]",
      "text/plain": [
       "<matplotlib.figure.Figure at 0x1053e358>"
      ]
     },
     "metadata": {},
     "output_type": "display_data"
    }
   ],
   "source": [
    "mod = AdaBoostClassifier(learning_rate= 2, n_estimators=8, random_state=43)\n",
    "\n",
    "mod.fit(X, y)\n",
    "\n",
    "preds = mod.predict(X)\n",
    "print classification_report(y, preds)\n",
    "\n",
    "cMat = confusion_matrix(y, preds)\n",
    "ax = sn.heatmap(cMat, annot=True, fmt=\"d\")\n",
    "ax.set(xlabel='predicted', ylabel='actual')"
   ]
  },
  {
   "cell_type": "code",
   "execution_count": 225,
   "metadata": {
    "collapsed": false
   },
   "outputs": [
    {
     "data": {
      "image/png": "[encoded data removed]",
      "text/plain": [
       "<matplotlib.figure.Figure at 0x174fdeb8>"
      ]
     },
     "metadata": {},
     "output_type": "display_data"
    }
   ],
   "source": [
    "plt.plot([x[0] for x in rfBestScores], [x[1] for x in rfBestScores],'go')\n",
    "plt.plot([x[0] for x in dTreeBestScores], [x[1] for x in dTreeBestScores],'bo')\n",
    "plt.xlabel('recall')\n",
    "plt.ylabel('precision')\n",
    "axes = plt.gca()\n",
    "axes.set_xlim([0,1])\n",
    "axes.set_ylim([0,1])\n",
    "\n",
    "plt.show()"
   ]
  },
  {
   "cell_type": "code",
   "execution_count": 42,
   "metadata": {
    "collapsed": false
   },
   "outputs": [
    {
     "ename": "NameError",
     "evalue": "name 'rfBestScores' is not defined",
     "output_type": "error",
     "traceback": [
      "\u001b[0;31m---------------------------------------------------------------------------\u001b[0m",
      "\u001b[0;31mNameError\u001b[0m                                 Traceback (most recent call last)",
      "\u001b[0;32m<ipython-input-42-09d606cd3429>\u001b[0m in \u001b[0;36m<module>\u001b[0;34m()\u001b[0m\n\u001b[0;32m----> 1\u001b[0;31m \u001b[0mrfBestScores\u001b[0m\u001b[1;33m[\u001b[0m\u001b[1;36m0\u001b[0m\u001b[1;33m]\u001b[0m\u001b[1;33m\u001b[0m\u001b[0m\n\u001b[0m",
      "\u001b[0;31mNameError\u001b[0m: name 'rfBestScores' is not defined"
     ]
    }
   ],
   "source": [
    "rfBestScores[0]"
   ]
  },
  {
   "cell_type": "code",
   "execution_count": 245,
   "metadata": {
    "collapsed": false
   },
   "outputs": [
    {
     "name": "stdout",
     "output_type": "stream",
     "text": [
      "  BST90P03 : 0.0160  wave1_publicUse\n",
      "  BST90P12 : 0.0157  wave1_publicUse\n",
      "  BST90P21 : 0.0149  wave1_publicUse\n",
      "  BST90P16 : 0.0144  wave1_publicUse\n",
      "  BST90P15 : 0.0139  wave1_publicUse\n",
      "  BST90P07 : 0.0127  wave1_publicUse\n",
      "  BST90P17 : 0.0126  wave1_publicUse\n",
      "  BST90P28 : 0.0118  wave1_publicUse\n",
      "  BST90P25 : 0.0111  wave1_publicUse\n",
      "    H1WP14 : 0.0096  wave1\n",
      "  H1GH28_5 : 0.0094  wave1\n",
      "  BST90P06 : 0.0092  wave1_publicUse\n",
      "     H1TO4 : 0.0087  wave1\n",
      "     H1DA8 : 0.0086  wave1\n",
      "  BST90P14 : 0.0085  wave1_publicUse\n",
      "     H1NM8 : 0.0083  wave1\n",
      "  BST90P09 : 0.0082  wave1_publicUse\n",
      "     H1EE2 : 0.0073  wave1\n",
      "    H1WP13 : 0.0068  wave1\n",
      "     H1WP8 : 0.0067  wave1\n"
     ]
    }
   ],
   "source": [
    "featNms = zip(XNms, mod.feature_importances_)\n",
    "\n",
    "featNms = sorted(featNms, key=lambda(x): x[1], reverse=True)\n",
    "\n",
    "for grp in featNms[:20]:\n",
    "    colKey = grp[0]\n",
    "    if \"_\" in colKey:\n",
    "        colKey = colKey[:colKey.index(\"_\")]\n",
    "    \n",
    "    print(\"%10s : %6.4f  %s\" % (grp[0], grp[1], colMap[colKey][0]))"
   ]
  }
 ],
 "metadata": {
  "kernelspec": {
   "display_name": "Python 2",
   "language": "python",
   "name": "python2"
  },
  "language_info": {
   "codemirror_mode": {
    "name": "ipython",
    "version": 2
   },
   "file_extension": ".py",
   "mimetype": "text/x-python",
   "name": "python",
   "nbconvert_exporter": "python",
   "pygments_lexer": "ipython2",
   "version": "2.7.13"
  }
 },
 "nbformat": 4,
 "nbformat_minor": 2
}
