{
 "cells": [
  {
   "cell_type": "code",
   "execution_count": 1,
   "metadata": {
    "collapsed": false
   },
   "outputs": [],
   "source": [
    "# ls"
   ]
  },
  {
   "cell_type": "code",
   "execution_count": 2,
   "metadata": {
    "collapsed": true
   },
   "outputs": [],
   "source": [
    "import pandas as pd\n",
    "import numpy as np"
   ]
  },
  {
   "cell_type": "code",
   "execution_count": 3,
   "metadata": {
    "collapsed": false
   },
   "outputs": [
    {
     "data": {
      "text/html": [
       "<div>\n",
       "<table border=\"1\" class=\"dataframe\">\n",
       "  <thead>\n",
       "    <tr style=\"text-align: right;\">\n",
       "      <th></th>\n",
       "      <th>H1GI20</th>\n",
       "      <th>H1DA8</th>\n",
       "      <th>H1DA9</th>\n",
       "      <th>H1DA10</th>\n",
       "      <th>H1GH1</th>\n",
       "      <th>H1GH28</th>\n",
       "      <th>H1GH42</th>\n",
       "      <th>H1GH44</th>\n",
       "      <th>H1GH46</th>\n",
       "      <th>H1GH59A</th>\n",
       "      <th>...</th>\n",
       "      <th>BST90P13_3</th>\n",
       "      <th>BST90P24_1</th>\n",
       "      <th>BST90P24_2</th>\n",
       "      <th>BST90P24_3</th>\n",
       "      <th>BST90P24_4</th>\n",
       "      <th>BST90P24_5</th>\n",
       "      <th>BST90P24_6</th>\n",
       "      <th>BST90P26_1</th>\n",
       "      <th>BST90P26_2</th>\n",
       "      <th>BST90P26_3</th>\n",
       "    </tr>\n",
       "    <tr>\n",
       "      <th>AID</th>\n",
       "      <th></th>\n",
       "      <th></th>\n",
       "      <th></th>\n",
       "      <th></th>\n",
       "      <th></th>\n",
       "      <th></th>\n",
       "      <th></th>\n",
       "      <th></th>\n",
       "      <th></th>\n",
       "      <th></th>\n",
       "      <th></th>\n",
       "      <th></th>\n",
       "      <th></th>\n",
       "      <th></th>\n",
       "      <th></th>\n",
       "      <th></th>\n",
       "      <th></th>\n",
       "      <th></th>\n",
       "      <th></th>\n",
       "      <th></th>\n",
       "      <th></th>\n",
       "    </tr>\n",
       "  </thead>\n",
       "  <tbody>\n",
       "    <tr>\n",
       "      <th>57101310</th>\n",
       "      <td>11</td>\n",
       "      <td>33</td>\n",
       "      <td>4.0</td>\n",
       "      <td>0</td>\n",
       "      <td>4</td>\n",
       "      <td>5</td>\n",
       "      <td>4</td>\n",
       "      <td>5</td>\n",
       "      <td>5</td>\n",
       "      <td>6</td>\n",
       "      <td>...</td>\n",
       "      <td>0</td>\n",
       "      <td>0</td>\n",
       "      <td>0</td>\n",
       "      <td>0</td>\n",
       "      <td>0</td>\n",
       "      <td>0</td>\n",
       "      <td>1</td>\n",
       "      <td>0</td>\n",
       "      <td>0</td>\n",
       "      <td>1</td>\n",
       "    </tr>\n",
       "    <tr>\n",
       "      <th>57103869</th>\n",
       "      <td>12</td>\n",
       "      <td>24</td>\n",
       "      <td>6.0</td>\n",
       "      <td>7</td>\n",
       "      <td>4</td>\n",
       "      <td>2</td>\n",
       "      <td>4</td>\n",
       "      <td>4</td>\n",
       "      <td>5</td>\n",
       "      <td>6</td>\n",
       "      <td>...</td>\n",
       "      <td>1</td>\n",
       "      <td>0</td>\n",
       "      <td>1</td>\n",
       "      <td>0</td>\n",
       "      <td>0</td>\n",
       "      <td>0</td>\n",
       "      <td>0</td>\n",
       "      <td>0</td>\n",
       "      <td>1</td>\n",
       "      <td>0</td>\n",
       "    </tr>\n",
       "    <tr>\n",
       "      <th>57109625</th>\n",
       "      <td>8</td>\n",
       "      <td>14</td>\n",
       "      <td>7.0</td>\n",
       "      <td>3</td>\n",
       "      <td>1</td>\n",
       "      <td>2</td>\n",
       "      <td>2</td>\n",
       "      <td>4</td>\n",
       "      <td>4</td>\n",
       "      <td>5</td>\n",
       "      <td>...</td>\n",
       "      <td>0</td>\n",
       "      <td>0</td>\n",
       "      <td>1</td>\n",
       "      <td>0</td>\n",
       "      <td>0</td>\n",
       "      <td>0</td>\n",
       "      <td>0</td>\n",
       "      <td>0</td>\n",
       "      <td>0</td>\n",
       "      <td>1</td>\n",
       "    </tr>\n",
       "    <tr>\n",
       "      <th>57111071</th>\n",
       "      <td>8</td>\n",
       "      <td>35</td>\n",
       "      <td>12.0</td>\n",
       "      <td>2</td>\n",
       "      <td>2</td>\n",
       "      <td>4</td>\n",
       "      <td>3</td>\n",
       "      <td>3</td>\n",
       "      <td>3</td>\n",
       "      <td>5</td>\n",
       "      <td>...</td>\n",
       "      <td>0</td>\n",
       "      <td>0</td>\n",
       "      <td>1</td>\n",
       "      <td>0</td>\n",
       "      <td>0</td>\n",
       "      <td>0</td>\n",
       "      <td>0</td>\n",
       "      <td>0</td>\n",
       "      <td>0</td>\n",
       "      <td>1</td>\n",
       "    </tr>\n",
       "    <tr>\n",
       "      <th>57113943</th>\n",
       "      <td>9</td>\n",
       "      <td>10</td>\n",
       "      <td>5.0</td>\n",
       "      <td>4</td>\n",
       "      <td>3</td>\n",
       "      <td>4</td>\n",
       "      <td>3</td>\n",
       "      <td>4</td>\n",
       "      <td>5</td>\n",
       "      <td>6</td>\n",
       "      <td>...</td>\n",
       "      <td>1</td>\n",
       "      <td>0</td>\n",
       "      <td>1</td>\n",
       "      <td>0</td>\n",
       "      <td>0</td>\n",
       "      <td>0</td>\n",
       "      <td>0</td>\n",
       "      <td>1</td>\n",
       "      <td>0</td>\n",
       "      <td>0</td>\n",
       "    </tr>\n",
       "  </tbody>\n",
       "</table>\n",
       "<p>5 rows × 500 columns</p>\n",
       "</div>"
      ],
      "text/plain": [
       "          H1GI20  H1DA8  H1DA9  H1DA10  H1GH1  H1GH28  H1GH42  H1GH44  H1GH46  \\\n",
       "AID                                                                             \n",
       "57101310      11     33    4.0       0      4       5       4       5       5   \n",
       "57103869      12     24    6.0       7      4       2       4       4       5   \n",
       "57109625       8     14    7.0       3      1       2       2       4       4   \n",
       "57111071       8     35   12.0       2      2       4       3       3       3   \n",
       "57113943       9     10    5.0       4      3       4       3       4       5   \n",
       "\n",
       "          H1GH59A     ...      BST90P13_3  BST90P24_1  BST90P24_2  BST90P24_3  \\\n",
       "AID                   ...                                                       \n",
       "57101310        6     ...               0           0           0           0   \n",
       "57103869        6     ...               1           0           1           0   \n",
       "57109625        5     ...               0           0           1           0   \n",
       "57111071        5     ...               0           0           1           0   \n",
       "57113943        6     ...               1           0           1           0   \n",
       "\n",
       "          BST90P24_4  BST90P24_5  BST90P24_6  BST90P26_1  BST90P26_2  \\\n",
       "AID                                                                    \n",
       "57101310           0           0           1           0           0   \n",
       "57103869           0           0           0           0           1   \n",
       "57109625           0           0           0           0           0   \n",
       "57111071           0           0           0           0           0   \n",
       "57113943           0           0           0           1           0   \n",
       "\n",
       "          BST90P26_3  \n",
       "AID                   \n",
       "57101310           1  \n",
       "57103869           0  \n",
       "57109625           1  \n",
       "57111071           1  \n",
       "57113943           0  \n",
       "\n",
       "[5 rows x 500 columns]"
      ]
     },
     "execution_count": 3,
     "metadata": {},
     "output_type": "execute_result"
    }
   ],
   "source": [
    "data = pd.read_csv('wave1_lip_dummies.csv', header=0, na_values=' ', index_col=0)\n",
    "data.head()"
   ]
  },
  {
   "cell_type": "code",
   "execution_count": 4,
   "metadata": {
    "collapsed": false
   },
   "outputs": [
    {
     "data": {
      "text/plain": [
       "(5107, 500)"
      ]
     },
     "execution_count": 4,
     "metadata": {},
     "output_type": "execute_result"
    }
   ],
   "source": [
    "data.shape"
   ]
  },
  {
   "cell_type": "code",
   "execution_count": 5,
   "metadata": {
    "collapsed": false
   },
   "outputs": [
    {
     "data": {
      "text/plain": [
       "0    4686\n",
       "1     421\n",
       "Name: C_JOINT2, dtype: int64"
      ]
     },
     "execution_count": 5,
     "metadata": {},
     "output_type": "execute_result"
    }
   ],
   "source": [
    "data.C_JOINT2.value_counts()"
   ]
  },
  {
   "cell_type": "markdown",
   "metadata": {},
   "source": [
    "#### Create CV Labels"
   ]
  },
  {
   "cell_type": "code",
   "execution_count": 6,
   "metadata": {
    "collapsed": true
   },
   "outputs": [],
   "source": [
    "data['cv_label'] = data.index"
   ]
  },
  {
   "cell_type": "code",
   "execution_count": 7,
   "metadata": {
    "collapsed": false
   },
   "outputs": [
    {
     "data": {
      "text/plain": [
       "(5107, 501)"
      ]
     },
     "execution_count": 7,
     "metadata": {},
     "output_type": "execute_result"
    }
   ],
   "source": [
    "data.shape"
   ]
  },
  {
   "cell_type": "code",
   "execution_count": 8,
   "metadata": {
    "collapsed": false
   },
   "outputs": [],
   "source": [
    "# data.head()"
   ]
  },
  {
   "cell_type": "code",
   "execution_count": 9,
   "metadata": {
    "collapsed": false
   },
   "outputs": [
    {
     "data": {
      "text/plain": [
       "AID\n",
       "57101310    1\n",
       "57103869    0\n",
       "57109625    0\n",
       "57111071    0\n",
       "57113943    0\n",
       "Name: C_JOINT2, dtype: int64"
      ]
     },
     "execution_count": 9,
     "metadata": {},
     "output_type": "execute_result"
    }
   ],
   "source": [
    "target = data.C_JOINT2\n",
    "target.head()"
   ]
  },
  {
   "cell_type": "code",
   "execution_count": 10,
   "metadata": {
    "collapsed": true
   },
   "outputs": [],
   "source": [
    "del data['C_JOINT2']"
   ]
  },
  {
   "cell_type": "code",
   "execution_count": 11,
   "metadata": {
    "collapsed": true
   },
   "outputs": [],
   "source": [
    "del data['H1RP5'] #Question about pregnancy"
   ]
  },
  {
   "cell_type": "code",
   "execution_count": 12,
   "metadata": {
    "collapsed": true
   },
   "outputs": [],
   "source": [
    "del data['H1RP1']"
   ]
  },
  {
   "cell_type": "markdown",
   "metadata": {},
   "source": [
    "#### Oversample to balance classes"
   ]
  },
  {
   "cell_type": "code",
   "execution_count": 13,
   "metadata": {
    "collapsed": true
   },
   "outputs": [],
   "source": [
    "# NB: If you use this you'll need to add the package first\n",
    "# conda install -c glemaitre imbalanced-learn\n",
    "from imblearn.over_sampling import RandomOverSampler"
   ]
  },
  {
   "cell_type": "code",
   "execution_count": 14,
   "metadata": {
    "collapsed": true
   },
   "outputs": [],
   "source": [
    "ros = RandomOverSampler(random_state=7)"
   ]
  },
  {
   "cell_type": "code",
   "execution_count": 15,
   "metadata": {
    "collapsed": true
   },
   "outputs": [],
   "source": [
    "data_res, target_res = ros.fit_sample(data, target)"
   ]
  },
  {
   "cell_type": "code",
   "execution_count": 16,
   "metadata": {
    "collapsed": false
   },
   "outputs": [
    {
     "data": {
      "text/plain": [
       "(9372, 498)"
      ]
     },
     "execution_count": 16,
     "metadata": {},
     "output_type": "execute_result"
    }
   ],
   "source": [
    "data_res.shape"
   ]
  },
  {
   "cell_type": "code",
   "execution_count": 17,
   "metadata": {
    "collapsed": false
   },
   "outputs": [
    {
     "data": {
      "text/plain": [
       "(9372,)"
      ]
     },
     "execution_count": 17,
     "metadata": {},
     "output_type": "execute_result"
    }
   ],
   "source": [
    "target_res.shape"
   ]
  },
  {
   "cell_type": "code",
   "execution_count": 18,
   "metadata": {
    "collapsed": false
   },
   "outputs": [
    {
     "data": {
      "text/plain": [
       "{0: 4686, 1: 4686}"
      ]
     },
     "execution_count": 18,
     "metadata": {},
     "output_type": "execute_result"
    }
   ],
   "source": [
    "# Double check to make sure class counts have been balanced\n",
    "unique, counts = np.unique(target_res, return_counts=True)\n",
    "dict(zip(unique, counts))"
   ]
  },
  {
   "cell_type": "markdown",
   "metadata": {},
   "source": [
    "#### Create training and testing sets"
   ]
  },
  {
   "cell_type": "code",
   "execution_count": 19,
   "metadata": {
    "collapsed": false
   },
   "outputs": [
    {
     "name": "stderr",
     "output_type": "stream",
     "text": [
      "/Users/davidscroggins/anaconda/lib/python2.7/site-packages/sklearn/cross_validation.py:44: DeprecationWarning: This module was deprecated in version 0.18 in favor of the model_selection module into which all the refactored classes and functions are moved. Also note that the interface of the new CV iterators are different from that of this module. This module will be removed in 0.20.\n",
      "  \"This module will be removed in 0.20.\", DeprecationWarning)\n"
     ]
    }
   ],
   "source": [
    "from sklearn.cross_validation import train_test_split\n",
    "X_train, X_test, y_train, y_test = train_test_split(data_res, target_res, test_size=0.2, random_state=7)#, stratify=target_res)"
   ]
  },
  {
   "cell_type": "code",
   "execution_count": 20,
   "metadata": {
    "collapsed": false
   },
   "outputs": [],
   "source": [
    "cv_labels_train = X_train[:,[497]]\n",
    "cv_labels_test = X_test[:,[497]]"
   ]
  },
  {
   "cell_type": "code",
   "execution_count": 21,
   "metadata": {
    "collapsed": true
   },
   "outputs": [],
   "source": [
    "X_train = np.delete(X_train, -1, 1)\n",
    "X_test = np.delete(X_test, -1, 1)"
   ]
  },
  {
   "cell_type": "code",
   "execution_count": 22,
   "metadata": {
    "collapsed": false
   },
   "outputs": [],
   "source": [
    "# data_res[:,[503]]"
   ]
  },
  {
   "cell_type": "code",
   "execution_count": 23,
   "metadata": {
    "collapsed": false
   },
   "outputs": [],
   "source": [
    "# cv_labels = data_res[:,[503]] #Create array of cv_labels"
   ]
  },
  {
   "cell_type": "code",
   "execution_count": 24,
   "metadata": {
    "collapsed": false
   },
   "outputs": [],
   "source": [
    "# cv_labels"
   ]
  },
  {
   "cell_type": "code",
   "execution_count": 25,
   "metadata": {
    "collapsed": false
   },
   "outputs": [],
   "source": [
    "# data_res = np.delete(data_res, -1, 1) #Delete cv_labels from data array"
   ]
  },
  {
   "cell_type": "code",
   "execution_count": 26,
   "metadata": {
    "collapsed": false
   },
   "outputs": [],
   "source": [
    "# data_res.shape"
   ]
  },
  {
   "cell_type": "code",
   "execution_count": 27,
   "metadata": {
    "collapsed": false
   },
   "outputs": [],
   "source": [
    "from sklearn.cross_validation import LabelKFold\n",
    "from sklearn.cross_validation import cross_val_predict"
   ]
  },
  {
   "cell_type": "markdown",
   "metadata": {},
   "source": [
    "#### Cross-Validate predictions on new dataset"
   ]
  },
  {
   "cell_type": "code",
   "execution_count": 28,
   "metadata": {
    "collapsed": false
   },
   "outputs": [],
   "source": [
    "lkf_train = LabelKFold(cv_labels_train, n_folds=10)\n",
    "lkf_test = LabelKFold(cv_labels_test, n_folds=10)"
   ]
  },
  {
   "cell_type": "code",
   "execution_count": 29,
   "metadata": {
    "collapsed": true
   },
   "outputs": [],
   "source": [
    "from sklearn.ensemble import RandomForestClassifier\n",
    "from sklearn.metrics import classification_report\n",
    "from sklearn.metrics import confusion_matrix"
   ]
  },
  {
   "cell_type": "code",
   "execution_count": 30,
   "metadata": {
    "collapsed": true
   },
   "outputs": [],
   "source": [
    "rfclf = RandomForestClassifier(criterion='entropy', max_depth=5, n_estimators=10)"
   ]
  },
  {
   "cell_type": "code",
   "execution_count": 31,
   "metadata": {
    "collapsed": true
   },
   "outputs": [],
   "source": [
    "predicted = cross_val_predict(rfclf, X_train, y_train, cv=lkf_train)"
   ]
  },
  {
   "cell_type": "code",
   "execution_count": 32,
   "metadata": {
    "collapsed": false
   },
   "outputs": [
    {
     "name": "stdout",
     "output_type": "stream",
     "text": [
      "             precision    recall  f1-score   support\n",
      "\n",
      "          0       0.53      0.58      0.56      3723\n",
      "          1       0.54      0.49      0.51      3774\n",
      "\n",
      "avg / total       0.54      0.54      0.53      7497\n",
      "\n"
     ]
    }
   ],
   "source": [
    "print(classification_report(y_train, predicted))"
   ]
  },
  {
   "cell_type": "markdown",
   "metadata": {},
   "source": [
    "#### Use GridSearchCV to tune parameters"
   ]
  },
  {
   "cell_type": "code",
   "execution_count": 33,
   "metadata": {
    "collapsed": true
   },
   "outputs": [],
   "source": [
    "# from sklearn.model_selection import GridSearchCV"
   ]
  },
  {
   "cell_type": "code",
   "execution_count": 34,
   "metadata": {
    "collapsed": true
   },
   "outputs": [],
   "source": [
    "# rfGridSearch = RandomForestClassifier()"
   ]
  },
  {
   "cell_type": "code",
   "execution_count": 35,
   "metadata": {
    "collapsed": false
   },
   "outputs": [],
   "source": [
    "# np.arange(1, 102, 10)"
   ]
  },
  {
   "cell_type": "code",
   "execution_count": 36,
   "metadata": {
    "collapsed": true
   },
   "outputs": [],
   "source": [
    "# parameters = {\n",
    "#     'criterion' : ['entropy', 'gini'],\n",
    "#     'max_depth' : np.arange(1, 11, 3),\n",
    "#     'min_samples_leaf' : np.arange(1, 102, 20),\n",
    "#     'min_samples_split' : np.arange(2, 103, 20),\n",
    "#     \"n_estimators\" : np.arange(10, 101, 20)\n",
    "# }"
   ]
  },
  {
   "cell_type": "code",
   "execution_count": 37,
   "metadata": {
    "collapsed": false
   },
   "outputs": [],
   "source": [
    "# gs = GridSearchCV(rfGridSearch, parameters, verbose=1, cv=lkf_train, n_jobs=-1, scoring='recall')"
   ]
  },
  {
   "cell_type": "code",
   "execution_count": 38,
   "metadata": {
    "collapsed": false
   },
   "outputs": [],
   "source": [
    "# %time _ = gs.fit(X_train, y_train)"
   ]
  },
  {
   "cell_type": "code",
   "execution_count": 39,
   "metadata": {
    "collapsed": false
   },
   "outputs": [],
   "source": [
    "# gs.best_params_"
   ]
  },
  {
   "cell_type": "markdown",
   "metadata": {},
   "source": [
    "#### Test best parameters"
   ]
  },
  {
   "cell_type": "code",
   "execution_count": 40,
   "metadata": {
    "collapsed": true
   },
   "outputs": [],
   "source": [
    "# # ten fold, scoring recall, .38 minority, .54 overall\n",
    "# rfclf2 = RandomForestClassifier(criterion='entropy', max_depth=1,\n",
    "#                                 min_samples_leaf=11, min_samples_split=2,\n",
    "#                                 n_estimators=30)"
   ]
  },
  {
   "cell_type": "code",
   "execution_count": 41,
   "metadata": {
    "collapsed": true
   },
   "outputs": [],
   "source": [
    "# # five fold, default scoring, .36 minority, .55 overall\n",
    "# rfclf2 = RandomForestClassifier(criterion='entropy', max_depth=1,\n",
    "#                                 min_samples_leaf=11, min_samples_split=12,\n",
    "#                                 n_estimators=50)"
   ]
  },
  {
   "cell_type": "code",
   "execution_count": 42,
   "metadata": {
    "collapsed": false
   },
   "outputs": [],
   "source": [
    "# .46 minority, .55 overall\n",
    "rfclf2 = RandomForestClassifier(criterion='entropy', max_depth=6,\n",
    "                                min_samples_leaf=91, min_samples_split=72,\n",
    "                                n_estimators=100)"
   ]
  },
  {
   "cell_type": "code",
   "execution_count": 43,
   "metadata": {
    "collapsed": false
   },
   "outputs": [
    {
     "data": {
      "text/plain": [
       "RandomForestClassifier(bootstrap=True, class_weight=None, criterion='entropy',\n",
       "            max_depth=6, max_features='auto', max_leaf_nodes=None,\n",
       "            min_impurity_split=1e-07, min_samples_leaf=91,\n",
       "            min_samples_split=72, min_weight_fraction_leaf=0.0,\n",
       "            n_estimators=100, n_jobs=1, oob_score=False, random_state=None,\n",
       "            verbose=0, warm_start=False)"
      ]
     },
     "execution_count": 43,
     "metadata": {},
     "output_type": "execute_result"
    }
   ],
   "source": [
    "rfclf2.fit(X_train, y_train)"
   ]
  },
  {
   "cell_type": "code",
   "execution_count": 44,
   "metadata": {
    "collapsed": true
   },
   "outputs": [],
   "source": [
    "# Repeat cross-validated testing\n",
    "predicted2 = cross_val_predict(rfclf2, X_test, y_test, cv=lkf_test)"
   ]
  },
  {
   "cell_type": "code",
   "execution_count": 45,
   "metadata": {
    "collapsed": false
   },
   "outputs": [
    {
     "name": "stdout",
     "output_type": "stream",
     "text": [
      "             precision    recall  f1-score   support\n",
      "\n",
      "          0       0.54      0.63      0.58       963\n",
      "          1       0.53      0.44      0.48       912\n",
      "\n",
      "avg / total       0.54      0.54      0.54      1875\n",
      "\n"
     ]
    }
   ],
   "source": [
    "print(classification_report(y_test, predicted2))"
   ]
  },
  {
   "cell_type": "code",
   "execution_count": 46,
   "metadata": {
    "collapsed": false
   },
   "outputs": [
    {
     "name": "stdout",
     "output_type": "stream",
     "text": [
      "/Users/davidscroggins/Google Drive/DePaul/csc478_machineLearning/csc478_project/csc478_initialModels/graphics\n"
     ]
    }
   ],
   "source": [
    "cd graphics"
   ]
  },
  {
   "cell_type": "code",
   "execution_count": 47,
   "metadata": {
    "collapsed": false
   },
   "outputs": [
    {
     "data": {
      "image/png": "[encoded data removed]",
      "text/plain": [
       "<matplotlib.figure.Figure at 0x1221b6290>"
      ]
     },
     "metadata": {},
     "output_type": "display_data"
    }
   ],
   "source": [
    "import matplotlib.pyplot as plt\n",
    "import seaborn as sb\n",
    "%matplotlib inline\n",
    "cm = confusion_matrix(y_test, predicted2)\n",
    "hm = sb.heatmap(cm, annot=True, fmt=\"d\")\n",
    "fig = hm.get_figure()\n",
    "fig.savefig(\"heatMap_oversampling_lip_randomForest\")"
   ]
  },
  {
   "cell_type": "code",
   "execution_count": 48,
   "metadata": {
    "collapsed": false
   },
   "outputs": [
    {
     "name": "stdout",
     "output_type": "stream",
     "text": [
      "H1GI20\n",
      "H1SE2\n",
      "H1RP6\n",
      "H1GH28\n",
      "H1SE3\n",
      "BST90P21\n",
      "H1SE1\n",
      "H1RP4\n",
      "BST90P12\n",
      "BST90P17\n"
     ]
    }
   ],
   "source": [
    "importances = rfclf2.feature_importances_\n",
    "indices = np.argsort(importances)[::-1]\n",
    "features_list = list(data)\n",
    "top_indices = indices[:10]\n",
    "for i in top_indices:\n",
    "    print features_list[i]"
   ]
  },
  {
   "cell_type": "code",
   "execution_count": 50,
   "metadata": {
    "collapsed": false
   },
   "outputs": [
    {
     "data": {
      "text/plain": [
       "array([  6.65794708e-02,   1.43790501e-02,   1.15974660e-02,\n",
       "         6.72373126e-03,   2.79035070e-03,   2.72289873e-02,\n",
       "         5.13048406e-03,   3.69357869e-03,   4.03158789e-03,\n",
       "         3.50648104e-03,   2.87290020e-03,   5.23012996e-03,\n",
       "         2.16531191e-02,   2.91902587e-02,   2.45729300e-02,\n",
       "         3.00149176e-02,   2.57502042e-02,   5.84219933e-03,\n",
       "         3.02742651e-03,   1.43680724e-03,   1.09767187e-03,\n",
       "         3.70360227e-03,   3.94272469e-03,   5.20053097e-04,\n",
       "         9.58333021e-04,   1.82714222e-04,   2.05744741e-03,\n",
       "         1.99313298e-03,   4.80680744e-03,   7.88394335e-03,\n",
       "         1.64259422e-03,   6.66343048e-03,   2.52973367e-03,\n",
       "         4.22396290e-03,   1.94138011e-03,   2.12885015e-04,\n",
       "         2.73764517e-03,   7.50356811e-04,   7.59100835e-03,\n",
       "         8.19259958e-04,   5.06902613e-03,   7.17676188e-04,\n",
       "         2.49073679e-03,   5.21956471e-03,   1.71686031e-03,\n",
       "         4.52247015e-03,   5.41833384e-03,   5.74761867e-03,\n",
       "         4.56420321e-03,   1.67065338e-03,   1.63376611e-04,\n",
       "         0.00000000e+00,   0.00000000e+00,   2.31597907e-03,\n",
       "         9.66363058e-04,   1.08537691e-03,   3.40589110e-03,\n",
       "         2.11372783e-03,   2.09591056e-03,   3.53169547e-03,\n",
       "         9.37440747e-04,   5.21903089e-03,   4.26146948e-03,\n",
       "         1.11939983e-02,   4.05506290e-03,   7.88312143e-03,\n",
       "         1.45789904e-03,   6.32704168e-03,   1.17444320e-02,\n",
       "         2.93527078e-03,   9.49894650e-03,   4.95081410e-04,\n",
       "         1.52434042e-02,   9.09057825e-03,   1.38873072e-02,\n",
       "         2.67409038e-03,   1.93631181e-02,   1.25926992e-02,\n",
       "         1.36067255e-02,   8.20285367e-03,   1.85749784e-02,\n",
       "         1.09123946e-02,   2.36890958e-03,   0.00000000e+00,\n",
       "         2.50718909e-02,   1.89980342e-03,   2.10890914e-03,\n",
       "         8.95907987e-03,   1.11445476e-03,   6.77157079e-03,\n",
       "         8.19468379e-03,   0.00000000e+00,   2.84957400e-04,\n",
       "         5.81154260e-03,   8.13802190e-03,   2.56485977e-03,\n",
       "         3.40894390e-03,   0.00000000e+00,   0.00000000e+00,\n",
       "         0.00000000e+00,   0.00000000e+00,   0.00000000e+00,\n",
       "         0.00000000e+00,   0.00000000e+00,   0.00000000e+00,\n",
       "         0.00000000e+00,   0.00000000e+00,   2.02121661e-04,\n",
       "         1.67778217e-04,   0.00000000e+00,   0.00000000e+00,\n",
       "         0.00000000e+00,   0.00000000e+00,   0.00000000e+00,\n",
       "         0.00000000e+00,   0.00000000e+00,   0.00000000e+00,\n",
       "         0.00000000e+00,   0.00000000e+00,   0.00000000e+00,\n",
       "         0.00000000e+00,   1.62286449e-03,   7.04067691e-04,\n",
       "         1.81434733e-03,   7.50304269e-04,   5.12569586e-04,\n",
       "         1.93086102e-03,   3.15298212e-03,   0.00000000e+00,\n",
       "         4.74595788e-04,   1.04374307e-03,   3.01325584e-03,\n",
       "         2.27290553e-03,   2.30926562e-03,   0.00000000e+00,\n",
       "         2.84661278e-04,   1.30074961e-03,   4.32086737e-04,\n",
       "         5.32006806e-04,   3.48080576e-04,   0.00000000e+00,\n",
       "         9.47442715e-04,   4.59134246e-04,   2.07273079e-03,\n",
       "         1.81060460e-03,   3.12670973e-03,   1.07494246e-03,\n",
       "         0.00000000e+00,   0.00000000e+00,   4.61798046e-03,\n",
       "         6.13130601e-03,   0.00000000e+00,   0.00000000e+00,\n",
       "         4.27681980e-04,   6.79593783e-04,   2.35235251e-03,\n",
       "         0.00000000e+00,   0.00000000e+00,   0.00000000e+00,\n",
       "         1.32139032e-03,   0.00000000e+00,   8.58547526e-04,\n",
       "         2.57436998e-04,   0.00000000e+00,   4.00947632e-03,\n",
       "         2.35362119e-03,   2.48601804e-03,   5.92005497e-04,\n",
       "         0.00000000e+00,   4.40158200e-03,   7.25691013e-04,\n",
       "         1.39569939e-03,   0.00000000e+00,   0.00000000e+00,\n",
       "         0.00000000e+00,   5.16965979e-03,   6.48182084e-03,\n",
       "         4.53055894e-04,   5.33145263e-04,   0.00000000e+00,\n",
       "         2.43175357e-03,   5.07821952e-04,   0.00000000e+00,\n",
       "         0.00000000e+00,   0.00000000e+00,   1.70581374e-03,\n",
       "         2.51822085e-04,   0.00000000e+00,   0.00000000e+00,\n",
       "         0.00000000e+00,   1.86459588e-03,   1.16102016e-03,\n",
       "         2.97985036e-03,   0.00000000e+00,   7.60205700e-04,\n",
       "         0.00000000e+00,   0.00000000e+00,   0.00000000e+00,\n",
       "         3.81333608e-04,   1.03480047e-03,   3.76483044e-04,\n",
       "         2.45956885e-04,   0.00000000e+00,   6.86817955e-05,\n",
       "         0.00000000e+00,   0.00000000e+00,   0.00000000e+00,\n",
       "         1.87852410e-03,   2.99881843e-03,   1.29170354e-03,\n",
       "         1.78446598e-03,   2.75451378e-03,   2.47510813e-03,\n",
       "         2.00277895e-04,   1.53121502e-03,   2.16918185e-03,\n",
       "         0.00000000e+00,   4.56268571e-03,   2.60093224e-03,\n",
       "         5.36784580e-04,   1.01023239e-03,   0.00000000e+00,\n",
       "         0.00000000e+00,   3.55274803e-04,   0.00000000e+00,\n",
       "         0.00000000e+00,   1.39808382e-03,   2.08713142e-03,\n",
       "         0.00000000e+00,   0.00000000e+00,   1.49924490e-03,\n",
       "         0.00000000e+00,   0.00000000e+00,   6.35951264e-04,\n",
       "         0.00000000e+00,   0.00000000e+00,   6.49839696e-05,\n",
       "         3.11242421e-03,   1.08874682e-03,   1.40268272e-03,\n",
       "         1.32545238e-03,   0.00000000e+00,   0.00000000e+00,\n",
       "         1.79366316e-03,   0.00000000e+00,   8.01794906e-04,\n",
       "         5.82315993e-04,   4.74712672e-04,   0.00000000e+00,\n",
       "         1.25599060e-03,   2.13433915e-04,   1.11582587e-03,\n",
       "         7.43874006e-04,   3.34039015e-03,   4.72175609e-03,\n",
       "         0.00000000e+00,   1.18536425e-03,   9.16315713e-04,\n",
       "         0.00000000e+00,   3.88814234e-04,   6.35948438e-04,\n",
       "         3.81642139e-04,   0.00000000e+00,   0.00000000e+00,\n",
       "         0.00000000e+00,   4.48801878e-03,   0.00000000e+00,\n",
       "         0.00000000e+00,   0.00000000e+00,   5.99007326e-04,\n",
       "         0.00000000e+00,   1.42595722e-03,   5.46621962e-04,\n",
       "         7.42249460e-04,   1.36151289e-03,   8.06896448e-04,\n",
       "         5.99481977e-04,   0.00000000e+00,   0.00000000e+00,\n",
       "         0.00000000e+00,   0.00000000e+00,   1.77586671e-04,\n",
       "         0.00000000e+00,   0.00000000e+00,   0.00000000e+00,\n",
       "         4.01408274e-04,   0.00000000e+00,   0.00000000e+00,\n",
       "         0.00000000e+00,   0.00000000e+00,   5.06769226e-03,\n",
       "         0.00000000e+00,   0.00000000e+00,   0.00000000e+00,\n",
       "         0.00000000e+00,   0.00000000e+00,   6.80217660e-04,\n",
       "         0.00000000e+00,   0.00000000e+00,   0.00000000e+00,\n",
       "         0.00000000e+00,   0.00000000e+00,   2.16863573e-03,\n",
       "         0.00000000e+00,   4.51098712e-04,   0.00000000e+00,\n",
       "         5.84076211e-04,   1.83541758e-03,   0.00000000e+00,\n",
       "         0.00000000e+00,   1.80095174e-03,   2.11735292e-03,\n",
       "         0.00000000e+00,   6.89972669e-03,   1.83303174e-03,\n",
       "         0.00000000e+00,   1.34087982e-03,   6.97767284e-04,\n",
       "         6.36750674e-04,   1.15158724e-03,   1.38459663e-03,\n",
       "         5.35084300e-04,   1.61744857e-03,   3.45953972e-03,\n",
       "         1.75449603e-03,   2.71487668e-03,   1.35412237e-03,\n",
       "         0.00000000e+00,   1.88007678e-03,   5.99731619e-04,\n",
       "         1.03098839e-03,   4.69660369e-04,   1.92150284e-03,\n",
       "         3.96624485e-04,   7.70802750e-04,   1.63803681e-03,\n",
       "         7.43598684e-04,   8.07128654e-04,   9.23279662e-04,\n",
       "         2.64326687e-04,   3.62318872e-03,   9.31955207e-03,\n",
       "         7.36797405e-04,   1.46255145e-03,   9.66792363e-04,\n",
       "         3.29560161e-04,   1.36570618e-03,   0.00000000e+00,\n",
       "         0.00000000e+00,   0.00000000e+00,   0.00000000e+00,\n",
       "         0.00000000e+00,   1.97018497e-04,   6.93879818e-04,\n",
       "         1.39666429e-03,   1.09943056e-03,   1.21365973e-03,\n",
       "         3.60343573e-04,   6.30101860e-04,   8.68320656e-04,\n",
       "         0.00000000e+00,   2.61996684e-03,   0.00000000e+00,\n",
       "         0.00000000e+00,   2.73436081e-04,   8.86346841e-04,\n",
       "         0.00000000e+00,   0.00000000e+00,   1.01884318e-03,\n",
       "         2.56591619e-03,   0.00000000e+00,   0.00000000e+00,\n",
       "         5.15860249e-04,   2.04798997e-03,   0.00000000e+00,\n",
       "         0.00000000e+00,   3.28117147e-03,   5.03376443e-04,\n",
       "         0.00000000e+00,   0.00000000e+00,   1.64695951e-03,\n",
       "         1.63803089e-04,   3.78953356e-04,   1.97582321e-03,\n",
       "         0.00000000e+00,   1.61727345e-03,   0.00000000e+00,\n",
       "         8.19844218e-04,   0.00000000e+00,   4.76655365e-03,\n",
       "         6.66206402e-03,   4.02535091e-03,   0.00000000e+00,\n",
       "         0.00000000e+00,   1.00805492e-03,   1.19663254e-03,\n",
       "         9.78865155e-04,   2.28515810e-03,   0.00000000e+00,\n",
       "         2.63110253e-03,   0.00000000e+00,   1.04351894e-03,\n",
       "         0.00000000e+00,   2.08922088e-03,   0.00000000e+00,\n",
       "         5.16689387e-03,   9.05813305e-04,   4.40786716e-04,\n",
       "         1.00192186e-03,   0.00000000e+00,   0.00000000e+00,\n",
       "         2.26334031e-04,   3.39554289e-04,   2.53364758e-04,\n",
       "         0.00000000e+00,   2.37897069e-04,   0.00000000e+00,\n",
       "         0.00000000e+00,   2.97325389e-04,   0.00000000e+00,\n",
       "         0.00000000e+00,   0.00000000e+00,   0.00000000e+00,\n",
       "         0.00000000e+00,   0.00000000e+00,   2.95438695e-04,\n",
       "         6.57525016e-04,   1.97980668e-04,   1.77136242e-04,\n",
       "         2.06081899e-03,   0.00000000e+00,   0.00000000e+00,\n",
       "         0.00000000e+00,   0.00000000e+00,   0.00000000e+00,\n",
       "         0.00000000e+00,   6.20531514e-04,   0.00000000e+00,\n",
       "         2.14065029e-03,   0.00000000e+00,   0.00000000e+00,\n",
       "         0.00000000e+00,   3.79794055e-03,   0.00000000e+00,\n",
       "         0.00000000e+00,   0.00000000e+00,   0.00000000e+00,\n",
       "         0.00000000e+00,   0.00000000e+00,   0.00000000e+00,\n",
       "         0.00000000e+00,   0.00000000e+00,   2.80306083e-04,\n",
       "         0.00000000e+00,   5.73562814e-04,   0.00000000e+00,\n",
       "         0.00000000e+00,   5.65855660e-04,   0.00000000e+00,\n",
       "         0.00000000e+00,   1.39806472e-03,   0.00000000e+00,\n",
       "         0.00000000e+00,   0.00000000e+00,   0.00000000e+00,\n",
       "         0.00000000e+00,   0.00000000e+00,   1.74152893e-03,\n",
       "         7.45726626e-04,   1.23561963e-03,   0.00000000e+00,\n",
       "         2.96277814e-03,   4.86415932e-03,   5.44665006e-04,\n",
       "         2.40533679e-04,   0.00000000e+00,   0.00000000e+00,\n",
       "         6.19695156e-04,   0.00000000e+00,   1.85030795e-03,\n",
       "         2.14406188e-03,   0.00000000e+00,   0.00000000e+00,\n",
       "         0.00000000e+00,   0.00000000e+00,   0.00000000e+00,\n",
       "         1.27901296e-03,   0.00000000e+00,   1.04344704e-03,\n",
       "         3.03092921e-03,   0.00000000e+00,   0.00000000e+00,\n",
       "         0.00000000e+00,   3.40893847e-04,   0.00000000e+00,\n",
       "         1.12153026e-03,   7.77823241e-04])"
      ]
     },
     "execution_count": 50,
     "metadata": {},
     "output_type": "execute_result"
    }
   ],
   "source": [
    "rfclf2.feature_importances_"
   ]
  },
  {
   "cell_type": "code",
   "execution_count": 49,
   "metadata": {
    "collapsed": false
   },
   "outputs": [
    {
     "data": {
      "text/plain": [
       "'\\nResults for Depth 1 RF\\nH1GH28\\nBST90P17\\nH1GI20\\nH1RP4\\nH1MP4_1\\nH1RP6\\nH1SE3\\nH1TO39\\nH1DS7_1\\nBST90P06'"
      ]
     },
     "execution_count": 49,
     "metadata": {},
     "output_type": "execute_result"
    }
   ],
   "source": [
    "'''\n",
    "Results for Depth 1 RF\n",
    "H1GH28\n",
    "BST90P17\n",
    "H1GI20\n",
    "H1RP4\n",
    "H1MP4_1\n",
    "H1RP6\n",
    "H1SE3\n",
    "H1TO39\n",
    "H1DS7_1\n",
    "BST90P06'''"
   ]
  },
  {
   "cell_type": "code",
   "execution_count": null,
   "metadata": {
    "collapsed": true
   },
   "outputs": [],
   "source": []
  }
 ],
 "metadata": {
  "kernelspec": {
   "display_name": "Python 2",
   "language": "python",
   "name": "python2"
  },
  "language_info": {
   "codemirror_mode": {
    "name": "ipython",
    "version": 2
   },
   "file_extension": ".py",
   "mimetype": "text/x-python",
   "name": "python",
   "nbconvert_exporter": "python",
   "pygments_lexer": "ipython2",
   "version": "2.7.13"
  }
 },
 "nbformat": 4,
 "nbformat_minor": 2
}
