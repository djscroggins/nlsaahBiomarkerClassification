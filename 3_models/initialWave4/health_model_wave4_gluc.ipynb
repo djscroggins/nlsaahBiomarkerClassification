{
 "cells": [
  {
   "cell_type": "code",
   "execution_count": 21,
   "metadata": {
    "collapsed": false
   },
   "outputs": [],
   "source": [
    "## Import modules\n",
    "import numpy as np\n",
    "import pandas as pd\n",
    "import os \n",
    "import time\n",
    "import math\n",
    "import sklearn\n",
    "\n",
    "import matplotlib.pyplot as plt\n",
    "import seaborn as sn\n",
    "%matplotlib inline\n",
    "\n",
    "from sklearn.tree import DecisionTreeClassifier\n",
    "from sklearn.ensemble import RandomForestClassifier\n",
    "from sklearn.metrics import homogeneity_score\n",
    "from sklearn.metrics import completeness_score\n",
    "from sklearn.metrics import confusion_matrix\n",
    "from sklearn.metrics import classification_report\n",
    "from sklearn.metrics import precision_score\n",
    "from sklearn.metrics import recall_score\n",
    "\n",
    "from sklearn.model_selection import KFold\n",
    "from sklearn.model_selection import cross_val_score\n",
    "from sklearn.model_selection import GridSearchCV\n",
    "\n",
    "import time"
   ]
  },
  {
   "cell_type": "code",
   "execution_count": 2,
   "metadata": {
    "collapsed": true
   },
   "outputs": [],
   "source": [
    "df = pd.read_csv(r'C:\\dev\\data\\health\\dataSets\\wave4_gluc_dummies.csv')"
   ]
  },
  {
   "cell_type": "code",
   "execution_count": 3,
   "metadata": {
    "collapsed": true
   },
   "outputs": [],
   "source": [
    "def getOrigDsColMap():\n",
    "    dataSets = []\n",
    "    dataSetNms = []\n",
    "    \n",
    "    dataSets.append(pd.read_csv(r'C:\\dev\\data\\health\\dataSets\\glucoseHomeostasis.tsv', sep='\\t', header=0, na_values=' ').columns)\n",
    "    dataSetNms.append(\"glucHome\")\n",
    "    dataSets.append(pd.read_csv(r'C:\\dev\\data\\health\\dataSets\\inflammationAndImmuneFunction.tsv', sep='\\t', header=0, na_values=' ').columns)\n",
    "    dataSetNms.append(\"infImmFunc\")\n",
    "    dataSets.append(pd.read_csv(r'C:\\dev\\data\\health\\dataSets\\lipids.tsv', sep='\\t', header=0, na_values=' ').columns)\n",
    "    dataSetNms.append(\"lipids\")\n",
    "    dataSets.append(pd.read_csv(r'C:\\dev\\data\\health\\dataSets\\wave1_inHomeQuest.tsv', sep='\\t', header=0, na_values=' ').columns)\n",
    "    dataSetNms.append(\"wave1\")\n",
    "    dataSets.append(pd.read_csv(r'C:\\dev\\data\\health\\dataSets\\wave2_inHomeQuest.tsv', sep='\\t', header=0, na_values=' ').columns)\n",
    "    dataSetNms.append(\"wave2\")\n",
    "    dataSets.append(pd.read_csv(r'C:\\dev\\data\\health\\dataSets\\wave3_inHomeQuest.tsv', sep='\\t', header=0, na_values=' ').columns)\n",
    "    dataSetNms.append(\"wave3\")\n",
    "    dataSets.append(pd.read_csv(r'C:\\dev\\data\\health\\dataSets\\wave4_inHomeQuest.tsv', sep='\\t', header=0, na_values=' ').columns)\n",
    "    dataSetNms.append(\"wave4\")\n",
    "    dataSets.append(pd.read_csv(r'C:\\dev\\data\\health\\dataSets\\wave1_publicUseContDB.tsv', sep='\\t', header=0, na_values=' ').columns)\n",
    "    dataSetNms.append(\"wave1_publicUse\")\n",
    "    dataSets.append(pd.read_csv(r'C:\\dev\\data\\health\\dataSets\\wave2_publicUseContDB.tsv', sep='\\t', header=0, na_values=' ').columns)\n",
    "    dataSetNms.append(\"wave2_publicUse\")\n",
    "    \n",
    "    colMap = dict()\n",
    "    \n",
    "    for i in range(len(dataSets)):\n",
    "        dsNm = dataSetNms[i]\n",
    "        \n",
    "        for colNm in dataSets[i]:\n",
    "            if colNm not in colMap:\n",
    "                colMap[colNm] = []\n",
    "            colMap[colNm].append(dsNm)\n",
    "    \n",
    "    return colMap"
   ]
  },
  {
   "cell_type": "code",
   "execution_count": 4,
   "metadata": {
    "collapsed": true
   },
   "outputs": [],
   "source": [
    "colMap = getOrigDsColMap()"
   ]
  },
  {
   "cell_type": "code",
   "execution_count": 5,
   "metadata": {
    "collapsed": false,
    "scrolled": false
   },
   "outputs": [
    {
     "name": "stdout",
     "output_type": "stream",
     "text": [
      "Unnamed: 0\n",
      "IDAY4\n",
      "C4WD60_3\n",
      "C4WD60_2\n",
      "C4WD60_1\n",
      "C4WD90_2\n",
      "C4WD90_1\n",
      "C_JOINT\n",
      "AID\n",
      "C4WD90_3\n",
      "C_MED_0\n",
      "C_MED_1\n",
      "PRETEST4_0\n",
      "PRETEST4_1\n",
      "BIO_SEX4_1\n",
      "BIO_SEX4_2\n",
      "PRISON4_0\n",
      "C4NUMSCR_0\n",
      "C4NUMSCR_1\n",
      "C4NUMSCR_2\n",
      "C4NUMSCR_3\n",
      "C4NUMSCR_4\n",
      "C4NUMSCR_5\n",
      "C4NUMSCR_6\n",
      "C4NUMSCR_7\n"
     ]
    }
   ],
   "source": [
    "for col in df.columns:\n",
    "    if \"H4\" not in col:\n",
    "        print(col)"
   ]
  },
  {
   "cell_type": "code",
   "execution_count": 11,
   "metadata": {
    "collapsed": false
   },
   "outputs": [],
   "source": [
    "yNm = \"C_JOINT\"\n",
    "notIVs = [\"AID\", \"C_MED_0\", \"C_MED_1\", \"H4ID5D_0\", \"H4ID5D_1\", \"H4ID5D_6\", \"Unnamed: 0\"] #\n",
    "notIVs.append(yNm)\n",
    "XNms = df.columns.drop(notIVs)\n",
    "\n",
    "y = df[yNm]\n",
    "X_all = df[XNms]"
   ]
  },
  {
   "cell_type": "code",
   "execution_count": 12,
   "metadata": {
    "collapsed": false
   },
   "outputs": [
    {
     "data": {
      "text/plain": [
       "[('H4BMICLS_6', 0.14762744482696935),\n",
       " ('H4GH7_5', 0.12683015365897526),\n",
       " ('H4ID5C_1', 0.12608018339924179),\n",
       " ('H4ID5C_0', -0.12551556984580567),\n",
       " ('H4ID5B_1', 0.1039887693461899),\n",
       " ('H4ID5B_0', -0.10366950707175322),\n",
       " ('H4CUFF_1.0', -0.097946464943772224),\n",
       " ('H4GH1_5', 0.097059839388281291),\n",
       " ('H4BPCLS_4.0', 0.08612792874714803),\n",
       " ('H4PE4_1.0', 0.083162222434263175),\n",
       " ('H4CUFF_2.0', 0.080699661210365162),\n",
       " ('H4GH6', 0.074738455723797587),\n",
       " ('H4GH7_3', -0.074601006892597271),\n",
       " ('H4DA18_1.0', 0.074079199277823277),\n",
       " ('H4DS3_1', 0.07392486109530795),\n",
       " ('H4WP26_0', -0.072921165531824039),\n",
       " ('H4TO40', 0.071931714001894992),\n",
       " ('H4HS5_1', 0.06984083969504809),\n",
       " ('H4WP13', 0.069586805157443019),\n",
       " ('H4ID10F_1', 0.069009244166568617)]"
      ]
     },
     "execution_count": 12,
     "metadata": {},
     "output_type": "execute_result"
    }
   ],
   "source": [
    "corrs = []\n",
    "\n",
    "for col in XNms:\n",
    "    corrV = y.corr(df[col], method='pearson')\n",
    "    corrs.append((col, corrV))\n",
    "    \n",
    "corrs = sorted(corrs, key=lambda x: abs(x[1]), reverse=True)\n",
    "\n",
    "corrs[:20]"
   ]
  },
  {
   "cell_type": "code",
   "execution_count": 13,
   "metadata": {
    "collapsed": false,
    "scrolled": true
   },
   "outputs": [],
   "source": [
    "X_sub = X_all[[col[0] for col in corrs[:500]]]\n",
    "X = X_sub"
   ]
  },
  {
   "cell_type": "code",
   "execution_count": 37,
   "metadata": {
    "collapsed": false
   },
   "outputs": [
    {
     "name": "stdout",
     "output_type": "stream",
     "text": [
      "Train 0.894\n",
      "Test  0.459\n",
      "Train 0.874\n",
      "Test  0.329\n",
      "Train 0.784\n",
      "Test  0.373\n",
      "Train 0.745\n",
      "Test  0.294\n",
      "Train 0.801\n",
      "Test  0.316\n",
      "\n",
      "Averages\n",
      "Train 0.819\n",
      "Test  0.354\n"
     ]
    }
   ],
   "source": [
    "mod = DecisionTreeClassifier(min_samples_split=62, max_depth=8, class_weight={0: 1, 1: 8})\n",
    "\n",
    "kf = KFold(n_splits=5)\n",
    "\n",
    "trainScores =[]\n",
    "testScores =[]\n",
    "\n",
    "for train_index, test_index in kf.split(X):\n",
    "    X_train, X_test = X.values[train_index], X.values[test_index]\n",
    "    y_train, y_test = y.values[train_index], y.values[test_index]\n",
    "\n",
    "    mod.fit(X_train, y_train)\n",
    "\n",
    "    trainScore = recall_score(y_train, mod.predict(X_train))\n",
    "    testScore = recall_score(y_test, mod.predict(X_test))\n",
    "    \n",
    "    trainScores.append(trainScore)\n",
    "    testScores.append(testScore)\n",
    "    \n",
    "    print(\"Train %5.3f\" % trainScore)\n",
    "    print(\"Test  %5.3f\" % testScore)\n",
    "    \n",
    "    \n",
    "print(\"\\nAverages\")\n",
    "print(\"Train %5.3f\" % np.mean(trainScores))\n",
    "print(\"Test  %5.3f\" % np.mean(testScores))"
   ]
  },
  {
   "cell_type": "code",
   "execution_count": 38,
   "metadata": {
    "collapsed": false
   },
   "outputs": [
    {
     "name": "stdout",
     "output_type": "stream",
     "text": [
      "0.840658238009\n",
      "             precision    recall  f1-score   support\n",
      "\n",
      "          0       0.98      0.84      0.91      4625\n",
      "          1       0.28      0.79      0.42       358\n",
      "\n",
      "avg / total       0.93      0.84      0.87      4983\n",
      "\n"
     ]
    },
    {
     "data": {
      "text/plain": [
       "[<matplotlib.text.Text at 0x135aef98>, <matplotlib.text.Text at 0x11d68ac8>]"
      ]
     },
     "execution_count": 38,
     "metadata": {},
     "output_type": "execute_result"
    },
    {
     "data": {
      "image/png": "[encoded data removed]",
      "text/plain": [
       "<matplotlib.figure.Figure at 0x10549f98>"
      ]
     },
     "metadata": {},
     "output_type": "display_data"
    }
   ],
   "source": [
    "mod = DecisionTreeClassifier(min_samples_split=62, max_depth=8, class_weight={0: 1, 1: 8})\n",
    "\n",
    "mod.fit(X, y)\n",
    "\n",
    "print(mod.score(X, y))\n",
    "\n",
    "preds = mod.predict(X)\n",
    "print classification_report(y, preds)\n",
    "\n",
    "cMat = confusion_matrix(y, preds)\n",
    "ax = sn.heatmap(cMat, annot=True, fmt=\"d\")\n",
    "ax.set(xlabel='predicted', ylabel='actual')"
   ]
  },
  {
   "cell_type": "code",
   "execution_count": 27,
   "metadata": {
    "collapsed": true
   },
   "outputs": [],
   "source": [
    "def gridSearchPrecRec(X, y, model, pGrid, jobs=3):\n",
    "    \n",
    "    start = time.time()\n",
    "    gs = GridSearchCV(model, cv=5, n_jobs=jobs, scoring='precision',\n",
    "                   param_grid=pGrid\n",
    "                 )\n",
    "    gs.fit(X, y)\n",
    "\n",
    "    precisionScores = gs.cv_results_['mean_test_score']\n",
    "    params = gs.cv_results_['params']\n",
    "\n",
    "    print(\"Precision took %f minutes\" % ((time.time() - start)/60.0))\n",
    "    \n",
    "    \n",
    "    start2 = time.time()\n",
    "    gs = GridSearchCV(model, cv=5, n_jobs=jobs, scoring='recall',\n",
    "                       param_grid=pGrid\n",
    "                     )\n",
    "    gs.fit(X, y)\n",
    "\n",
    "    recallScores = gs.cv_results_['mean_test_score']\n",
    "    \n",
    "    print(\"Recall took %f minutes\" % ((time.time() - start2)/60.0))\n",
    "    print(\"Overall took %f minutes\" % ((time.time() - start)/60.0))\n",
    "    \n",
    "    return zip(recallScores, precisionScores, params)"
   ]
  },
  {
   "cell_type": "code",
   "execution_count": 28,
   "metadata": {
    "collapsed": true
   },
   "outputs": [],
   "source": [
    "def getBestScores(scores):\n",
    "    sScores = sorted(scores, key=lambda x:x[0], reverse=True)\n",
    "\n",
    "    bestScores = []\n",
    "    otherScores = []\n",
    "\n",
    "    bestPrecision = 0\n",
    "    for x in sScores:\n",
    "        if x[1] > bestPrecision:\n",
    "            bestPrecision = x[1]\n",
    "            bestScores.append(x)\n",
    "        else:\n",
    "            otherScores.append(x)\n",
    "            \n",
    "    return (bestScores, otherScores)"
   ]
  },
  {
   "cell_type": "code",
   "execution_count": 53,
   "metadata": {
    "collapsed": false
   },
   "outputs": [],
   "source": [
    "def labelPlotScores(labelScores, unlabeledScores=None):\n",
    "    \n",
    "    xVals = [x[0] for x in labelScores]\n",
    "    yVals = [x[1] for x in labelScores]\n",
    "    plt.plot(xVals, yVals,'go')\n",
    "    \n",
    "    if unlabeledScores is not None:\n",
    "        plt.plot([x[0] for x in unlabeledScores], [x[1] for x in unlabeledScores],'bo')\n",
    "        \n",
    "    plt.xlabel('recall')\n",
    "    plt.ylabel('precision')\n",
    "    axes = plt.gca()\n",
    "    axes.set_xlim([0,1])\n",
    "    axes.set_ylim([0,1])\n",
    "\n",
    "    angle = 2 * np.pi * np.random.uniform()\n",
    "    dist = .04\n",
    "\n",
    "    for i in range(len(xVals)):\n",
    "        angle += np.pi/2\n",
    "        xOff = np.cos(angle) * dist\n",
    "        yOff = np.sin(angle) * dist\n",
    "\n",
    "        plt.annotate(\n",
    "                str(i),\n",
    "                xy=(xVals[i], yVals[i]), \n",
    "            xytext=(xVals[i]+xOff, yVals[i]+yOff))\n",
    "\n",
    "    plt.show()"
   ]
  },
  {
   "cell_type": "code",
   "execution_count": 41,
   "metadata": {
    "collapsed": false
   },
   "outputs": [
    {
     "name": "stdout",
     "output_type": "stream",
     "text": [
      "Precision took 0.968133 minutes\n",
      "Recall took 0.979217 minutes\n",
      "Overall took 1.947383 minutes\n"
     ]
    },
    {
     "data": {
      "image/png": "[encoded data removed]",
      "text/plain": [
       "<matplotlib.figure.Figure at 0x7e79e10>"
      ]
     },
     "metadata": {},
     "output_type": "display_data"
    }
   ],
   "source": [
    "pGrid = {\"min_samples_split\": [8, 32, 64]\n",
    "        ,\"class_weight\":[{0:1,1:1},{0:1,1:8},{0:1,1:32}]\n",
    "        ,\"max_depth\":[4, 8, 16, 32]\n",
    "        ,\"min_samples_leaf\":[2, 32],\n",
    "         \"random_state\":[43]\n",
    "        }\n",
    "\n",
    "dTreeScores = gridSearchPrecRec(X, y, DecisionTreeClassifier(), pGrid)\n",
    "\n",
    "dTreeBestScores, dTreeOtherScores = getBestScores(dTreeScores)\n",
    "\n",
    "labelPlotScores(dTreeBestScores, dTreeOtherScores)"
   ]
  },
  {
   "cell_type": "code",
   "execution_count": 21,
   "metadata": {
    "collapsed": false
   },
   "outputs": [
    {
     "data": {
      "text/plain": [
       "(0.30184239914237149,\n",
       " 0.097577913161702293,\n",
       " {'class_weight': {0: 1, 1: 8},\n",
       "  'max_depth': 8,\n",
       "  'min_samples_leaf': 2,\n",
       "  'min_samples_split': 64})"
      ]
     },
     "execution_count": 21,
     "metadata": {},
     "output_type": "execute_result"
    }
   ],
   "source": [
    "dTreeBestScores[10]"
   ]
  },
  {
   "cell_type": "code",
   "execution_count": 32,
   "metadata": {
    "collapsed": false
   },
   "outputs": [
    {
     "name": "stdout",
     "output_type": "stream",
     "text": [
      "Precision took 10.964600 minutes\n",
      "Recall took 10.830983 minutes\n",
      "Overall took 21.795600 minutes\n"
     ]
    },
    {
     "data": {
      "image/png": "[encoded data removed]",
      "text/plain": [
       "<matplotlib.figure.Figure at 0x5beba90>"
      ]
     },
     "metadata": {},
     "output_type": "display_data"
    }
   ],
   "source": [
    "pGrid = {\"min_samples_split\": [8, 32, 64]\n",
    "        ,\"class_weight\":[{0:1,1:1},{0:1,1:8},{0:1,1:32}]\n",
    "        ,\"max_depth\":[4, 8, 16, 32]\n",
    "        ,\"n_estimators\":[8,32,64,128,256]\n",
    "        ,\"random_state\":[43]\n",
    "        }\n",
    "\n",
    "rfScores = gridSearchPrecRec(X, y, RandomForestClassifier(), pGrid)\n",
    "\n",
    "rfBestScores, rfOtherScores = getBestScores(rfScores)\n",
    "\n",
    "labelPlotScores(rfBestScores, rfOtherScores)"
   ]
  },
  {
   "cell_type": "code",
   "execution_count": 40,
   "metadata": {
    "collapsed": false,
    "scrolled": true
   },
   "outputs": [
    {
     "name": "stdout",
     "output_type": "stream",
     "text": [
      "(0.54764061659407237, 0.14054254085288345, {'min_samples_split': 8, 'n_estimators': 256, 'random_state': 43, 'max_depth': 8, 'class_weight': {0: 1, 1: 32}})\n"
     ]
    }
   ],
   "source": [
    "print(rfBestScores[7])"
   ]
  },
  {
   "cell_type": "code",
   "execution_count": 34,
   "metadata": {
    "collapsed": false
   },
   "outputs": [
    {
     "name": "stdout",
     "output_type": "stream",
     "text": [
      "[0.9805, 0.0797],\n",
      "[0.9721, 0.0798],\n",
      "[0.9721, 0.0804],\n",
      "[0.9694, 0.0808],\n",
      "[0.9358, 0.0825],\n",
      "[0.6816, 0.1270],\n",
      "[0.5951, 0.1340],\n",
      "[0.5476, 0.1405],\n",
      "[0.5449, 0.1425],\n",
      "[0.3856, 0.1671],\n",
      "[0.3690, 0.1797],\n",
      "[0.3521, 0.1800],\n",
      "[0.2990, 0.1878],\n",
      "[0.1929, 0.2252],\n",
      "[0.1761, 0.2938],\n",
      "[0.1620, 0.3066],\n",
      "[0.1564, 0.3383],\n",
      "[0.1256, 0.3510],\n",
      "[0.0699, 0.3539],\n",
      "[0.0475, 0.3567],\n",
      "[0.0364, 0.3734],\n",
      "[0.0363, 0.5142],\n",
      "[0.0363, 0.5233],\n"
     ]
    }
   ],
   "source": [
    "for r in rfBestScores:\n",
    "    print(\"[%6.4f, %6.4f],\" % (r[0], r[1]))"
   ]
  },
  {
   "cell_type": "code",
   "execution_count": 35,
   "metadata": {
    "collapsed": false
   },
   "outputs": [
    {
     "data": {
      "image/png": "[encoded data removed]",
      "text/plain": [
       "<matplotlib.figure.Figure at 0x13bfe3c8>"
      ]
     },
     "metadata": {},
     "output_type": "display_data"
    }
   ],
   "source": [
    "v1 = [[1.0000, 0.0713],\n",
    "[0.9668, 0.0732],\n",
    "[0.6481, 0.0983],\n",
    "[0.6315, 0.1008],\n",
    "[0.5290, 0.1068],\n",
    "[0.4376, 0.1096],\n",
    "[0.4320, 0.1123],\n",
    "[0.2244, 0.1162],\n",
    "[0.2022, 0.1279],\n",
    "[0.1357, 0.1282],\n",
    "[0.1161, 0.1351],\n",
    "[0.0997, 0.1573],\n",
    "[0.0664, 0.1916],\n",
    "[0.0249, 0.2268],\n",
    "[0.0221, 0.2933],\n",
    "[0.0110, 0.3571],\n",
    "[0.0083, 0.4998]]\n",
    "\n",
    "v4 = [[x[0], x[1]] for x in rfBestScores]\n",
    "\n",
    "    \n",
    "xVals = [x[0] for x in v4]\n",
    "yVals = [x[1] for x in v4]\n",
    "plt.plot(xVals, yVals,'go')\n",
    "\n",
    "plt.plot([x[0] for x in v1], [x[1] for x in v1],'bo', label='Line 2')\n",
    "\n",
    "plt.xlabel('recall')\n",
    "plt.ylabel('precision')\n",
    "axes = plt.gca()\n",
    "axes.set_xlim([0,1])\n",
    "axes.set_ylim([0,1])\n",
    "\n",
    "# line_up, = plt.plot([1,2,3], label='Line 2')\n",
    "# line_down, = plt.plot([3,2,1], label='Line 1')\n",
    "plt.legend(labels=[\"wave 4\", \"wave 1\"])\n",
    "\n",
    "plt.show()"
   ]
  },
  {
   "cell_type": "code",
   "execution_count": 50,
   "metadata": {
    "collapsed": false
   },
   "outputs": [
    {
     "data": {
      "image/png": "[encoded data removed]",
      "text/plain": [
       "<matplotlib.figure.Figure at 0x16e03e48>"
      ]
     },
     "metadata": {},
     "output_type": "display_data"
    }
   ],
   "source": [
    "xVals = [x[0] for x in v4]\n",
    "yVals = [x[1] for x in v4]\n",
    "plt.step(xVals, yVals,'g', where='post')\n",
    "\n",
    "plt.step([x[0] for x in v1], [x[1] for x in v1],'b', where='post')\n",
    "\n",
    "plt.xlabel('recall')\n",
    "plt.ylabel('precision')\n",
    "axes = plt.gca()\n",
    "axes.set_xlim([0,1])\n",
    "axes.set_ylim([0,1])\n",
    "\n",
    "# line_up, = plt.plot([1,2,3], label='Line 2')\n",
    "# line_down, = plt.plot([3,2,1], label='Line 1')\n",
    "plt.legend(labels=[\"wave 4 - random forest\", \"wave 1 - random forest\"])\n",
    "\n",
    "plt.show()"
   ]
  },
  {
   "cell_type": "code",
   "execution_count": 48,
   "metadata": {
    "collapsed": false
   },
   "outputs": [
    {
     "name": "stdout",
     "output_type": "stream",
     "text": [
      "             precision    recall  f1-score   support\n",
      "\n",
      "          0       1.00      0.73      0.84      4625\n",
      "          1       0.22      1.00      0.36       358\n",
      "\n",
      "avg / total       0.94      0.75      0.81      4983\n",
      "\n"
     ]
    },
    {
     "data": {
      "text/plain": [
       "[<matplotlib.text.Text at 0x132ffdd8>, <matplotlib.text.Text at 0x17f0d320>]"
      ]
     },
     "execution_count": 48,
     "metadata": {},
     "output_type": "execute_result"
    },
    {
     "data": {
      "image/png": "[encoded data removed]",
      "text/plain": [
       "<matplotlib.figure.Figure at 0x17f0d7b8>"
      ]
     },
     "metadata": {},
     "output_type": "display_data"
    }
   ],
   "source": [
    "#rfBestScores[7]\n",
    "\n",
    "mod = RandomForestClassifier(min_samples_split=8, class_weight={0:1,1:32}, max_depth=8, n_estimators=256, random_state=43)\n",
    "\n",
    "mod.fit(X, y)\n",
    "\n",
    "preds = mod.predict(X)\n",
    "print classification_report(y, preds)\n",
    "\n",
    "cMat = confusion_matrix(y, preds)\n",
    "ax = sn.heatmap(cMat, annot=True, fmt=\"d\")\n",
    "ax.set(xlabel='predicted', ylabel='actual')"
   ]
  },
  {
   "cell_type": "code",
   "execution_count": 87,
   "metadata": {
    "collapsed": false
   },
   "outputs": [
    {
     "name": "stdout",
     "output_type": "stream",
     "text": [
      "             precision    recall  f1-score   support\n",
      "\n",
      "          0       1.00      0.96      0.98      4625\n",
      "          1       0.64      0.95      0.76       358\n",
      "\n",
      "avg / total       0.97      0.96      0.96      4983\n",
      "\n"
     ]
    },
    {
     "data": {
      "text/plain": [
       "[<matplotlib.text.Text at 0x1513fb38>, <matplotlib.text.Text at 0x181472e8>]"
      ]
     },
     "execution_count": 87,
     "metadata": {},
     "output_type": "execute_result"
    },
    {
     "data": {
      "image/png": "[encoded data removed]",
      "text/plain": [
       "<matplotlib.figure.Figure at 0x1513fa58>"
      ]
     },
     "metadata": {},
     "output_type": "display_data"
    }
   ],
   "source": [
    "#rfBestScores[7]\n",
    "\n",
    "mod = RandomForestClassifier(min_samples_split=64, class_weight={0:1,1:16}, max_depth=16, n_estimators=256, random_state=43)\n",
    "\n",
    "mod.fit(X, y)\n",
    "\n",
    "preds = mod.predict(X)\n",
    "print classification_report(y, preds)\n",
    "\n",
    "cMat = confusion_matrix(y, preds)\n",
    "ax = sn.heatmap(cMat, annot=True, fmt=\"d\")\n",
    "ax.set(xlabel='predicted', ylabel='actual')"
   ]
  },
  {
   "cell_type": "code",
   "execution_count": 96,
   "metadata": {
    "collapsed": false
   },
   "outputs": [
    {
     "name": "stdout",
     "output_type": "stream",
     "text": [
      "             precision    recall  f1-score   support\n",
      "\n",
      "          0       1.00      0.96      0.98      4625\n",
      "          1       0.64      0.94      0.76       358\n",
      "\n",
      "avg / total       0.97      0.96      0.96      4983\n",
      "\n"
     ]
    },
    {
     "data": {
      "text/plain": [
       "[<matplotlib.text.Text at 0x18f27128>, <matplotlib.text.Text at 0x1512b908>]"
      ]
     },
     "execution_count": 96,
     "metadata": {},
     "output_type": "execute_result"
    },
    {
     "data": {
      "image/png": "[encoded data removed]",
      "text/plain": [
       "<matplotlib.figure.Figure at 0x184e29e8>"
      ]
     },
     "metadata": {},
     "output_type": "display_data"
    }
   ],
   "source": [
    "#rfBestScores[7]\n",
    "\n",
    "mod = RandomForestClassifier(min_samples_split=64, class_weight={0:1,1:16}, max_depth=32, n_estimators=128, random_state=43)\n",
    "\n",
    "mod.fit(X, y)\n",
    "\n",
    "preds = mod.predict(X)\n",
    "print classification_report(y, preds)\n",
    "\n",
    "cMat = confusion_matrix(y, preds)\n",
    "ax = sn.heatmap(cMat, annot=True, fmt=\"d\")\n",
    "ax.set(xlabel='predicted', ylabel='actual')"
   ]
  },
  {
   "cell_type": "code",
   "execution_count": 45,
   "metadata": {
    "collapsed": false
   },
   "outputs": [
    {
     "data": {
      "image/png": "[encoded data removed]",
      "text/plain": [
       "<matplotlib.figure.Figure at 0x10934cf8>"
      ]
     },
     "metadata": {},
     "output_type": "display_data"
    }
   ],
   "source": [
    "from sklearn.ensemble import AdaBoostClassifier\n",
    "\n",
    "pGrid = {\"n_estimators\":[8,16,32,64,128],\n",
    "         \"learning_rate\":[.01, .1, .5, 1, 2, 4, 16],\n",
    "         \"random_state\":[43]\n",
    "        }\n",
    "\n",
    "abScores = gridSearchPrecRec(X, y, AdaBoostClassifier(), pGrid)\n",
    "\n",
    "abBestScores, abOtherScores = getBestScores(abScores)\n",
    "\n",
    "labelPlotScores(abBestScores, abOtherScores)"
   ]
  },
  {
   "cell_type": "code",
   "execution_count": 40,
   "metadata": {
    "collapsed": false
   },
   "outputs": [
    {
     "name": "stdout",
     "output_type": "stream",
     "text": [
      "             precision    recall  f1-score   support\n",
      "\n",
      "          0       0.87      0.23      0.37      4746\n",
      "          1       0.05      0.55      0.10       361\n",
      "\n",
      "avg / total       0.81      0.25      0.35      5107\n",
      "\n"
     ]
    },
    {
     "data": {
      "text/plain": [
       "[<matplotlib.text.Text at 0x104f4128>, <matplotlib.text.Text at 0x1448c898>]"
      ]
     },
     "execution_count": 40,
     "metadata": {},
     "output_type": "execute_result"
    },
    {
     "data": {
      "image/png": "[encoded data removed]",
      "text/plain": [
       "<matplotlib.figure.Figure at 0x1053e358>"
      ]
     },
     "metadata": {},
     "output_type": "display_data"
    }
   ],
   "source": [
    "mod = AdaBoostClassifier(learning_rate= 2, n_estimators=8, random_state=43)\n",
    "\n",
    "mod.fit(X, y)\n",
    "\n",
    "preds = mod.predict(X)\n",
    "print classification_report(y, preds)\n",
    "\n",
    "cMat = confusion_matrix(y, preds)\n",
    "ax = sn.heatmap(cMat, annot=True, fmt=\"d\")\n",
    "ax.set(xlabel='predicted', ylabel='actual')"
   ]
  },
  {
   "cell_type": "code",
   "execution_count": 225,
   "metadata": {
    "collapsed": false
   },
   "outputs": [
    {
     "data": {
      "image/png": "[encoded data removed]",
      "text/plain": [
       "<matplotlib.figure.Figure at 0x174fdeb8>"
      ]
     },
     "metadata": {},
     "output_type": "display_data"
    }
   ],
   "source": [
    "plt.plot([x[0] for x in rfBestScores], [x[1] for x in rfBestScores],'go')\n",
    "plt.plot([x[0] for x in dTreeBestScores], [x[1] for x in dTreeBestScores],'bo')\n",
    "plt.xlabel('recall')\n",
    "plt.ylabel('precision')\n",
    "axes = plt.gca()\n",
    "axes.set_xlim([0,1])\n",
    "axes.set_ylim([0,1])\n",
    "\n",
    "plt.show()"
   ]
  },
  {
   "cell_type": "code",
   "execution_count": 42,
   "metadata": {
    "collapsed": false
   },
   "outputs": [
    {
     "ename": "NameError",
     "evalue": "name 'rfBestScores' is not defined",
     "output_type": "error",
     "traceback": [
      "\u001b[0;31m---------------------------------------------------------------------------\u001b[0m",
      "\u001b[0;31mNameError\u001b[0m                                 Traceback (most recent call last)",
      "\u001b[0;32m<ipython-input-42-09d606cd3429>\u001b[0m in \u001b[0;36m<module>\u001b[0;34m()\u001b[0m\n\u001b[0;32m----> 1\u001b[0;31m \u001b[0mrfBestScores\u001b[0m\u001b[1;33m[\u001b[0m\u001b[1;36m0\u001b[0m\u001b[1;33m]\u001b[0m\u001b[1;33m\u001b[0m\u001b[0m\n\u001b[0m",
      "\u001b[0;31mNameError\u001b[0m: name 'rfBestScores' is not defined"
     ]
    }
   ],
   "source": [
    "rfBestScores[0]"
   ]
  },
  {
   "cell_type": "code",
   "execution_count": 97,
   "metadata": {
    "collapsed": false
   },
   "outputs": [
    {
     "name": "stdout",
     "output_type": "stream",
     "text": [
      "    H4MI13 : 0.0439  wave4\n",
      "    H4HR8F : 0.0355  wave4\n",
      "   H4MI1_0 : 0.0301  wave4\n",
      "     H4CJ5 : 0.0293  wave4\n",
      "    H4SE25 : 0.0270  wave4\n",
      "    H4HR8H : 0.0244  wave4\n",
      "    H4LM13 : 0.0186  wave4\n",
      "    H4HR8I : 0.0172  wave4\n",
      "    H4LM19 : 0.0130  wave4\n",
      "     H4GH9 : 0.0129  wave4\n",
      "  H4WP38_3 : 0.0129  wave4\n",
      " H4DA8_2.0 : 0.0127  wave4\n",
      "    H4LM14 : 0.0126  wave4\n",
      "    H4GH3M : 0.0113  wave4\n",
      "     H4SBP : 0.0111  wave4\n",
      "    H4GH3Y : 0.0105  wave4\n",
      "   H4CJ25M : 0.0100  wave4\n",
      "     H4WP4 : 0.0097  wave4\n",
      "   H4MI11M : 0.0094  wave4\n",
      "  H4RE11_4 : 0.0093  wave4\n"
     ]
    }
   ],
   "source": [
    "featNms = zip(XNms, mod.feature_importances_)\n",
    "\n",
    "featNms = sorted(featNms, key=lambda(x): x[1], reverse=True)\n",
    "\n",
    "for grp in featNms[:20]:\n",
    "    colKey = grp[0]\n",
    "    if \"_\" in colKey:\n",
    "        colKey = colKey[:colKey.rfind('_')]\n",
    "    \n",
    "    print(\"%10s : %6.4f  %s\" % (grp[0], grp[1], colMap[colKey][0]))"
   ]
  },
  {
   "cell_type": "code",
   "execution_count": 98,
   "metadata": {
    "collapsed": false
   },
   "outputs": [
    {
     "data": {
      "text/plain": [
       "RandomForestClassifier(bootstrap=True, class_weight={0: 1, 1: 16},\n",
       "            criterion='gini', max_depth=32, max_features='auto',\n",
       "            max_leaf_nodes=None, min_impurity_split=1e-07,\n",
       "            min_samples_leaf=1, min_samples_split=64,\n",
       "            min_weight_fraction_leaf=0.0, n_estimators=128, n_jobs=1,\n",
       "            oob_score=False, random_state=43, verbose=0, warm_start=False)"
      ]
     },
     "execution_count": 98,
     "metadata": {},
     "output_type": "execute_result"
    }
   ],
   "source": [
    "mod"
   ]
  },
  {
   "cell_type": "code",
   "execution_count": 91,
   "metadata": {
    "collapsed": false
   },
   "outputs": [
    {
     "data": {
      "text/plain": [
       "('Unnamed: 0', 0.0105843986342785)"
      ]
     },
     "execution_count": 91,
     "metadata": {},
     "output_type": "execute_result"
    }
   ],
   "source": [
    "featNms[14]"
   ]
  },
  {
   "cell_type": "code",
   "execution_count": 93,
   "metadata": {
    "collapsed": false
   },
   "outputs": [
    {
     "data": {
      "text/plain": [
       "0          0\n",
       "1          1\n",
       "2          2\n",
       "3          3\n",
       "4          4\n",
       "5          5\n",
       "6          6\n",
       "7          8\n",
       "8          9\n",
       "9         10\n",
       "10        11\n",
       "11        12\n",
       "12        13\n",
       "13        14\n",
       "14        15\n",
       "15        16\n",
       "16        17\n",
       "17        18\n",
       "18        19\n",
       "19        20\n",
       "20        21\n",
       "21        22\n",
       "22        23\n",
       "23        24\n",
       "24        25\n",
       "25        26\n",
       "26        27\n",
       "27        28\n",
       "28        29\n",
       "29        30\n",
       "        ... \n",
       "4953    5083\n",
       "4954    5084\n",
       "4955    5085\n",
       "4956    5086\n",
       "4957    5087\n",
       "4958    5088\n",
       "4959    5089\n",
       "4960    5090\n",
       "4961    5092\n",
       "4962    5093\n",
       "4963    5094\n",
       "4964    5095\n",
       "4965    5096\n",
       "4966    5097\n",
       "4967    5098\n",
       "4968    5099\n",
       "4969    5100\n",
       "4970    5101\n",
       "4971    5102\n",
       "4972    5103\n",
       "4973    5104\n",
       "4974    5105\n",
       "4975    5106\n",
       "4976    5107\n",
       "4977    5108\n",
       "4978    5109\n",
       "4979    5110\n",
       "4980    5111\n",
       "4981    5112\n",
       "4982    5113\n",
       "Name: Unnamed: 0, dtype: int64"
      ]
     },
     "execution_count": 93,
     "metadata": {},
     "output_type": "execute_result"
    }
   ],
   "source": [
    "df[]"
   ]
  }
 ],
 "metadata": {
  "kernelspec": {
   "display_name": "Python 2",
   "language": "python",
   "name": "python2"
  },
  "language_info": {
   "codemirror_mode": {
    "name": "ipython",
    "version": 2
   },
   "file_extension": ".py",
   "mimetype": "text/x-python",
   "name": "python",
   "nbconvert_exporter": "python",
   "pygments_lexer": "ipython2",
   "version": "2.7.13"
  }
 },
 "nbformat": 4,
 "nbformat_minor": 2
}
